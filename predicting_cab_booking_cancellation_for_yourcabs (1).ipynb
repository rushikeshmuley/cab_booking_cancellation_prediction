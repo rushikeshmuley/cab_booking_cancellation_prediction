{
  "cells": [
    {
      "cell_type": "code",
      "execution_count": 1,
      "metadata": {
        "id": "dc26e544"
      },
      "outputs": [],
      "source": [
        "\n",
        "# importing necessary libraries\n",
        "import numpy as np\n",
        "import pandas as pd\n",
        "import matplotlib.pyplot as plt\n",
        "import seaborn as sns"
      ],
      "id": "dc26e544"
    },
    {
      "cell_type": "code",
      "source": [
        "# importing libraries\n",
        "!pip install catboost\n",
        "import pandas as pd\n",
        "import numpy as np\n",
        "import matplotlib.pyplot as plt\n",
        "import seaborn as sns\n",
        "import missingno as msno\n",
        "\n",
        "import warnings\n",
        "warnings.filterwarnings('ignore')\n",
        "\n",
        "from sklearn.model_selection import train_test_split, GridSearchCV\n",
        "from sklearn.preprocessing import StandardScaler\n",
        "from sklearn.metrics import accuracy_score, confusion_matrix, classification_report\n",
        "from sklearn.linear_model import LogisticRegression\n",
        "from sklearn.neighbors import KNeighborsClassifier\n",
        "from sklearn.svm import SVC\n",
        "from sklearn.tree import DecisionTreeClassifier\n",
        "from sklearn.ensemble import RandomForestClassifier\n",
        "from sklearn.ensemble import RandomForestClassifier\n",
        "from sklearn.ensemble import AdaBoostClassifier\n",
        "from sklearn.ensemble import GradientBoostingClassifier\n",
        "from xgboost import XGBClassifier\n",
        "from catboost import CatBoostClassifier\n",
        "from sklearn.ensemble import ExtraTreesClassifier\n",
        "from lightgbm import LGBMClassifier\n",
        "from sklearn.ensemble import VotingClassifier\n",
        "\n",
        "import folium\n",
        "from folium.plugins import HeatMap\n",
        "import plotly.express as px\n",
        "\n",
        "plt.style.use('fivethirtyeight')\n",
        "%matplotlib inline\n",
        "pd.set_option('display.max_columns', 32)"
      ],
      "metadata": {
        "colab": {
          "base_uri": "https://localhost:8080/"
        },
        "id": "VB66vRyZtIUT",
        "outputId": "31f8e520-afa8-42b7-b1f6-acf5d3075c34"
      },
      "id": "VB66vRyZtIUT",
      "execution_count": 72,
      "outputs": [
        {
          "output_type": "stream",
          "name": "stdout",
          "text": [
            "Looking in indexes: https://pypi.org/simple, https://us-python.pkg.dev/colab-wheels/public/simple/\n",
            "Collecting catboost\n",
            "  Downloading catboost-1.1.1-cp39-none-manylinux1_x86_64.whl (76.6 MB)\n",
            "\u001b[2K     \u001b[90m━━━━━━━━━━━━━━━━━━━━━━━━━━━━━━━━━━━━━━━━\u001b[0m \u001b[32m76.6/76.6 MB\u001b[0m \u001b[31m6.9 MB/s\u001b[0m eta \u001b[36m0:00:00\u001b[0m\n",
            "\u001b[?25hRequirement already satisfied: graphviz in /usr/local/lib/python3.9/dist-packages (from catboost) (0.20.1)\n",
            "Requirement already satisfied: numpy>=1.16.0 in /usr/local/lib/python3.9/dist-packages (from catboost) (1.22.4)\n",
            "Requirement already satisfied: plotly in /usr/local/lib/python3.9/dist-packages (from catboost) (5.13.1)\n",
            "Requirement already satisfied: six in /usr/local/lib/python3.9/dist-packages (from catboost) (1.16.0)\n",
            "Requirement already satisfied: scipy in /usr/local/lib/python3.9/dist-packages (from catboost) (1.10.1)\n",
            "Requirement already satisfied: pandas>=0.24.0 in /usr/local/lib/python3.9/dist-packages (from catboost) (1.5.3)\n",
            "Requirement already satisfied: matplotlib in /usr/local/lib/python3.9/dist-packages (from catboost) (3.7.1)\n",
            "Requirement already satisfied: python-dateutil>=2.8.1 in /usr/local/lib/python3.9/dist-packages (from pandas>=0.24.0->catboost) (2.8.2)\n",
            "Requirement already satisfied: pytz>=2020.1 in /usr/local/lib/python3.9/dist-packages (from pandas>=0.24.0->catboost) (2022.7.1)\n",
            "Requirement already satisfied: kiwisolver>=1.0.1 in /usr/local/lib/python3.9/dist-packages (from matplotlib->catboost) (1.4.4)\n",
            "Requirement already satisfied: fonttools>=4.22.0 in /usr/local/lib/python3.9/dist-packages (from matplotlib->catboost) (4.39.3)\n",
            "Requirement already satisfied: importlib-resources>=3.2.0 in /usr/local/lib/python3.9/dist-packages (from matplotlib->catboost) (5.12.0)\n",
            "Requirement already satisfied: pillow>=6.2.0 in /usr/local/lib/python3.9/dist-packages (from matplotlib->catboost) (8.4.0)\n",
            "Requirement already satisfied: cycler>=0.10 in /usr/local/lib/python3.9/dist-packages (from matplotlib->catboost) (0.11.0)\n",
            "Requirement already satisfied: packaging>=20.0 in /usr/local/lib/python3.9/dist-packages (from matplotlib->catboost) (23.0)\n",
            "Requirement already satisfied: pyparsing>=2.3.1 in /usr/local/lib/python3.9/dist-packages (from matplotlib->catboost) (3.0.9)\n",
            "Requirement already satisfied: contourpy>=1.0.1 in /usr/local/lib/python3.9/dist-packages (from matplotlib->catboost) (1.0.7)\n",
            "Requirement already satisfied: tenacity>=6.2.0 in /usr/local/lib/python3.9/dist-packages (from plotly->catboost) (8.2.2)\n",
            "Requirement already satisfied: zipp>=3.1.0 in /usr/local/lib/python3.9/dist-packages (from importlib-resources>=3.2.0->matplotlib->catboost) (3.15.0)\n",
            "Installing collected packages: catboost\n",
            "Successfully installed catboost-1.1.1\n"
          ]
        }
      ]
    },
    {
      "cell_type": "code",
      "execution_count": 2,
      "metadata": {
        "id": "3c45af55"
      },
      "outputs": [],
      "source": [
        "from geopy import distance"
      ],
      "id": "3c45af55"
    },
    {
      "cell_type": "markdown",
      "metadata": {
        "id": "d5f99eec"
      },
      "source": [
        "## Importing Data"
      ],
      "id": "d5f99eec"
    },
    {
      "cell_type": "code",
      "execution_count": 3,
      "metadata": {
        "id": "d97f2438"
      },
      "outputs": [],
      "source": [
        "df = pd.read_csv('YourCabs.csv')"
      ],
      "id": "d97f2438"
    },
    {
      "cell_type": "code",
      "execution_count": 4,
      "metadata": {
        "colab": {
          "base_uri": "https://localhost:8080/",
          "height": 357
        },
        "id": "df8aa06c",
        "outputId": "c600c720-08b3-405a-d624-e9630abb9d8f"
      },
      "outputs": [
        {
          "output_type": "execute_result",
          "data": {
            "text/plain": [
              "       id  user_id  vehicle_model_id  package_id  travel_type_id  \\\n",
              "0  132512    22177                28         NaN               2   \n",
              "1  132513    21413                12         NaN               2   \n",
              "2  132514    22178                12         NaN               2   \n",
              "3  132515    13034                12         NaN               2   \n",
              "4  132517    22180                12         NaN               2   \n",
              "\n",
              "   from_area_id  to_area_id  from_city_id  to_city_id      from_date  to_date  \\\n",
              "0          83.0       448.0           NaN         NaN  1/1/2013 2:00      NaN   \n",
              "1        1010.0       540.0           NaN         NaN  1/1/2013 9:00      NaN   \n",
              "2        1301.0      1034.0           NaN         NaN  1/1/2013 3:30      NaN   \n",
              "3         768.0       398.0           NaN         NaN  1/1/2013 5:45      NaN   \n",
              "4        1365.0       849.0           NaN         NaN  1/1/2013 9:00      NaN   \n",
              "\n",
              "   online_booking  mobile_site_booking booking_created   from_lat  from_long  \\\n",
              "0               0                    0   1/1/2013 1:39  12.924150  77.672290   \n",
              "1               0                    0   1/1/2013 2:25  12.966910  77.749350   \n",
              "2               0                    0   1/1/2013 3:08  12.937222  77.626915   \n",
              "3               0                    0   1/1/2013 4:39  12.989990  77.553320   \n",
              "4               0                    0   1/1/2013 7:53  12.845653  77.677925   \n",
              "\n",
              "      to_lat    to_long  Car_Cancellation  \n",
              "0  12.927320  77.635750                 0  \n",
              "1  12.927680  77.626640                 0  \n",
              "2  13.047926  77.597766                 0  \n",
              "3  12.971430  77.639140                 0  \n",
              "4  12.954340  77.600720                 0  "
            ],
            "text/html": [
              "\n",
              "  <div id=\"df-01bff7de-8161-401e-9a38-2a44c124a455\">\n",
              "    <div class=\"colab-df-container\">\n",
              "      <div>\n",
              "<style scoped>\n",
              "    .dataframe tbody tr th:only-of-type {\n",
              "        vertical-align: middle;\n",
              "    }\n",
              "\n",
              "    .dataframe tbody tr th {\n",
              "        vertical-align: top;\n",
              "    }\n",
              "\n",
              "    .dataframe thead th {\n",
              "        text-align: right;\n",
              "    }\n",
              "</style>\n",
              "<table border=\"1\" class=\"dataframe\">\n",
              "  <thead>\n",
              "    <tr style=\"text-align: right;\">\n",
              "      <th></th>\n",
              "      <th>id</th>\n",
              "      <th>user_id</th>\n",
              "      <th>vehicle_model_id</th>\n",
              "      <th>package_id</th>\n",
              "      <th>travel_type_id</th>\n",
              "      <th>from_area_id</th>\n",
              "      <th>to_area_id</th>\n",
              "      <th>from_city_id</th>\n",
              "      <th>to_city_id</th>\n",
              "      <th>from_date</th>\n",
              "      <th>to_date</th>\n",
              "      <th>online_booking</th>\n",
              "      <th>mobile_site_booking</th>\n",
              "      <th>booking_created</th>\n",
              "      <th>from_lat</th>\n",
              "      <th>from_long</th>\n",
              "      <th>to_lat</th>\n",
              "      <th>to_long</th>\n",
              "      <th>Car_Cancellation</th>\n",
              "    </tr>\n",
              "  </thead>\n",
              "  <tbody>\n",
              "    <tr>\n",
              "      <th>0</th>\n",
              "      <td>132512</td>\n",
              "      <td>22177</td>\n",
              "      <td>28</td>\n",
              "      <td>NaN</td>\n",
              "      <td>2</td>\n",
              "      <td>83.0</td>\n",
              "      <td>448.0</td>\n",
              "      <td>NaN</td>\n",
              "      <td>NaN</td>\n",
              "      <td>1/1/2013 2:00</td>\n",
              "      <td>NaN</td>\n",
              "      <td>0</td>\n",
              "      <td>0</td>\n",
              "      <td>1/1/2013 1:39</td>\n",
              "      <td>12.924150</td>\n",
              "      <td>77.672290</td>\n",
              "      <td>12.927320</td>\n",
              "      <td>77.635750</td>\n",
              "      <td>0</td>\n",
              "    </tr>\n",
              "    <tr>\n",
              "      <th>1</th>\n",
              "      <td>132513</td>\n",
              "      <td>21413</td>\n",
              "      <td>12</td>\n",
              "      <td>NaN</td>\n",
              "      <td>2</td>\n",
              "      <td>1010.0</td>\n",
              "      <td>540.0</td>\n",
              "      <td>NaN</td>\n",
              "      <td>NaN</td>\n",
              "      <td>1/1/2013 9:00</td>\n",
              "      <td>NaN</td>\n",
              "      <td>0</td>\n",
              "      <td>0</td>\n",
              "      <td>1/1/2013 2:25</td>\n",
              "      <td>12.966910</td>\n",
              "      <td>77.749350</td>\n",
              "      <td>12.927680</td>\n",
              "      <td>77.626640</td>\n",
              "      <td>0</td>\n",
              "    </tr>\n",
              "    <tr>\n",
              "      <th>2</th>\n",
              "      <td>132514</td>\n",
              "      <td>22178</td>\n",
              "      <td>12</td>\n",
              "      <td>NaN</td>\n",
              "      <td>2</td>\n",
              "      <td>1301.0</td>\n",
              "      <td>1034.0</td>\n",
              "      <td>NaN</td>\n",
              "      <td>NaN</td>\n",
              "      <td>1/1/2013 3:30</td>\n",
              "      <td>NaN</td>\n",
              "      <td>0</td>\n",
              "      <td>0</td>\n",
              "      <td>1/1/2013 3:08</td>\n",
              "      <td>12.937222</td>\n",
              "      <td>77.626915</td>\n",
              "      <td>13.047926</td>\n",
              "      <td>77.597766</td>\n",
              "      <td>0</td>\n",
              "    </tr>\n",
              "    <tr>\n",
              "      <th>3</th>\n",
              "      <td>132515</td>\n",
              "      <td>13034</td>\n",
              "      <td>12</td>\n",
              "      <td>NaN</td>\n",
              "      <td>2</td>\n",
              "      <td>768.0</td>\n",
              "      <td>398.0</td>\n",
              "      <td>NaN</td>\n",
              "      <td>NaN</td>\n",
              "      <td>1/1/2013 5:45</td>\n",
              "      <td>NaN</td>\n",
              "      <td>0</td>\n",
              "      <td>0</td>\n",
              "      <td>1/1/2013 4:39</td>\n",
              "      <td>12.989990</td>\n",
              "      <td>77.553320</td>\n",
              "      <td>12.971430</td>\n",
              "      <td>77.639140</td>\n",
              "      <td>0</td>\n",
              "    </tr>\n",
              "    <tr>\n",
              "      <th>4</th>\n",
              "      <td>132517</td>\n",
              "      <td>22180</td>\n",
              "      <td>12</td>\n",
              "      <td>NaN</td>\n",
              "      <td>2</td>\n",
              "      <td>1365.0</td>\n",
              "      <td>849.0</td>\n",
              "      <td>NaN</td>\n",
              "      <td>NaN</td>\n",
              "      <td>1/1/2013 9:00</td>\n",
              "      <td>NaN</td>\n",
              "      <td>0</td>\n",
              "      <td>0</td>\n",
              "      <td>1/1/2013 7:53</td>\n",
              "      <td>12.845653</td>\n",
              "      <td>77.677925</td>\n",
              "      <td>12.954340</td>\n",
              "      <td>77.600720</td>\n",
              "      <td>0</td>\n",
              "    </tr>\n",
              "  </tbody>\n",
              "</table>\n",
              "</div>\n",
              "      <button class=\"colab-df-convert\" onclick=\"convertToInteractive('df-01bff7de-8161-401e-9a38-2a44c124a455')\"\n",
              "              title=\"Convert this dataframe to an interactive table.\"\n",
              "              style=\"display:none;\">\n",
              "        \n",
              "  <svg xmlns=\"http://www.w3.org/2000/svg\" height=\"24px\"viewBox=\"0 0 24 24\"\n",
              "       width=\"24px\">\n",
              "    <path d=\"M0 0h24v24H0V0z\" fill=\"none\"/>\n",
              "    <path d=\"M18.56 5.44l.94 2.06.94-2.06 2.06-.94-2.06-.94-.94-2.06-.94 2.06-2.06.94zm-11 1L8.5 8.5l.94-2.06 2.06-.94-2.06-.94L8.5 2.5l-.94 2.06-2.06.94zm10 10l.94 2.06.94-2.06 2.06-.94-2.06-.94-.94-2.06-.94 2.06-2.06.94z\"/><path d=\"M17.41 7.96l-1.37-1.37c-.4-.4-.92-.59-1.43-.59-.52 0-1.04.2-1.43.59L10.3 9.45l-7.72 7.72c-.78.78-.78 2.05 0 2.83L4 21.41c.39.39.9.59 1.41.59.51 0 1.02-.2 1.41-.59l7.78-7.78 2.81-2.81c.8-.78.8-2.07 0-2.86zM5.41 20L4 18.59l7.72-7.72 1.47 1.35L5.41 20z\"/>\n",
              "  </svg>\n",
              "      </button>\n",
              "      \n",
              "  <style>\n",
              "    .colab-df-container {\n",
              "      display:flex;\n",
              "      flex-wrap:wrap;\n",
              "      gap: 12px;\n",
              "    }\n",
              "\n",
              "    .colab-df-convert {\n",
              "      background-color: #E8F0FE;\n",
              "      border: none;\n",
              "      border-radius: 50%;\n",
              "      cursor: pointer;\n",
              "      display: none;\n",
              "      fill: #1967D2;\n",
              "      height: 32px;\n",
              "      padding: 0 0 0 0;\n",
              "      width: 32px;\n",
              "    }\n",
              "\n",
              "    .colab-df-convert:hover {\n",
              "      background-color: #E2EBFA;\n",
              "      box-shadow: 0px 1px 2px rgba(60, 64, 67, 0.3), 0px 1px 3px 1px rgba(60, 64, 67, 0.15);\n",
              "      fill: #174EA6;\n",
              "    }\n",
              "\n",
              "    [theme=dark] .colab-df-convert {\n",
              "      background-color: #3B4455;\n",
              "      fill: #D2E3FC;\n",
              "    }\n",
              "\n",
              "    [theme=dark] .colab-df-convert:hover {\n",
              "      background-color: #434B5C;\n",
              "      box-shadow: 0px 1px 3px 1px rgba(0, 0, 0, 0.15);\n",
              "      filter: drop-shadow(0px 1px 2px rgba(0, 0, 0, 0.3));\n",
              "      fill: #FFFFFF;\n",
              "    }\n",
              "  </style>\n",
              "\n",
              "      <script>\n",
              "        const buttonEl =\n",
              "          document.querySelector('#df-01bff7de-8161-401e-9a38-2a44c124a455 button.colab-df-convert');\n",
              "        buttonEl.style.display =\n",
              "          google.colab.kernel.accessAllowed ? 'block' : 'none';\n",
              "\n",
              "        async function convertToInteractive(key) {\n",
              "          const element = document.querySelector('#df-01bff7de-8161-401e-9a38-2a44c124a455');\n",
              "          const dataTable =\n",
              "            await google.colab.kernel.invokeFunction('convertToInteractive',\n",
              "                                                     [key], {});\n",
              "          if (!dataTable) return;\n",
              "\n",
              "          const docLinkHtml = 'Like what you see? Visit the ' +\n",
              "            '<a target=\"_blank\" href=https://colab.research.google.com/notebooks/data_table.ipynb>data table notebook</a>'\n",
              "            + ' to learn more about interactive tables.';\n",
              "          element.innerHTML = '';\n",
              "          dataTable['output_type'] = 'display_data';\n",
              "          await google.colab.output.renderOutput(dataTable, element);\n",
              "          const docLink = document.createElement('div');\n",
              "          docLink.innerHTML = docLinkHtml;\n",
              "          element.appendChild(docLink);\n",
              "        }\n",
              "      </script>\n",
              "    </div>\n",
              "  </div>\n",
              "  "
            ]
          },
          "metadata": {},
          "execution_count": 4
        }
      ],
      "source": [
        "df.head()"
      ],
      "id": "df8aa06c"
    },
    {
      "cell_type": "code",
      "execution_count": 5,
      "metadata": {
        "colab": {
          "base_uri": "https://localhost:8080/"
        },
        "id": "ff5021b0",
        "outputId": "18ef1a89-7639-4c3d-8fcb-0e8f8a415e87"
      },
      "outputs": [
        {
          "output_type": "execute_result",
          "data": {
            "text/plain": [
              "(43431, 19)"
            ]
          },
          "metadata": {},
          "execution_count": 5
        }
      ],
      "source": [
        "\n",
        "# no of rows and columns i dataset\n",
        "df.shape"
      ],
      "id": "ff5021b0"
    },
    {
      "cell_type": "code",
      "execution_count": 6,
      "metadata": {
        "colab": {
          "base_uri": "https://localhost:8080/"
        },
        "id": "uF7RchjH-_uW",
        "outputId": "1f2c3f4d-ad32-4f0e-e125-68b4a2a53da0"
      },
      "outputs": [
        {
          "output_type": "execute_result",
          "data": {
            "text/plain": [
              "Index(['id', 'user_id', 'vehicle_model_id', 'package_id', 'travel_type_id',\n",
              "       'from_area_id', 'to_area_id', 'from_city_id', 'to_city_id', 'from_date',\n",
              "       'to_date', 'online_booking', 'mobile_site_booking', 'booking_created',\n",
              "       'from_lat', 'from_long', 'to_lat', 'to_long', 'Car_Cancellation'],\n",
              "      dtype='object')"
            ]
          },
          "metadata": {},
          "execution_count": 6
        }
      ],
      "source": [
        "# no of columns in the dataset\n",
        "df.columns"
      ],
      "id": "uF7RchjH-_uW"
    },
    {
      "cell_type": "code",
      "source": [
        "df.describe()"
      ],
      "metadata": {
        "colab": {
          "base_uri": "https://localhost:8080/",
          "height": 364
        },
        "id": "GE9Kdj-O3fpW",
        "outputId": "3b698bee-27fb-4efa-c376-45f3396611ab"
      },
      "id": "GE9Kdj-O3fpW",
      "execution_count": 7,
      "outputs": [
        {
          "output_type": "execute_result",
          "data": {
            "text/plain": [
              "                  id       user_id  vehicle_model_id   package_id  \\\n",
              "count   43431.000000  43431.000000       43431.00000  7550.000000   \n",
              "mean   159206.473556  30739.198153          25.71723     2.030066   \n",
              "std     15442.386279  10996.476709          26.79825     1.461756   \n",
              "min    132512.000000     16.000000           1.00000     1.000000   \n",
              "25%    145778.000000  24614.000000          12.00000     1.000000   \n",
              "50%    159248.000000  31627.000000          12.00000     2.000000   \n",
              "75%    172578.500000  39167.000000          24.00000     2.000000   \n",
              "max    185941.000000  48730.000000          91.00000     7.000000   \n",
              "\n",
              "       travel_type_id  from_area_id    to_area_id  from_city_id   to_city_id  \\\n",
              "count    43431.000000  43343.000000  34293.000000  16345.000000  1588.000000   \n",
              "mean         2.137252    714.544494    669.490917     14.915081    68.537783   \n",
              "std          0.437712    419.883553    400.638225      1.165306    49.880732   \n",
              "min          1.000000      2.000000      2.000000      1.000000     4.000000   \n",
              "25%          2.000000    393.000000    393.000000     15.000000    32.000000   \n",
              "50%          2.000000    590.000000    541.000000     15.000000    49.000000   \n",
              "75%          2.000000   1089.000000   1054.000000     15.000000   108.000000   \n",
              "max          3.000000   1403.000000   1403.000000     31.000000   203.000000   \n",
              "\n",
              "            to_date  online_booking  mobile_site_booking      from_lat  \\\n",
              "count  25541.000000    43431.000000         43431.000000  43338.000000   \n",
              "mean   41507.974840        0.351592             0.043241     12.982461   \n",
              "std      305.144945        0.477473             0.203402      0.085933   \n",
              "min    25569.020830        0.000000             0.000000     12.776630   \n",
              "25%    41480.521110        0.000000             0.000000     12.926450   \n",
              "50%    41517.761550        0.000000             0.000000     12.968887   \n",
              "75%    41558.914630        1.000000             0.000000     13.007750   \n",
              "max    41678.275680        1.000000             1.000000     13.366072   \n",
              "\n",
              "          from_long        to_lat       to_long  Car_Cancellation  \n",
              "count  43338.000000  34293.000000  34293.000000      43431.000000  \n",
              "mean      77.636255     13.026648     77.640595          0.072114  \n",
              "std        0.059391      0.113487      0.064045          0.258680  \n",
              "min       77.386930     12.776630     77.386930          0.000000  \n",
              "25%       77.593661     12.951850     77.582030          0.000000  \n",
              "50%       77.635750     12.982750     77.645030          0.000000  \n",
              "75%       77.688900     13.199560     77.706880          0.000000  \n",
              "max       77.786420     13.366072     77.786420          1.000000  "
            ],
            "text/html": [
              "\n",
              "  <div id=\"df-723d5051-51b0-48c8-a268-6b56be548779\">\n",
              "    <div class=\"colab-df-container\">\n",
              "      <div>\n",
              "<style scoped>\n",
              "    .dataframe tbody tr th:only-of-type {\n",
              "        vertical-align: middle;\n",
              "    }\n",
              "\n",
              "    .dataframe tbody tr th {\n",
              "        vertical-align: top;\n",
              "    }\n",
              "\n",
              "    .dataframe thead th {\n",
              "        text-align: right;\n",
              "    }\n",
              "</style>\n",
              "<table border=\"1\" class=\"dataframe\">\n",
              "  <thead>\n",
              "    <tr style=\"text-align: right;\">\n",
              "      <th></th>\n",
              "      <th>id</th>\n",
              "      <th>user_id</th>\n",
              "      <th>vehicle_model_id</th>\n",
              "      <th>package_id</th>\n",
              "      <th>travel_type_id</th>\n",
              "      <th>from_area_id</th>\n",
              "      <th>to_area_id</th>\n",
              "      <th>from_city_id</th>\n",
              "      <th>to_city_id</th>\n",
              "      <th>to_date</th>\n",
              "      <th>online_booking</th>\n",
              "      <th>mobile_site_booking</th>\n",
              "      <th>from_lat</th>\n",
              "      <th>from_long</th>\n",
              "      <th>to_lat</th>\n",
              "      <th>to_long</th>\n",
              "      <th>Car_Cancellation</th>\n",
              "    </tr>\n",
              "  </thead>\n",
              "  <tbody>\n",
              "    <tr>\n",
              "      <th>count</th>\n",
              "      <td>43431.000000</td>\n",
              "      <td>43431.000000</td>\n",
              "      <td>43431.00000</td>\n",
              "      <td>7550.000000</td>\n",
              "      <td>43431.000000</td>\n",
              "      <td>43343.000000</td>\n",
              "      <td>34293.000000</td>\n",
              "      <td>16345.000000</td>\n",
              "      <td>1588.000000</td>\n",
              "      <td>25541.000000</td>\n",
              "      <td>43431.000000</td>\n",
              "      <td>43431.000000</td>\n",
              "      <td>43338.000000</td>\n",
              "      <td>43338.000000</td>\n",
              "      <td>34293.000000</td>\n",
              "      <td>34293.000000</td>\n",
              "      <td>43431.000000</td>\n",
              "    </tr>\n",
              "    <tr>\n",
              "      <th>mean</th>\n",
              "      <td>159206.473556</td>\n",
              "      <td>30739.198153</td>\n",
              "      <td>25.71723</td>\n",
              "      <td>2.030066</td>\n",
              "      <td>2.137252</td>\n",
              "      <td>714.544494</td>\n",
              "      <td>669.490917</td>\n",
              "      <td>14.915081</td>\n",
              "      <td>68.537783</td>\n",
              "      <td>41507.974840</td>\n",
              "      <td>0.351592</td>\n",
              "      <td>0.043241</td>\n",
              "      <td>12.982461</td>\n",
              "      <td>77.636255</td>\n",
              "      <td>13.026648</td>\n",
              "      <td>77.640595</td>\n",
              "      <td>0.072114</td>\n",
              "    </tr>\n",
              "    <tr>\n",
              "      <th>std</th>\n",
              "      <td>15442.386279</td>\n",
              "      <td>10996.476709</td>\n",
              "      <td>26.79825</td>\n",
              "      <td>1.461756</td>\n",
              "      <td>0.437712</td>\n",
              "      <td>419.883553</td>\n",
              "      <td>400.638225</td>\n",
              "      <td>1.165306</td>\n",
              "      <td>49.880732</td>\n",
              "      <td>305.144945</td>\n",
              "      <td>0.477473</td>\n",
              "      <td>0.203402</td>\n",
              "      <td>0.085933</td>\n",
              "      <td>0.059391</td>\n",
              "      <td>0.113487</td>\n",
              "      <td>0.064045</td>\n",
              "      <td>0.258680</td>\n",
              "    </tr>\n",
              "    <tr>\n",
              "      <th>min</th>\n",
              "      <td>132512.000000</td>\n",
              "      <td>16.000000</td>\n",
              "      <td>1.00000</td>\n",
              "      <td>1.000000</td>\n",
              "      <td>1.000000</td>\n",
              "      <td>2.000000</td>\n",
              "      <td>2.000000</td>\n",
              "      <td>1.000000</td>\n",
              "      <td>4.000000</td>\n",
              "      <td>25569.020830</td>\n",
              "      <td>0.000000</td>\n",
              "      <td>0.000000</td>\n",
              "      <td>12.776630</td>\n",
              "      <td>77.386930</td>\n",
              "      <td>12.776630</td>\n",
              "      <td>77.386930</td>\n",
              "      <td>0.000000</td>\n",
              "    </tr>\n",
              "    <tr>\n",
              "      <th>25%</th>\n",
              "      <td>145778.000000</td>\n",
              "      <td>24614.000000</td>\n",
              "      <td>12.00000</td>\n",
              "      <td>1.000000</td>\n",
              "      <td>2.000000</td>\n",
              "      <td>393.000000</td>\n",
              "      <td>393.000000</td>\n",
              "      <td>15.000000</td>\n",
              "      <td>32.000000</td>\n",
              "      <td>41480.521110</td>\n",
              "      <td>0.000000</td>\n",
              "      <td>0.000000</td>\n",
              "      <td>12.926450</td>\n",
              "      <td>77.593661</td>\n",
              "      <td>12.951850</td>\n",
              "      <td>77.582030</td>\n",
              "      <td>0.000000</td>\n",
              "    </tr>\n",
              "    <tr>\n",
              "      <th>50%</th>\n",
              "      <td>159248.000000</td>\n",
              "      <td>31627.000000</td>\n",
              "      <td>12.00000</td>\n",
              "      <td>2.000000</td>\n",
              "      <td>2.000000</td>\n",
              "      <td>590.000000</td>\n",
              "      <td>541.000000</td>\n",
              "      <td>15.000000</td>\n",
              "      <td>49.000000</td>\n",
              "      <td>41517.761550</td>\n",
              "      <td>0.000000</td>\n",
              "      <td>0.000000</td>\n",
              "      <td>12.968887</td>\n",
              "      <td>77.635750</td>\n",
              "      <td>12.982750</td>\n",
              "      <td>77.645030</td>\n",
              "      <td>0.000000</td>\n",
              "    </tr>\n",
              "    <tr>\n",
              "      <th>75%</th>\n",
              "      <td>172578.500000</td>\n",
              "      <td>39167.000000</td>\n",
              "      <td>24.00000</td>\n",
              "      <td>2.000000</td>\n",
              "      <td>2.000000</td>\n",
              "      <td>1089.000000</td>\n",
              "      <td>1054.000000</td>\n",
              "      <td>15.000000</td>\n",
              "      <td>108.000000</td>\n",
              "      <td>41558.914630</td>\n",
              "      <td>1.000000</td>\n",
              "      <td>0.000000</td>\n",
              "      <td>13.007750</td>\n",
              "      <td>77.688900</td>\n",
              "      <td>13.199560</td>\n",
              "      <td>77.706880</td>\n",
              "      <td>0.000000</td>\n",
              "    </tr>\n",
              "    <tr>\n",
              "      <th>max</th>\n",
              "      <td>185941.000000</td>\n",
              "      <td>48730.000000</td>\n",
              "      <td>91.00000</td>\n",
              "      <td>7.000000</td>\n",
              "      <td>3.000000</td>\n",
              "      <td>1403.000000</td>\n",
              "      <td>1403.000000</td>\n",
              "      <td>31.000000</td>\n",
              "      <td>203.000000</td>\n",
              "      <td>41678.275680</td>\n",
              "      <td>1.000000</td>\n",
              "      <td>1.000000</td>\n",
              "      <td>13.366072</td>\n",
              "      <td>77.786420</td>\n",
              "      <td>13.366072</td>\n",
              "      <td>77.786420</td>\n",
              "      <td>1.000000</td>\n",
              "    </tr>\n",
              "  </tbody>\n",
              "</table>\n",
              "</div>\n",
              "      <button class=\"colab-df-convert\" onclick=\"convertToInteractive('df-723d5051-51b0-48c8-a268-6b56be548779')\"\n",
              "              title=\"Convert this dataframe to an interactive table.\"\n",
              "              style=\"display:none;\">\n",
              "        \n",
              "  <svg xmlns=\"http://www.w3.org/2000/svg\" height=\"24px\"viewBox=\"0 0 24 24\"\n",
              "       width=\"24px\">\n",
              "    <path d=\"M0 0h24v24H0V0z\" fill=\"none\"/>\n",
              "    <path d=\"M18.56 5.44l.94 2.06.94-2.06 2.06-.94-2.06-.94-.94-2.06-.94 2.06-2.06.94zm-11 1L8.5 8.5l.94-2.06 2.06-.94-2.06-.94L8.5 2.5l-.94 2.06-2.06.94zm10 10l.94 2.06.94-2.06 2.06-.94-2.06-.94-.94-2.06-.94 2.06-2.06.94z\"/><path d=\"M17.41 7.96l-1.37-1.37c-.4-.4-.92-.59-1.43-.59-.52 0-1.04.2-1.43.59L10.3 9.45l-7.72 7.72c-.78.78-.78 2.05 0 2.83L4 21.41c.39.39.9.59 1.41.59.51 0 1.02-.2 1.41-.59l7.78-7.78 2.81-2.81c.8-.78.8-2.07 0-2.86zM5.41 20L4 18.59l7.72-7.72 1.47 1.35L5.41 20z\"/>\n",
              "  </svg>\n",
              "      </button>\n",
              "      \n",
              "  <style>\n",
              "    .colab-df-container {\n",
              "      display:flex;\n",
              "      flex-wrap:wrap;\n",
              "      gap: 12px;\n",
              "    }\n",
              "\n",
              "    .colab-df-convert {\n",
              "      background-color: #E8F0FE;\n",
              "      border: none;\n",
              "      border-radius: 50%;\n",
              "      cursor: pointer;\n",
              "      display: none;\n",
              "      fill: #1967D2;\n",
              "      height: 32px;\n",
              "      padding: 0 0 0 0;\n",
              "      width: 32px;\n",
              "    }\n",
              "\n",
              "    .colab-df-convert:hover {\n",
              "      background-color: #E2EBFA;\n",
              "      box-shadow: 0px 1px 2px rgba(60, 64, 67, 0.3), 0px 1px 3px 1px rgba(60, 64, 67, 0.15);\n",
              "      fill: #174EA6;\n",
              "    }\n",
              "\n",
              "    [theme=dark] .colab-df-convert {\n",
              "      background-color: #3B4455;\n",
              "      fill: #D2E3FC;\n",
              "    }\n",
              "\n",
              "    [theme=dark] .colab-df-convert:hover {\n",
              "      background-color: #434B5C;\n",
              "      box-shadow: 0px 1px 3px 1px rgba(0, 0, 0, 0.15);\n",
              "      filter: drop-shadow(0px 1px 2px rgba(0, 0, 0, 0.3));\n",
              "      fill: #FFFFFF;\n",
              "    }\n",
              "  </style>\n",
              "\n",
              "      <script>\n",
              "        const buttonEl =\n",
              "          document.querySelector('#df-723d5051-51b0-48c8-a268-6b56be548779 button.colab-df-convert');\n",
              "        buttonEl.style.display =\n",
              "          google.colab.kernel.accessAllowed ? 'block' : 'none';\n",
              "\n",
              "        async function convertToInteractive(key) {\n",
              "          const element = document.querySelector('#df-723d5051-51b0-48c8-a268-6b56be548779');\n",
              "          const dataTable =\n",
              "            await google.colab.kernel.invokeFunction('convertToInteractive',\n",
              "                                                     [key], {});\n",
              "          if (!dataTable) return;\n",
              "\n",
              "          const docLinkHtml = 'Like what you see? Visit the ' +\n",
              "            '<a target=\"_blank\" href=https://colab.research.google.com/notebooks/data_table.ipynb>data table notebook</a>'\n",
              "            + ' to learn more about interactive tables.';\n",
              "          element.innerHTML = '';\n",
              "          dataTable['output_type'] = 'display_data';\n",
              "          await google.colab.output.renderOutput(dataTable, element);\n",
              "          const docLink = document.createElement('div');\n",
              "          docLink.innerHTML = docLinkHtml;\n",
              "          element.appendChild(docLink);\n",
              "        }\n",
              "      </script>\n",
              "    </div>\n",
              "  </div>\n",
              "  "
            ]
          },
          "metadata": {},
          "execution_count": 7
        }
      ]
    },
    {
      "cell_type": "code",
      "execution_count": 8,
      "metadata": {
        "id": "8e91e0f0"
      },
      "outputs": [],
      "source": [
        "\n",
        "# dividing data into features and label\n",
        "data = df.drop(['Car_Cancellation'], axis=1)\n",
        "target = df[['Car_Cancellation']]"
      ],
      "id": "8e91e0f0"
    },
    {
      "cell_type": "code",
      "execution_count": 9,
      "metadata": {
        "colab": {
          "base_uri": "https://localhost:8080/"
        },
        "id": "2354a703",
        "outputId": "b3d4ea4a-88d9-486c-a7f8-704fa08267d1"
      },
      "outputs": [
        {
          "output_type": "stream",
          "name": "stdout",
          "text": [
            "<class 'pandas.core.frame.DataFrame'>\n",
            "RangeIndex: 43431 entries, 0 to 43430\n",
            "Data columns (total 18 columns):\n",
            " #   Column               Non-Null Count  Dtype  \n",
            "---  ------               --------------  -----  \n",
            " 0   id                   43431 non-null  int64  \n",
            " 1   user_id              43431 non-null  int64  \n",
            " 2   vehicle_model_id     43431 non-null  int64  \n",
            " 3   package_id           7550 non-null   float64\n",
            " 4   travel_type_id       43431 non-null  int64  \n",
            " 5   from_area_id         43343 non-null  float64\n",
            " 6   to_area_id           34293 non-null  float64\n",
            " 7   from_city_id         16345 non-null  float64\n",
            " 8   to_city_id           1588 non-null   float64\n",
            " 9   from_date            43431 non-null  object \n",
            " 10  to_date              25541 non-null  float64\n",
            " 11  online_booking       43431 non-null  int64  \n",
            " 12  mobile_site_booking  43431 non-null  int64  \n",
            " 13  booking_created      43431 non-null  object \n",
            " 14  from_lat             43338 non-null  float64\n",
            " 15  from_long            43338 non-null  float64\n",
            " 16  to_lat               34293 non-null  float64\n",
            " 17  to_long              34293 non-null  float64\n",
            "dtypes: float64(10), int64(6), object(2)\n",
            "memory usage: 6.0+ MB\n"
          ]
        }
      ],
      "source": [
        "# information about the datatypes\n",
        "data.info()"
      ],
      "id": "2354a703"
    },
    {
      "cell_type": "markdown",
      "metadata": {
        "id": "d26442b6"
      },
      "source": [
        "## Checking for Missing Values"
      ],
      "id": "d26442b6"
    },
    {
      "cell_type": "code",
      "execution_count": 10,
      "metadata": {
        "colab": {
          "base_uri": "https://localhost:8080/"
        },
        "id": "49bb44e0",
        "outputId": "a1c80d7b-a5e2-4216-92c1-b7d8c6e83f81"
      },
      "outputs": [
        {
          "output_type": "execute_result",
          "data": {
            "text/plain": [
              "id                         0\n",
              "user_id                    0\n",
              "vehicle_model_id           0\n",
              "package_id             35881\n",
              "travel_type_id             0\n",
              "from_area_id              88\n",
              "to_area_id              9138\n",
              "from_city_id           27086\n",
              "to_city_id             41843\n",
              "from_date                  0\n",
              "to_date                17890\n",
              "online_booking             0\n",
              "mobile_site_booking        0\n",
              "booking_created            0\n",
              "from_lat                  93\n",
              "from_long                 93\n",
              "to_lat                  9138\n",
              "to_long                 9138\n",
              "dtype: int64"
            ]
          },
          "metadata": {},
          "execution_count": 10
        }
      ],
      "source": [
        "# checking the missing values\n",
        "data.isnull().sum()"
      ],
      "id": "49bb44e0"
    },
    {
      "cell_type": "markdown",
      "metadata": {
        "id": "5d13035d"
      },
      "source": [
        "## Data Cleaning"
      ],
      "id": "5d13035d"
    },
    {
      "cell_type": "code",
      "execution_count": 11,
      "metadata": {
        "id": "92b5b7af"
      },
      "outputs": [],
      "source": [
        "data=data.drop(['id','user_id','package_id','to_area_id','from_city_id','to_city_id','to_date'],axis=1)"
      ],
      "id": "92b5b7af"
    },
    {
      "cell_type": "code",
      "execution_count": 12,
      "metadata": {
        "colab": {
          "base_uri": "https://localhost:8080/"
        },
        "id": "fb45924b",
        "outputId": "5c2bda0d-6253-4f21-a3ad-55957ec6545f"
      },
      "outputs": [
        {
          "output_type": "execute_result",
          "data": {
            "text/plain": [
              "(43431, 11)"
            ]
          },
          "metadata": {},
          "execution_count": 12
        }
      ],
      "source": [
        "data.shape"
      ],
      "id": "fb45924b"
    },
    {
      "cell_type": "code",
      "execution_count": 13,
      "metadata": {
        "colab": {
          "base_uri": "https://localhost:8080/"
        },
        "id": "898d7a6c",
        "outputId": "92601736-eda5-4dbd-80e0-3f01888d9120"
      },
      "outputs": [
        {
          "output_type": "execute_result",
          "data": {
            "text/plain": [
              "12    73.355437\n",
              "85     5.542124\n",
              "89     5.505284\n",
              "65     4.402385\n",
              "28     3.918860\n",
              "24     3.439939\n",
              "87     1.300914\n",
              "90     0.718381\n",
              "23     0.683843\n",
              "86     0.283208\n",
              "10     0.239460\n",
              "64     0.195713\n",
              "54     0.168083\n",
              "17     0.092100\n",
              "91     0.057563\n",
              "30     0.032235\n",
              "36     0.020723\n",
              "13     0.016118\n",
              "72     0.004605\n",
              "1      0.004605\n",
              "43     0.004605\n",
              "14     0.002303\n",
              "69     0.002303\n",
              "76     0.002303\n",
              "75     0.002303\n",
              "70     0.002303\n",
              "39     0.002303\n",
              "Name: vehicle_model_id, dtype: float64"
            ]
          },
          "metadata": {},
          "execution_count": 13
        }
      ],
      "source": [
        "data['vehicle_model_id'].value_counts(normalize=True)*100\n",
        "\n",
        "#so as we can see 12 is covering for 73% of the entire column of vehicle_model_id"
      ],
      "id": "898d7a6c"
    },
    {
      "cell_type": "code",
      "execution_count": 14,
      "metadata": {
        "id": "f9653523"
      },
      "outputs": [],
      "source": [
        "data=data.drop(['vehicle_model_id'],axis=1) #Dropping as single value has more percentage"
      ],
      "id": "f9653523"
    },
    {
      "cell_type": "code",
      "execution_count": 15,
      "metadata": {
        "colab": {
          "base_uri": "https://localhost:8080/",
          "height": 357
        },
        "id": "b52aa15f",
        "outputId": "2588f0c8-c283-4016-dd71-a7c0d8415292"
      },
      "outputs": [
        {
          "output_type": "execute_result",
          "data": {
            "text/plain": [
              "   travel_type_id  from_area_id      from_date  online_booking  \\\n",
              "0               2          83.0  1/1/2013 2:00               0   \n",
              "1               2        1010.0  1/1/2013 9:00               0   \n",
              "2               2        1301.0  1/1/2013 3:30               0   \n",
              "3               2         768.0  1/1/2013 5:45               0   \n",
              "4               2        1365.0  1/1/2013 9:00               0   \n",
              "\n",
              "   mobile_site_booking booking_created   from_lat  from_long     to_lat  \\\n",
              "0                    0   1/1/2013 1:39  12.924150  77.672290  12.927320   \n",
              "1                    0   1/1/2013 2:25  12.966910  77.749350  12.927680   \n",
              "2                    0   1/1/2013 3:08  12.937222  77.626915  13.047926   \n",
              "3                    0   1/1/2013 4:39  12.989990  77.553320  12.971430   \n",
              "4                    0   1/1/2013 7:53  12.845653  77.677925  12.954340   \n",
              "\n",
              "     to_long  \n",
              "0  77.635750  \n",
              "1  77.626640  \n",
              "2  77.597766  \n",
              "3  77.639140  \n",
              "4  77.600720  "
            ],
            "text/html": [
              "\n",
              "  <div id=\"df-48f96118-575b-4f78-86b3-d602b258da06\">\n",
              "    <div class=\"colab-df-container\">\n",
              "      <div>\n",
              "<style scoped>\n",
              "    .dataframe tbody tr th:only-of-type {\n",
              "        vertical-align: middle;\n",
              "    }\n",
              "\n",
              "    .dataframe tbody tr th {\n",
              "        vertical-align: top;\n",
              "    }\n",
              "\n",
              "    .dataframe thead th {\n",
              "        text-align: right;\n",
              "    }\n",
              "</style>\n",
              "<table border=\"1\" class=\"dataframe\">\n",
              "  <thead>\n",
              "    <tr style=\"text-align: right;\">\n",
              "      <th></th>\n",
              "      <th>travel_type_id</th>\n",
              "      <th>from_area_id</th>\n",
              "      <th>from_date</th>\n",
              "      <th>online_booking</th>\n",
              "      <th>mobile_site_booking</th>\n",
              "      <th>booking_created</th>\n",
              "      <th>from_lat</th>\n",
              "      <th>from_long</th>\n",
              "      <th>to_lat</th>\n",
              "      <th>to_long</th>\n",
              "    </tr>\n",
              "  </thead>\n",
              "  <tbody>\n",
              "    <tr>\n",
              "      <th>0</th>\n",
              "      <td>2</td>\n",
              "      <td>83.0</td>\n",
              "      <td>1/1/2013 2:00</td>\n",
              "      <td>0</td>\n",
              "      <td>0</td>\n",
              "      <td>1/1/2013 1:39</td>\n",
              "      <td>12.924150</td>\n",
              "      <td>77.672290</td>\n",
              "      <td>12.927320</td>\n",
              "      <td>77.635750</td>\n",
              "    </tr>\n",
              "    <tr>\n",
              "      <th>1</th>\n",
              "      <td>2</td>\n",
              "      <td>1010.0</td>\n",
              "      <td>1/1/2013 9:00</td>\n",
              "      <td>0</td>\n",
              "      <td>0</td>\n",
              "      <td>1/1/2013 2:25</td>\n",
              "      <td>12.966910</td>\n",
              "      <td>77.749350</td>\n",
              "      <td>12.927680</td>\n",
              "      <td>77.626640</td>\n",
              "    </tr>\n",
              "    <tr>\n",
              "      <th>2</th>\n",
              "      <td>2</td>\n",
              "      <td>1301.0</td>\n",
              "      <td>1/1/2013 3:30</td>\n",
              "      <td>0</td>\n",
              "      <td>0</td>\n",
              "      <td>1/1/2013 3:08</td>\n",
              "      <td>12.937222</td>\n",
              "      <td>77.626915</td>\n",
              "      <td>13.047926</td>\n",
              "      <td>77.597766</td>\n",
              "    </tr>\n",
              "    <tr>\n",
              "      <th>3</th>\n",
              "      <td>2</td>\n",
              "      <td>768.0</td>\n",
              "      <td>1/1/2013 5:45</td>\n",
              "      <td>0</td>\n",
              "      <td>0</td>\n",
              "      <td>1/1/2013 4:39</td>\n",
              "      <td>12.989990</td>\n",
              "      <td>77.553320</td>\n",
              "      <td>12.971430</td>\n",
              "      <td>77.639140</td>\n",
              "    </tr>\n",
              "    <tr>\n",
              "      <th>4</th>\n",
              "      <td>2</td>\n",
              "      <td>1365.0</td>\n",
              "      <td>1/1/2013 9:00</td>\n",
              "      <td>0</td>\n",
              "      <td>0</td>\n",
              "      <td>1/1/2013 7:53</td>\n",
              "      <td>12.845653</td>\n",
              "      <td>77.677925</td>\n",
              "      <td>12.954340</td>\n",
              "      <td>77.600720</td>\n",
              "    </tr>\n",
              "  </tbody>\n",
              "</table>\n",
              "</div>\n",
              "      <button class=\"colab-df-convert\" onclick=\"convertToInteractive('df-48f96118-575b-4f78-86b3-d602b258da06')\"\n",
              "              title=\"Convert this dataframe to an interactive table.\"\n",
              "              style=\"display:none;\">\n",
              "        \n",
              "  <svg xmlns=\"http://www.w3.org/2000/svg\" height=\"24px\"viewBox=\"0 0 24 24\"\n",
              "       width=\"24px\">\n",
              "    <path d=\"M0 0h24v24H0V0z\" fill=\"none\"/>\n",
              "    <path d=\"M18.56 5.44l.94 2.06.94-2.06 2.06-.94-2.06-.94-.94-2.06-.94 2.06-2.06.94zm-11 1L8.5 8.5l.94-2.06 2.06-.94-2.06-.94L8.5 2.5l-.94 2.06-2.06.94zm10 10l.94 2.06.94-2.06 2.06-.94-2.06-.94-.94-2.06-.94 2.06-2.06.94z\"/><path d=\"M17.41 7.96l-1.37-1.37c-.4-.4-.92-.59-1.43-.59-.52 0-1.04.2-1.43.59L10.3 9.45l-7.72 7.72c-.78.78-.78 2.05 0 2.83L4 21.41c.39.39.9.59 1.41.59.51 0 1.02-.2 1.41-.59l7.78-7.78 2.81-2.81c.8-.78.8-2.07 0-2.86zM5.41 20L4 18.59l7.72-7.72 1.47 1.35L5.41 20z\"/>\n",
              "  </svg>\n",
              "      </button>\n",
              "      \n",
              "  <style>\n",
              "    .colab-df-container {\n",
              "      display:flex;\n",
              "      flex-wrap:wrap;\n",
              "      gap: 12px;\n",
              "    }\n",
              "\n",
              "    .colab-df-convert {\n",
              "      background-color: #E8F0FE;\n",
              "      border: none;\n",
              "      border-radius: 50%;\n",
              "      cursor: pointer;\n",
              "      display: none;\n",
              "      fill: #1967D2;\n",
              "      height: 32px;\n",
              "      padding: 0 0 0 0;\n",
              "      width: 32px;\n",
              "    }\n",
              "\n",
              "    .colab-df-convert:hover {\n",
              "      background-color: #E2EBFA;\n",
              "      box-shadow: 0px 1px 2px rgba(60, 64, 67, 0.3), 0px 1px 3px 1px rgba(60, 64, 67, 0.15);\n",
              "      fill: #174EA6;\n",
              "    }\n",
              "\n",
              "    [theme=dark] .colab-df-convert {\n",
              "      background-color: #3B4455;\n",
              "      fill: #D2E3FC;\n",
              "    }\n",
              "\n",
              "    [theme=dark] .colab-df-convert:hover {\n",
              "      background-color: #434B5C;\n",
              "      box-shadow: 0px 1px 3px 1px rgba(0, 0, 0, 0.15);\n",
              "      filter: drop-shadow(0px 1px 2px rgba(0, 0, 0, 0.3));\n",
              "      fill: #FFFFFF;\n",
              "    }\n",
              "  </style>\n",
              "\n",
              "      <script>\n",
              "        const buttonEl =\n",
              "          document.querySelector('#df-48f96118-575b-4f78-86b3-d602b258da06 button.colab-df-convert');\n",
              "        buttonEl.style.display =\n",
              "          google.colab.kernel.accessAllowed ? 'block' : 'none';\n",
              "\n",
              "        async function convertToInteractive(key) {\n",
              "          const element = document.querySelector('#df-48f96118-575b-4f78-86b3-d602b258da06');\n",
              "          const dataTable =\n",
              "            await google.colab.kernel.invokeFunction('convertToInteractive',\n",
              "                                                     [key], {});\n",
              "          if (!dataTable) return;\n",
              "\n",
              "          const docLinkHtml = 'Like what you see? Visit the ' +\n",
              "            '<a target=\"_blank\" href=https://colab.research.google.com/notebooks/data_table.ipynb>data table notebook</a>'\n",
              "            + ' to learn more about interactive tables.';\n",
              "          element.innerHTML = '';\n",
              "          dataTable['output_type'] = 'display_data';\n",
              "          await google.colab.output.renderOutput(dataTable, element);\n",
              "          const docLink = document.createElement('div');\n",
              "          docLink.innerHTML = docLinkHtml;\n",
              "          element.appendChild(docLink);\n",
              "        }\n",
              "      </script>\n",
              "    </div>\n",
              "  </div>\n",
              "  "
            ]
          },
          "metadata": {},
          "execution_count": 15
        }
      ],
      "source": [
        "data.head()"
      ],
      "id": "b52aa15f"
    },
    {
      "cell_type": "markdown",
      "metadata": {
        "id": "38508ddb"
      },
      "source": [
        "## Data Transformation"
      ],
      "id": "38508ddb"
    },
    {
      "cell_type": "code",
      "execution_count": 16,
      "metadata": {
        "colab": {
          "base_uri": "https://localhost:8080/"
        },
        "id": "aba477b2",
        "outputId": "970da150-086a-4a32-8384-184908194c14"
      },
      "outputs": [
        {
          "output_type": "stream",
          "name": "stdout",
          "text": [
            "1044.0\n",
            "12.968887\n",
            "77.63575\n"
          ]
        }
      ],
      "source": [
        "print(data[data['from_lat'] == data['from_lat'].median()]['from_area_id'].max())\n",
        "print(data['from_lat'].median())\n",
        "print(data['from_long'].median())"
      ],
      "id": "aba477b2"
    },
    {
      "cell_type": "code",
      "execution_count": 17,
      "metadata": {
        "colab": {
          "base_uri": "https://localhost:8080/"
        },
        "id": "9422f71a",
        "outputId": "948488df-f0ae-43cb-9cf3-552ecca8bae8"
      },
      "outputs": [
        {
          "output_type": "execute_result",
          "data": {
            "text/plain": [
              "276      1044.0\n",
              "277      1044.0\n",
              "1517     1044.0\n",
              "1668     1044.0\n",
              "3057     1044.0\n",
              "3628     1044.0\n",
              "3826     1044.0\n",
              "4255     1044.0\n",
              "4365     1044.0\n",
              "4619     1044.0\n",
              "4832     1044.0\n",
              "4988     1044.0\n",
              "5179     1044.0\n",
              "7284     1044.0\n",
              "7518     1044.0\n",
              "7694     1044.0\n",
              "8054     1044.0\n",
              "8302     1044.0\n",
              "8401     1044.0\n",
              "10858    1044.0\n",
              "11199    1044.0\n",
              "11202    1044.0\n",
              "11244    1044.0\n",
              "14469    1044.0\n",
              "15858    1044.0\n",
              "15995    1044.0\n",
              "16915    1044.0\n",
              "16916    1044.0\n",
              "17959    1044.0\n",
              "18429    1044.0\n",
              "18658    1044.0\n",
              "21592    1044.0\n",
              "22055    1044.0\n",
              "25121    1044.0\n",
              "26336    1044.0\n",
              "29975    1044.0\n",
              "32812    1044.0\n",
              "35767    1044.0\n",
              "36869    1044.0\n",
              "37378    1044.0\n",
              "39314    1044.0\n",
              "40148    1044.0\n",
              "Name: from_area_id, dtype: float64"
            ]
          },
          "metadata": {},
          "execution_count": 17
        }
      ],
      "source": [
        "data[data['from_lat'] == data['from_lat'].median()]['from_area_id']"
      ],
      "id": "9422f71a"
    },
    {
      "cell_type": "code",
      "execution_count": 18,
      "metadata": {
        "colab": {
          "base_uri": "https://localhost:8080/"
        },
        "id": "efbf8b14",
        "outputId": "48848354-5e22-47a4-e3df-be46b1874972"
      },
      "outputs": [
        {
          "output_type": "execute_result",
          "data": {
            "text/plain": [
              "(42, 10)"
            ]
          },
          "metadata": {},
          "execution_count": 18
        }
      ],
      "source": [
        "data[data['from_lat'] == data['from_lat'].median()].shape"
      ],
      "id": "efbf8b14"
    },
    {
      "cell_type": "markdown",
      "metadata": {
        "id": "dd813be0"
      },
      "source": [
        "## Fill missing values"
      ],
      "id": "dd813be0"
    },
    {
      "cell_type": "code",
      "execution_count": 19,
      "metadata": {
        "id": "8a16e69c"
      },
      "outputs": [],
      "source": [
        "\n",
        "# filling missing values\n",
        "data['from_lat'].fillna(data['from_lat'].median(), inplace=True)\n",
        "data['from_long'].fillna(data['from_long'].median(), inplace=True)"
      ],
      "id": "8a16e69c"
    },
    {
      "cell_type": "code",
      "execution_count": 20,
      "metadata": {
        "colab": {
          "base_uri": "https://localhost:8080/"
        },
        "id": "794dd63c",
        "outputId": "dde2ec8a-c9e4-4c3c-e1d7-6f5370aa12d7"
      },
      "outputs": [
        {
          "output_type": "stream",
          "name": "stdout",
          "text": [
            "<class 'pandas.core.frame.DataFrame'>\n",
            "RangeIndex: 43431 entries, 0 to 43430\n",
            "Data columns (total 10 columns):\n",
            " #   Column               Non-Null Count  Dtype  \n",
            "---  ------               --------------  -----  \n",
            " 0   travel_type_id       43431 non-null  int64  \n",
            " 1   from_area_id         43343 non-null  float64\n",
            " 2   from_date            43431 non-null  object \n",
            " 3   online_booking       43431 non-null  int64  \n",
            " 4   mobile_site_booking  43431 non-null  int64  \n",
            " 5   booking_created      43431 non-null  object \n",
            " 6   from_lat             43431 non-null  float64\n",
            " 7   from_long            43431 non-null  float64\n",
            " 8   to_lat               34293 non-null  float64\n",
            " 9   to_long              34293 non-null  float64\n",
            "dtypes: float64(5), int64(3), object(2)\n",
            "memory usage: 3.3+ MB\n"
          ]
        }
      ],
      "source": [
        "data.info()"
      ],
      "id": "794dd63c"
    },
    {
      "cell_type": "code",
      "execution_count": 21,
      "metadata": {
        "id": "f27f65e3"
      },
      "outputs": [],
      "source": [
        "data['from_area_id'].fillna(data[data['from_lat'] == data['from_lat'].median()]['from_area_id'].max(), inplace=True)"
      ],
      "id": "f27f65e3"
    },
    {
      "cell_type": "code",
      "execution_count": 22,
      "metadata": {
        "id": "6da1732c"
      },
      "outputs": [],
      "source": [
        "data['to_lat'].fillna(df.groupby('from_area_id')['to_lat'].transform('median'), inplace=True)\n",
        "#Fill null with median for Continuous data and mode for Discrete data\n",
        "#filling na values of to_lat with median of each group where the group is formed based on from_area_id"
      ],
      "id": "6da1732c"
    },
    {
      "cell_type": "code",
      "execution_count": 23,
      "metadata": {
        "id": "c3c9cce7"
      },
      "outputs": [],
      "source": [
        "data['to_long'] = data['to_long'].fillna(df.groupby('from_area_id')['to_long'].transform('median'))\n",
        "#filling na values of to_long with median of each group where the group is formed based on from_area_id"
      ],
      "id": "c3c9cce7"
    },
    {
      "cell_type": "code",
      "execution_count": 24,
      "metadata": {
        "colab": {
          "base_uri": "https://localhost:8080/"
        },
        "id": "92e019c8",
        "outputId": "d70d6318-0cfa-4d70-dc2a-1209a28054e4"
      },
      "outputs": [
        {
          "output_type": "stream",
          "name": "stdout",
          "text": [
            "<class 'pandas.core.frame.DataFrame'>\n",
            "RangeIndex: 43431 entries, 0 to 43430\n",
            "Data columns (total 10 columns):\n",
            " #   Column               Non-Null Count  Dtype  \n",
            "---  ------               --------------  -----  \n",
            " 0   travel_type_id       43431 non-null  int64  \n",
            " 1   from_area_id         43431 non-null  float64\n",
            " 2   from_date            43431 non-null  object \n",
            " 3   online_booking       43431 non-null  int64  \n",
            " 4   mobile_site_booking  43431 non-null  int64  \n",
            " 5   booking_created      43431 non-null  object \n",
            " 6   from_lat             43431 non-null  float64\n",
            " 7   from_long            43431 non-null  float64\n",
            " 8   to_lat               43326 non-null  float64\n",
            " 9   to_long              43326 non-null  float64\n",
            "dtypes: float64(5), int64(3), object(2)\n",
            "memory usage: 3.3+ MB\n"
          ]
        }
      ],
      "source": [
        "data.info()"
      ],
      "id": "92e019c8"
    },
    {
      "cell_type": "code",
      "execution_count": 25,
      "metadata": {
        "colab": {
          "base_uri": "https://localhost:8080/",
          "height": 357
        },
        "id": "d493ebc5",
        "outputId": "8e845c2f-a32b-4bb7-b30b-0dfc64f427eb"
      },
      "outputs": [
        {
          "output_type": "execute_result",
          "data": {
            "text/plain": [
              "      travel_type_id  from_area_id        from_date  online_booking  \\\n",
              "2158               1         483.0   1/25/2013 6:00               1   \n",
              "3945               1        1397.0  2/10/2013 16:30               1   \n",
              "4912               1        1397.0   2/23/2013 6:30               1   \n",
              "5144               1        1397.0  2/22/2013 13:30               1   \n",
              "5970               1        1397.0    3/4/2013 7:00               0   \n",
              "\n",
              "      mobile_site_booking  booking_created   from_lat  from_long  to_lat  \\\n",
              "2158                    0  1/24/2013 15:32  12.953020   77.56333     NaN   \n",
              "3945                    0  2/10/2013 13:26  12.968887   77.63575     NaN   \n",
              "4912                    0  2/19/2013 21:29  12.968887   77.63575     NaN   \n",
              "5144                    0  2/22/2013 10:22  12.968887   77.63575     NaN   \n",
              "5970                    0   3/2/2013 17:48  12.968887   77.63575     NaN   \n",
              "\n",
              "      to_long  \n",
              "2158      NaN  \n",
              "3945      NaN  \n",
              "4912      NaN  \n",
              "5144      NaN  \n",
              "5970      NaN  "
            ],
            "text/html": [
              "\n",
              "  <div id=\"df-8f14a7d2-243a-48d2-ad8e-ec061bafbbca\">\n",
              "    <div class=\"colab-df-container\">\n",
              "      <div>\n",
              "<style scoped>\n",
              "    .dataframe tbody tr th:only-of-type {\n",
              "        vertical-align: middle;\n",
              "    }\n",
              "\n",
              "    .dataframe tbody tr th {\n",
              "        vertical-align: top;\n",
              "    }\n",
              "\n",
              "    .dataframe thead th {\n",
              "        text-align: right;\n",
              "    }\n",
              "</style>\n",
              "<table border=\"1\" class=\"dataframe\">\n",
              "  <thead>\n",
              "    <tr style=\"text-align: right;\">\n",
              "      <th></th>\n",
              "      <th>travel_type_id</th>\n",
              "      <th>from_area_id</th>\n",
              "      <th>from_date</th>\n",
              "      <th>online_booking</th>\n",
              "      <th>mobile_site_booking</th>\n",
              "      <th>booking_created</th>\n",
              "      <th>from_lat</th>\n",
              "      <th>from_long</th>\n",
              "      <th>to_lat</th>\n",
              "      <th>to_long</th>\n",
              "    </tr>\n",
              "  </thead>\n",
              "  <tbody>\n",
              "    <tr>\n",
              "      <th>2158</th>\n",
              "      <td>1</td>\n",
              "      <td>483.0</td>\n",
              "      <td>1/25/2013 6:00</td>\n",
              "      <td>1</td>\n",
              "      <td>0</td>\n",
              "      <td>1/24/2013 15:32</td>\n",
              "      <td>12.953020</td>\n",
              "      <td>77.56333</td>\n",
              "      <td>NaN</td>\n",
              "      <td>NaN</td>\n",
              "    </tr>\n",
              "    <tr>\n",
              "      <th>3945</th>\n",
              "      <td>1</td>\n",
              "      <td>1397.0</td>\n",
              "      <td>2/10/2013 16:30</td>\n",
              "      <td>1</td>\n",
              "      <td>0</td>\n",
              "      <td>2/10/2013 13:26</td>\n",
              "      <td>12.968887</td>\n",
              "      <td>77.63575</td>\n",
              "      <td>NaN</td>\n",
              "      <td>NaN</td>\n",
              "    </tr>\n",
              "    <tr>\n",
              "      <th>4912</th>\n",
              "      <td>1</td>\n",
              "      <td>1397.0</td>\n",
              "      <td>2/23/2013 6:30</td>\n",
              "      <td>1</td>\n",
              "      <td>0</td>\n",
              "      <td>2/19/2013 21:29</td>\n",
              "      <td>12.968887</td>\n",
              "      <td>77.63575</td>\n",
              "      <td>NaN</td>\n",
              "      <td>NaN</td>\n",
              "    </tr>\n",
              "    <tr>\n",
              "      <th>5144</th>\n",
              "      <td>1</td>\n",
              "      <td>1397.0</td>\n",
              "      <td>2/22/2013 13:30</td>\n",
              "      <td>1</td>\n",
              "      <td>0</td>\n",
              "      <td>2/22/2013 10:22</td>\n",
              "      <td>12.968887</td>\n",
              "      <td>77.63575</td>\n",
              "      <td>NaN</td>\n",
              "      <td>NaN</td>\n",
              "    </tr>\n",
              "    <tr>\n",
              "      <th>5970</th>\n",
              "      <td>1</td>\n",
              "      <td>1397.0</td>\n",
              "      <td>3/4/2013 7:00</td>\n",
              "      <td>0</td>\n",
              "      <td>0</td>\n",
              "      <td>3/2/2013 17:48</td>\n",
              "      <td>12.968887</td>\n",
              "      <td>77.63575</td>\n",
              "      <td>NaN</td>\n",
              "      <td>NaN</td>\n",
              "    </tr>\n",
              "  </tbody>\n",
              "</table>\n",
              "</div>\n",
              "      <button class=\"colab-df-convert\" onclick=\"convertToInteractive('df-8f14a7d2-243a-48d2-ad8e-ec061bafbbca')\"\n",
              "              title=\"Convert this dataframe to an interactive table.\"\n",
              "              style=\"display:none;\">\n",
              "        \n",
              "  <svg xmlns=\"http://www.w3.org/2000/svg\" height=\"24px\"viewBox=\"0 0 24 24\"\n",
              "       width=\"24px\">\n",
              "    <path d=\"M0 0h24v24H0V0z\" fill=\"none\"/>\n",
              "    <path d=\"M18.56 5.44l.94 2.06.94-2.06 2.06-.94-2.06-.94-.94-2.06-.94 2.06-2.06.94zm-11 1L8.5 8.5l.94-2.06 2.06-.94-2.06-.94L8.5 2.5l-.94 2.06-2.06.94zm10 10l.94 2.06.94-2.06 2.06-.94-2.06-.94-.94-2.06-.94 2.06-2.06.94z\"/><path d=\"M17.41 7.96l-1.37-1.37c-.4-.4-.92-.59-1.43-.59-.52 0-1.04.2-1.43.59L10.3 9.45l-7.72 7.72c-.78.78-.78 2.05 0 2.83L4 21.41c.39.39.9.59 1.41.59.51 0 1.02-.2 1.41-.59l7.78-7.78 2.81-2.81c.8-.78.8-2.07 0-2.86zM5.41 20L4 18.59l7.72-7.72 1.47 1.35L5.41 20z\"/>\n",
              "  </svg>\n",
              "      </button>\n",
              "      \n",
              "  <style>\n",
              "    .colab-df-container {\n",
              "      display:flex;\n",
              "      flex-wrap:wrap;\n",
              "      gap: 12px;\n",
              "    }\n",
              "\n",
              "    .colab-df-convert {\n",
              "      background-color: #E8F0FE;\n",
              "      border: none;\n",
              "      border-radius: 50%;\n",
              "      cursor: pointer;\n",
              "      display: none;\n",
              "      fill: #1967D2;\n",
              "      height: 32px;\n",
              "      padding: 0 0 0 0;\n",
              "      width: 32px;\n",
              "    }\n",
              "\n",
              "    .colab-df-convert:hover {\n",
              "      background-color: #E2EBFA;\n",
              "      box-shadow: 0px 1px 2px rgba(60, 64, 67, 0.3), 0px 1px 3px 1px rgba(60, 64, 67, 0.15);\n",
              "      fill: #174EA6;\n",
              "    }\n",
              "\n",
              "    [theme=dark] .colab-df-convert {\n",
              "      background-color: #3B4455;\n",
              "      fill: #D2E3FC;\n",
              "    }\n",
              "\n",
              "    [theme=dark] .colab-df-convert:hover {\n",
              "      background-color: #434B5C;\n",
              "      box-shadow: 0px 1px 3px 1px rgba(0, 0, 0, 0.15);\n",
              "      filter: drop-shadow(0px 1px 2px rgba(0, 0, 0, 0.3));\n",
              "      fill: #FFFFFF;\n",
              "    }\n",
              "  </style>\n",
              "\n",
              "      <script>\n",
              "        const buttonEl =\n",
              "          document.querySelector('#df-8f14a7d2-243a-48d2-ad8e-ec061bafbbca button.colab-df-convert');\n",
              "        buttonEl.style.display =\n",
              "          google.colab.kernel.accessAllowed ? 'block' : 'none';\n",
              "\n",
              "        async function convertToInteractive(key) {\n",
              "          const element = document.querySelector('#df-8f14a7d2-243a-48d2-ad8e-ec061bafbbca');\n",
              "          const dataTable =\n",
              "            await google.colab.kernel.invokeFunction('convertToInteractive',\n",
              "                                                     [key], {});\n",
              "          if (!dataTable) return;\n",
              "\n",
              "          const docLinkHtml = 'Like what you see? Visit the ' +\n",
              "            '<a target=\"_blank\" href=https://colab.research.google.com/notebooks/data_table.ipynb>data table notebook</a>'\n",
              "            + ' to learn more about interactive tables.';\n",
              "          element.innerHTML = '';\n",
              "          dataTable['output_type'] = 'display_data';\n",
              "          await google.colab.output.renderOutput(dataTable, element);\n",
              "          const docLink = document.createElement('div');\n",
              "          docLink.innerHTML = docLinkHtml;\n",
              "          element.appendChild(docLink);\n",
              "        }\n",
              "      </script>\n",
              "    </div>\n",
              "  </div>\n",
              "  "
            ]
          },
          "metadata": {},
          "execution_count": 25
        }
      ],
      "source": [
        "data[data['to_lat'].isnull()].head()"
      ],
      "id": "d493ebc5"
    },
    {
      "cell_type": "code",
      "execution_count": 26,
      "metadata": {
        "colab": {
          "base_uri": "https://localhost:8080/"
        },
        "id": "f21f09d5",
        "outputId": "dcd5fb8c-e46c-4726-93ab-8811906fe217"
      },
      "outputs": [
        {
          "output_type": "execute_result",
          "data": {
            "text/plain": [
              "1397.0    90\n",
              "1396.0     3\n",
              "173.0      2\n",
              "17.0       2\n",
              "483.0      1\n",
              "1215.0     1\n",
              "1265.0     1\n",
              "215.0      1\n",
              "1080.0     1\n",
              "802.0      1\n",
              "1164.0     1\n",
              "178.0      1\n",
              "Name: from_area_id, dtype: int64"
            ]
          },
          "metadata": {},
          "execution_count": 26
        }
      ],
      "source": [
        "data[data['to_lat'].isnull()]['from_area_id'].value_counts()"
      ],
      "id": "f21f09d5"
    },
    {
      "cell_type": "code",
      "execution_count": 27,
      "metadata": {
        "id": "5ab0bd97"
      },
      "outputs": [],
      "source": [
        "data['to_lat'].fillna(data['to_lat'].median(), inplace=True)\n",
        "data['to_long'].fillna(data['to_long'].median(), inplace=True)"
      ],
      "id": "5ab0bd97"
    },
    {
      "cell_type": "code",
      "execution_count": 28,
      "metadata": {
        "colab": {
          "base_uri": "https://localhost:8080/"
        },
        "id": "9927ab95",
        "outputId": "419d881e-4261-4a26-fc6d-6bcecfa1c76f"
      },
      "outputs": [
        {
          "output_type": "stream",
          "name": "stdout",
          "text": [
            "<class 'pandas.core.frame.DataFrame'>\n",
            "RangeIndex: 43431 entries, 0 to 43430\n",
            "Data columns (total 10 columns):\n",
            " #   Column               Non-Null Count  Dtype  \n",
            "---  ------               --------------  -----  \n",
            " 0   travel_type_id       43431 non-null  int64  \n",
            " 1   from_area_id         43431 non-null  float64\n",
            " 2   from_date            43431 non-null  object \n",
            " 3   online_booking       43431 non-null  int64  \n",
            " 4   mobile_site_booking  43431 non-null  int64  \n",
            " 5   booking_created      43431 non-null  object \n",
            " 6   from_lat             43431 non-null  float64\n",
            " 7   from_long            43431 non-null  float64\n",
            " 8   to_lat               43431 non-null  float64\n",
            " 9   to_long              43431 non-null  float64\n",
            "dtypes: float64(5), int64(3), object(2)\n",
            "memory usage: 3.3+ MB\n"
          ]
        }
      ],
      "source": [
        "data.info()"
      ],
      "id": "9927ab95"
    },
    {
      "cell_type": "markdown",
      "metadata": {
        "id": "ce1c5af5"
      },
      "source": [
        "## Encoding"
      ],
      "id": "ce1c5af5"
    },
    {
      "cell_type": "code",
      "execution_count": 29,
      "metadata": {
        "id": "04922bd8"
      },
      "outputs": [],
      "source": [
        "traveltype = pd.get_dummies(data['travel_type_id'],drop_first=True)"
      ],
      "id": "04922bd8"
    },
    {
      "cell_type": "code",
      "execution_count": 30,
      "metadata": {
        "id": "ab0f967d"
      },
      "outputs": [],
      "source": [
        "data = pd.concat([data,traveltype],axis=1)\n",
        "data = data.drop(['travel_type_id'],axis=1)"
      ],
      "id": "ab0f967d"
    },
    {
      "cell_type": "code",
      "execution_count": 31,
      "metadata": {
        "id": "d3b98483"
      },
      "outputs": [],
      "source": [
        "data.rename(columns={2:'traveltype_pointtopoint',3:'traveltype_hourly'},inplace=True)"
      ],
      "id": "d3b98483"
    },
    {
      "cell_type": "code",
      "execution_count": 32,
      "metadata": {
        "id": "7f8bb6ba"
      },
      "outputs": [],
      "source": [
        "def cal_distance(from_lat,from_long,to_lat,to_long):\n",
        "  return distance.distance((from_lat,from_long),(to_lat,to_long)).km"
      ],
      "id": "7f8bb6ba"
    },
    {
      "cell_type": "code",
      "execution_count": 33,
      "metadata": {
        "id": "80ef2ef7"
      },
      "outputs": [],
      "source": [
        "data['distance'] = data.apply(lambda row: cal_distance(row['from_lat'],row['from_long'],row['to_lat'],row['to_long']),axis=1)"
      ],
      "id": "80ef2ef7"
    },
    {
      "cell_type": "code",
      "execution_count": 34,
      "metadata": {
        "id": "1ee368c4"
      },
      "outputs": [],
      "source": [
        "data = data.drop(['from_lat','from_long','to_lat','to_long'],axis=1)"
      ],
      "id": "1ee368c4"
    },
    {
      "cell_type": "markdown",
      "metadata": {
        "id": "b11eff13"
      },
      "source": [
        "## Extracting date and time from timestamp"
      ],
      "id": "b11eff13"
    },
    {
      "cell_type": "code",
      "execution_count": 35,
      "metadata": {
        "id": "75556c20"
      },
      "outputs": [],
      "source": [
        "data['from_date_dt'] = pd.to_datetime(data['from_date']).dt.strftime('%m/%d/%Y')\n",
        "data['from_time_tm'] = pd.to_datetime(data['from_date']).dt.strftime('%H:%M')\n",
        "data['booking_created_dt'] = pd.to_datetime(data['booking_created']).dt.strftime('%m/%d/%Y')\n",
        "data['booking_created_tm'] = pd.to_datetime(data['booking_created']).dt.strftime('%H:%M')"
      ],
      "id": "75556c20"
    },
    {
      "cell_type": "code",
      "execution_count": 36,
      "metadata": {
        "id": "f0afd440"
      },
      "outputs": [],
      "source": [
        "data['from_date_day'] = pd.to_datetime(data['from_date_dt']).dt.day_name()\n",
        "data['booking_created_day'] = pd.to_datetime(data['booking_created_dt']).dt.day_name()\n",
        "data['from_date_month'] = pd.to_datetime(data['from_date_dt']).dt.month_name()\n",
        "data['booking_created_month'] = pd.to_datetime(data['booking_created_dt']).dt.month_name()\n",
        "data['from_date_week'] = np.where((data['from_date_day']=='Saturday') | (data['from_date_day']=='Sunday'),'Weekend','Weekday')\n",
        "data['booking_created_week'] = np.where((data['booking_created_day']=='Saturday') | (data['booking_created_day']=='Sunday'),'Weekend','Weekday')"
      ],
      "id": "f0afd440"
    },
    {
      "cell_type": "code",
      "execution_count": 37,
      "metadata": {
        "id": "04137a88"
      },
      "outputs": [],
      "source": [
        "cond = [(pd.to_datetime(data['from_time_tm']).dt.hour.between(5, 8)),\n",
        "        (pd.to_datetime(data['from_time_tm']).dt.hour.between(9, 12)),\n",
        "        (pd.to_datetime(data['from_time_tm']).dt.hour.between(13, 16)),\n",
        "        (pd.to_datetime(data['from_time_tm']).dt.hour.between(17, 20)),\n",
        "        ((pd.to_datetime(data['from_time_tm']).dt.hour.between(21, 24)) | (pd.to_datetime(data['from_time_tm']).dt.hour==0)),\n",
        "        (pd.to_datetime(data['from_time_tm']).dt.hour.between(1, 4))]\n",
        "values = ['Early Morning','Morning','Afternoon','Evening','Night','Late Night']\n",
        "data['from_date_session'] = np.select(cond,values)"
      ],
      "id": "04137a88"
    },
    {
      "cell_type": "code",
      "execution_count": 38,
      "metadata": {
        "id": "525bb179"
      },
      "outputs": [],
      "source": [
        "cond = [(pd.to_datetime(data['booking_created_tm']).dt.hour.between(5, 8)),\n",
        "        (pd.to_datetime(data['booking_created_tm']).dt.hour.between(9, 12)),\n",
        "        (pd.to_datetime(data['booking_created_tm']).dt.hour.between(13, 16)),\n",
        "        (pd.to_datetime(data['booking_created_tm']).dt.hour.between(17, 20)),\n",
        "        ((pd.to_datetime(data['booking_created_tm']).dt.hour.between(21, 24)) | (pd.to_datetime(data['booking_created_tm']).dt.hour==0)),\n",
        "        (pd.to_datetime(data['booking_created_tm']).dt.hour.between(1, 4))]\n",
        "values = ['Early Morning','Morning','Afternoon','Evening','Night','Late Night']\n",
        "data['booking_created_session'] = np.select(cond,values)"
      ],
      "id": "525bb179"
    },
    {
      "cell_type": "code",
      "execution_count": 39,
      "metadata": {
        "id": "2d617ac4"
      },
      "outputs": [],
      "source": [
        "data['time_diff'] = (pd.to_datetime(data['from_date']) - pd.to_datetime(data['booking_created'])).astype('timedelta64[m]')"
      ],
      "id": "2d617ac4"
    },
    {
      "cell_type": "code",
      "execution_count": 40,
      "metadata": {
        "colab": {
          "base_uri": "https://localhost:8080/",
          "height": 386
        },
        "id": "396cd01c",
        "outputId": "90b7b396-f977-4ad2-a1b1-2eeaba2da117"
      },
      "outputs": [
        {
          "output_type": "execute_result",
          "data": {
            "text/plain": [
              "      from_area_id        from_date  online_booking  mobile_site_booking  \\\n",
              "1763        1298.0  1/20/2013 14:15               0                    0   \n",
              "2990         393.0    2/1/2013 9:45               0                    0   \n",
              "4228         571.0  2/13/2013 18:00               0                    0   \n",
              "5303        1068.0  2/23/2013 18:00               0                    0   \n",
              "6106        1010.0    3/4/2013 0:30               0                    0   \n",
              "\n",
              "      booking_created  traveltype_pointtopoint  traveltype_hourly   distance  \\\n",
              "1763  1/20/2013 15:01                        0                  1   8.482630   \n",
              "2990   2/1/2013 13:18                        0                  1  28.576256   \n",
              "4228  2/13/2013 18:29                        0                  1   5.866543   \n",
              "5303  2/23/2013 18:03                        0                  1   3.547502   \n",
              "6106    3/4/2013 2:00                        0                  1  10.133543   \n",
              "\n",
              "     from_date_dt from_time_tm  ... booking_created_tm from_date_day  \\\n",
              "1763   01/20/2013        14:15  ...              15:01        Sunday   \n",
              "2990   02/01/2013        09:45  ...              13:18        Friday   \n",
              "4228   02/13/2013        18:00  ...              18:29     Wednesday   \n",
              "5303   02/23/2013        18:00  ...              18:03      Saturday   \n",
              "6106   03/04/2013        00:30  ...              02:00        Monday   \n",
              "\n",
              "     booking_created_day from_date_month booking_created_month from_date_week  \\\n",
              "1763              Sunday         January               January        Weekend   \n",
              "2990              Friday        February              February        Weekday   \n",
              "4228           Wednesday        February              February        Weekday   \n",
              "5303            Saturday        February              February        Weekend   \n",
              "6106              Monday           March                 March        Weekday   \n",
              "\n",
              "     booking_created_week from_date_session booking_created_session time_diff  \n",
              "1763              Weekend         Afternoon               Afternoon     -46.0  \n",
              "2990              Weekday           Morning               Afternoon    -213.0  \n",
              "4228              Weekday           Evening                 Evening     -29.0  \n",
              "5303              Weekend           Evening                 Evening      -3.0  \n",
              "6106              Weekday             Night              Late Night     -90.0  \n",
              "\n",
              "[5 rows x 21 columns]"
            ],
            "text/html": [
              "\n",
              "  <div id=\"df-b1308ff2-db00-4c5e-bd05-6bf3d6cb098f\">\n",
              "    <div class=\"colab-df-container\">\n",
              "      <div>\n",
              "<style scoped>\n",
              "    .dataframe tbody tr th:only-of-type {\n",
              "        vertical-align: middle;\n",
              "    }\n",
              "\n",
              "    .dataframe tbody tr th {\n",
              "        vertical-align: top;\n",
              "    }\n",
              "\n",
              "    .dataframe thead th {\n",
              "        text-align: right;\n",
              "    }\n",
              "</style>\n",
              "<table border=\"1\" class=\"dataframe\">\n",
              "  <thead>\n",
              "    <tr style=\"text-align: right;\">\n",
              "      <th></th>\n",
              "      <th>from_area_id</th>\n",
              "      <th>from_date</th>\n",
              "      <th>online_booking</th>\n",
              "      <th>mobile_site_booking</th>\n",
              "      <th>booking_created</th>\n",
              "      <th>traveltype_pointtopoint</th>\n",
              "      <th>traveltype_hourly</th>\n",
              "      <th>distance</th>\n",
              "      <th>from_date_dt</th>\n",
              "      <th>from_time_tm</th>\n",
              "      <th>...</th>\n",
              "      <th>booking_created_tm</th>\n",
              "      <th>from_date_day</th>\n",
              "      <th>booking_created_day</th>\n",
              "      <th>from_date_month</th>\n",
              "      <th>booking_created_month</th>\n",
              "      <th>from_date_week</th>\n",
              "      <th>booking_created_week</th>\n",
              "      <th>from_date_session</th>\n",
              "      <th>booking_created_session</th>\n",
              "      <th>time_diff</th>\n",
              "    </tr>\n",
              "  </thead>\n",
              "  <tbody>\n",
              "    <tr>\n",
              "      <th>1763</th>\n",
              "      <td>1298.0</td>\n",
              "      <td>1/20/2013 14:15</td>\n",
              "      <td>0</td>\n",
              "      <td>0</td>\n",
              "      <td>1/20/2013 15:01</td>\n",
              "      <td>0</td>\n",
              "      <td>1</td>\n",
              "      <td>8.482630</td>\n",
              "      <td>01/20/2013</td>\n",
              "      <td>14:15</td>\n",
              "      <td>...</td>\n",
              "      <td>15:01</td>\n",
              "      <td>Sunday</td>\n",
              "      <td>Sunday</td>\n",
              "      <td>January</td>\n",
              "      <td>January</td>\n",
              "      <td>Weekend</td>\n",
              "      <td>Weekend</td>\n",
              "      <td>Afternoon</td>\n",
              "      <td>Afternoon</td>\n",
              "      <td>-46.0</td>\n",
              "    </tr>\n",
              "    <tr>\n",
              "      <th>2990</th>\n",
              "      <td>393.0</td>\n",
              "      <td>2/1/2013 9:45</td>\n",
              "      <td>0</td>\n",
              "      <td>0</td>\n",
              "      <td>2/1/2013 13:18</td>\n",
              "      <td>0</td>\n",
              "      <td>1</td>\n",
              "      <td>28.576256</td>\n",
              "      <td>02/01/2013</td>\n",
              "      <td>09:45</td>\n",
              "      <td>...</td>\n",
              "      <td>13:18</td>\n",
              "      <td>Friday</td>\n",
              "      <td>Friday</td>\n",
              "      <td>February</td>\n",
              "      <td>February</td>\n",
              "      <td>Weekday</td>\n",
              "      <td>Weekday</td>\n",
              "      <td>Morning</td>\n",
              "      <td>Afternoon</td>\n",
              "      <td>-213.0</td>\n",
              "    </tr>\n",
              "    <tr>\n",
              "      <th>4228</th>\n",
              "      <td>571.0</td>\n",
              "      <td>2/13/2013 18:00</td>\n",
              "      <td>0</td>\n",
              "      <td>0</td>\n",
              "      <td>2/13/2013 18:29</td>\n",
              "      <td>0</td>\n",
              "      <td>1</td>\n",
              "      <td>5.866543</td>\n",
              "      <td>02/13/2013</td>\n",
              "      <td>18:00</td>\n",
              "      <td>...</td>\n",
              "      <td>18:29</td>\n",
              "      <td>Wednesday</td>\n",
              "      <td>Wednesday</td>\n",
              "      <td>February</td>\n",
              "      <td>February</td>\n",
              "      <td>Weekday</td>\n",
              "      <td>Weekday</td>\n",
              "      <td>Evening</td>\n",
              "      <td>Evening</td>\n",
              "      <td>-29.0</td>\n",
              "    </tr>\n",
              "    <tr>\n",
              "      <th>5303</th>\n",
              "      <td>1068.0</td>\n",
              "      <td>2/23/2013 18:00</td>\n",
              "      <td>0</td>\n",
              "      <td>0</td>\n",
              "      <td>2/23/2013 18:03</td>\n",
              "      <td>0</td>\n",
              "      <td>1</td>\n",
              "      <td>3.547502</td>\n",
              "      <td>02/23/2013</td>\n",
              "      <td>18:00</td>\n",
              "      <td>...</td>\n",
              "      <td>18:03</td>\n",
              "      <td>Saturday</td>\n",
              "      <td>Saturday</td>\n",
              "      <td>February</td>\n",
              "      <td>February</td>\n",
              "      <td>Weekend</td>\n",
              "      <td>Weekend</td>\n",
              "      <td>Evening</td>\n",
              "      <td>Evening</td>\n",
              "      <td>-3.0</td>\n",
              "    </tr>\n",
              "    <tr>\n",
              "      <th>6106</th>\n",
              "      <td>1010.0</td>\n",
              "      <td>3/4/2013 0:30</td>\n",
              "      <td>0</td>\n",
              "      <td>0</td>\n",
              "      <td>3/4/2013 2:00</td>\n",
              "      <td>0</td>\n",
              "      <td>1</td>\n",
              "      <td>10.133543</td>\n",
              "      <td>03/04/2013</td>\n",
              "      <td>00:30</td>\n",
              "      <td>...</td>\n",
              "      <td>02:00</td>\n",
              "      <td>Monday</td>\n",
              "      <td>Monday</td>\n",
              "      <td>March</td>\n",
              "      <td>March</td>\n",
              "      <td>Weekday</td>\n",
              "      <td>Weekday</td>\n",
              "      <td>Night</td>\n",
              "      <td>Late Night</td>\n",
              "      <td>-90.0</td>\n",
              "    </tr>\n",
              "  </tbody>\n",
              "</table>\n",
              "<p>5 rows × 21 columns</p>\n",
              "</div>\n",
              "      <button class=\"colab-df-convert\" onclick=\"convertToInteractive('df-b1308ff2-db00-4c5e-bd05-6bf3d6cb098f')\"\n",
              "              title=\"Convert this dataframe to an interactive table.\"\n",
              "              style=\"display:none;\">\n",
              "        \n",
              "  <svg xmlns=\"http://www.w3.org/2000/svg\" height=\"24px\"viewBox=\"0 0 24 24\"\n",
              "       width=\"24px\">\n",
              "    <path d=\"M0 0h24v24H0V0z\" fill=\"none\"/>\n",
              "    <path d=\"M18.56 5.44l.94 2.06.94-2.06 2.06-.94-2.06-.94-.94-2.06-.94 2.06-2.06.94zm-11 1L8.5 8.5l.94-2.06 2.06-.94-2.06-.94L8.5 2.5l-.94 2.06-2.06.94zm10 10l.94 2.06.94-2.06 2.06-.94-2.06-.94-.94-2.06-.94 2.06-2.06.94z\"/><path d=\"M17.41 7.96l-1.37-1.37c-.4-.4-.92-.59-1.43-.59-.52 0-1.04.2-1.43.59L10.3 9.45l-7.72 7.72c-.78.78-.78 2.05 0 2.83L4 21.41c.39.39.9.59 1.41.59.51 0 1.02-.2 1.41-.59l7.78-7.78 2.81-2.81c.8-.78.8-2.07 0-2.86zM5.41 20L4 18.59l7.72-7.72 1.47 1.35L5.41 20z\"/>\n",
              "  </svg>\n",
              "      </button>\n",
              "      \n",
              "  <style>\n",
              "    .colab-df-container {\n",
              "      display:flex;\n",
              "      flex-wrap:wrap;\n",
              "      gap: 12px;\n",
              "    }\n",
              "\n",
              "    .colab-df-convert {\n",
              "      background-color: #E8F0FE;\n",
              "      border: none;\n",
              "      border-radius: 50%;\n",
              "      cursor: pointer;\n",
              "      display: none;\n",
              "      fill: #1967D2;\n",
              "      height: 32px;\n",
              "      padding: 0 0 0 0;\n",
              "      width: 32px;\n",
              "    }\n",
              "\n",
              "    .colab-df-convert:hover {\n",
              "      background-color: #E2EBFA;\n",
              "      box-shadow: 0px 1px 2px rgba(60, 64, 67, 0.3), 0px 1px 3px 1px rgba(60, 64, 67, 0.15);\n",
              "      fill: #174EA6;\n",
              "    }\n",
              "\n",
              "    [theme=dark] .colab-df-convert {\n",
              "      background-color: #3B4455;\n",
              "      fill: #D2E3FC;\n",
              "    }\n",
              "\n",
              "    [theme=dark] .colab-df-convert:hover {\n",
              "      background-color: #434B5C;\n",
              "      box-shadow: 0px 1px 3px 1px rgba(0, 0, 0, 0.15);\n",
              "      filter: drop-shadow(0px 1px 2px rgba(0, 0, 0, 0.3));\n",
              "      fill: #FFFFFF;\n",
              "    }\n",
              "  </style>\n",
              "\n",
              "      <script>\n",
              "        const buttonEl =\n",
              "          document.querySelector('#df-b1308ff2-db00-4c5e-bd05-6bf3d6cb098f button.colab-df-convert');\n",
              "        buttonEl.style.display =\n",
              "          google.colab.kernel.accessAllowed ? 'block' : 'none';\n",
              "\n",
              "        async function convertToInteractive(key) {\n",
              "          const element = document.querySelector('#df-b1308ff2-db00-4c5e-bd05-6bf3d6cb098f');\n",
              "          const dataTable =\n",
              "            await google.colab.kernel.invokeFunction('convertToInteractive',\n",
              "                                                     [key], {});\n",
              "          if (!dataTable) return;\n",
              "\n",
              "          const docLinkHtml = 'Like what you see? Visit the ' +\n",
              "            '<a target=\"_blank\" href=https://colab.research.google.com/notebooks/data_table.ipynb>data table notebook</a>'\n",
              "            + ' to learn more about interactive tables.';\n",
              "          element.innerHTML = '';\n",
              "          dataTable['output_type'] = 'display_data';\n",
              "          await google.colab.output.renderOutput(dataTable, element);\n",
              "          const docLink = document.createElement('div');\n",
              "          docLink.innerHTML = docLinkHtml;\n",
              "          element.appendChild(docLink);\n",
              "        }\n",
              "      </script>\n",
              "    </div>\n",
              "  </div>\n",
              "  "
            ]
          },
          "metadata": {},
          "execution_count": 40
        }
      ],
      "source": [
        "data[data['time_diff'] < 0].head()"
      ],
      "id": "396cd01c"
    },
    {
      "cell_type": "code",
      "execution_count": 41,
      "metadata": {
        "colab": {
          "base_uri": "https://localhost:8080/"
        },
        "id": "58d83478",
        "outputId": "9e48a5d0-7887-4370-ab2a-117dbf75a6e1"
      },
      "outputs": [
        {
          "output_type": "execute_result",
          "data": {
            "text/plain": [
              "42"
            ]
          },
          "metadata": {},
          "execution_count": 41
        }
      ],
      "source": [
        "data[data['time_diff'] < 0]['time_diff'].count()"
      ],
      "id": "58d83478"
    },
    {
      "cell_type": "code",
      "execution_count": 42,
      "metadata": {
        "id": "297df0bc"
      },
      "outputs": [],
      "source": [
        "data = data.drop(['from_date','booking_created'],axis=1)"
      ],
      "id": "297df0bc"
    },
    {
      "cell_type": "code",
      "execution_count": 43,
      "metadata": {
        "id": "076e04e9"
      },
      "outputs": [],
      "source": [
        "data = data.drop(['from_date_dt','from_time_tm','booking_created_dt','booking_created_tm'],axis=1)"
      ],
      "id": "076e04e9"
    },
    {
      "cell_type": "code",
      "execution_count": 44,
      "metadata": {
        "id": "d9cecf79"
      },
      "outputs": [],
      "source": [
        "data_merged = pd.concat([data,target],axis=1,join='inner')\n",
        "data['from_area_id'] = round(data_merged.groupby('from_area_id')['Car_Cancellation'].sum()/data_merged.groupby('from_area_id')['Car_Cancellation'].count(),2)\n",
        "data['from_area_id'].replace(np.nan,0,inplace=True)"
      ],
      "id": "d9cecf79"
    },
    {
      "cell_type": "code",
      "execution_count": 45,
      "metadata": {
        "id": "f1b9de75"
      },
      "outputs": [],
      "source": [
        "cond = [(data['from_area_id'].astype('float').between(0,0.33)),\n",
        "        (data['from_area_id'].astype('float').between(0.34,0.66)),\n",
        "        (data['from_area_id'].astype('float').between(0.67,1.0))]\n",
        "values = ['Low Cancellation','Medium Cancellation','High Cancellation']\n",
        "data['from_area_id'] = np.select(cond,values)"
      ],
      "id": "f1b9de75"
    },
    {
      "cell_type": "code",
      "execution_count": 46,
      "metadata": {
        "colab": {
          "base_uri": "https://localhost:8080/",
          "height": 357
        },
        "id": "7e1eaecb",
        "outputId": "4bb9ea91-56c9-407b-bae9-b549927044f3"
      },
      "outputs": [
        {
          "output_type": "execute_result",
          "data": {
            "text/plain": [
              "       from_area_id  online_booking  mobile_site_booking  \\\n",
              "0  Low Cancellation               0                    0   \n",
              "1  Low Cancellation               0                    0   \n",
              "2  Low Cancellation               0                    0   \n",
              "3  Low Cancellation               0                    0   \n",
              "4  Low Cancellation               0                    0   \n",
              "\n",
              "   traveltype_pointtopoint  traveltype_hourly   distance from_date_day  \\\n",
              "0                        1                  0   3.980687       Tuesday   \n",
              "1                        1                  0  14.004432       Tuesday   \n",
              "2                        1                  0  12.648909       Tuesday   \n",
              "3                        1                  0   9.534596       Tuesday   \n",
              "4                        1                  0  14.655467       Tuesday   \n",
              "\n",
              "  booking_created_day from_date_month booking_created_month from_date_week  \\\n",
              "0             Tuesday         January               January        Weekday   \n",
              "1             Tuesday         January               January        Weekday   \n",
              "2             Tuesday         January               January        Weekday   \n",
              "3             Tuesday         January               January        Weekday   \n",
              "4             Tuesday         January               January        Weekday   \n",
              "\n",
              "  booking_created_week from_date_session booking_created_session  time_diff  \n",
              "0              Weekday        Late Night              Late Night       21.0  \n",
              "1              Weekday           Morning              Late Night      395.0  \n",
              "2              Weekday        Late Night              Late Night       22.0  \n",
              "3              Weekday     Early Morning              Late Night       66.0  \n",
              "4              Weekday           Morning           Early Morning       67.0  "
            ],
            "text/html": [
              "\n",
              "  <div id=\"df-a21d9d10-52b0-4d7d-bc43-8b6573a99f85\">\n",
              "    <div class=\"colab-df-container\">\n",
              "      <div>\n",
              "<style scoped>\n",
              "    .dataframe tbody tr th:only-of-type {\n",
              "        vertical-align: middle;\n",
              "    }\n",
              "\n",
              "    .dataframe tbody tr th {\n",
              "        vertical-align: top;\n",
              "    }\n",
              "\n",
              "    .dataframe thead th {\n",
              "        text-align: right;\n",
              "    }\n",
              "</style>\n",
              "<table border=\"1\" class=\"dataframe\">\n",
              "  <thead>\n",
              "    <tr style=\"text-align: right;\">\n",
              "      <th></th>\n",
              "      <th>from_area_id</th>\n",
              "      <th>online_booking</th>\n",
              "      <th>mobile_site_booking</th>\n",
              "      <th>traveltype_pointtopoint</th>\n",
              "      <th>traveltype_hourly</th>\n",
              "      <th>distance</th>\n",
              "      <th>from_date_day</th>\n",
              "      <th>booking_created_day</th>\n",
              "      <th>from_date_month</th>\n",
              "      <th>booking_created_month</th>\n",
              "      <th>from_date_week</th>\n",
              "      <th>booking_created_week</th>\n",
              "      <th>from_date_session</th>\n",
              "      <th>booking_created_session</th>\n",
              "      <th>time_diff</th>\n",
              "    </tr>\n",
              "  </thead>\n",
              "  <tbody>\n",
              "    <tr>\n",
              "      <th>0</th>\n",
              "      <td>Low Cancellation</td>\n",
              "      <td>0</td>\n",
              "      <td>0</td>\n",
              "      <td>1</td>\n",
              "      <td>0</td>\n",
              "      <td>3.980687</td>\n",
              "      <td>Tuesday</td>\n",
              "      <td>Tuesday</td>\n",
              "      <td>January</td>\n",
              "      <td>January</td>\n",
              "      <td>Weekday</td>\n",
              "      <td>Weekday</td>\n",
              "      <td>Late Night</td>\n",
              "      <td>Late Night</td>\n",
              "      <td>21.0</td>\n",
              "    </tr>\n",
              "    <tr>\n",
              "      <th>1</th>\n",
              "      <td>Low Cancellation</td>\n",
              "      <td>0</td>\n",
              "      <td>0</td>\n",
              "      <td>1</td>\n",
              "      <td>0</td>\n",
              "      <td>14.004432</td>\n",
              "      <td>Tuesday</td>\n",
              "      <td>Tuesday</td>\n",
              "      <td>January</td>\n",
              "      <td>January</td>\n",
              "      <td>Weekday</td>\n",
              "      <td>Weekday</td>\n",
              "      <td>Morning</td>\n",
              "      <td>Late Night</td>\n",
              "      <td>395.0</td>\n",
              "    </tr>\n",
              "    <tr>\n",
              "      <th>2</th>\n",
              "      <td>Low Cancellation</td>\n",
              "      <td>0</td>\n",
              "      <td>0</td>\n",
              "      <td>1</td>\n",
              "      <td>0</td>\n",
              "      <td>12.648909</td>\n",
              "      <td>Tuesday</td>\n",
              "      <td>Tuesday</td>\n",
              "      <td>January</td>\n",
              "      <td>January</td>\n",
              "      <td>Weekday</td>\n",
              "      <td>Weekday</td>\n",
              "      <td>Late Night</td>\n",
              "      <td>Late Night</td>\n",
              "      <td>22.0</td>\n",
              "    </tr>\n",
              "    <tr>\n",
              "      <th>3</th>\n",
              "      <td>Low Cancellation</td>\n",
              "      <td>0</td>\n",
              "      <td>0</td>\n",
              "      <td>1</td>\n",
              "      <td>0</td>\n",
              "      <td>9.534596</td>\n",
              "      <td>Tuesday</td>\n",
              "      <td>Tuesday</td>\n",
              "      <td>January</td>\n",
              "      <td>January</td>\n",
              "      <td>Weekday</td>\n",
              "      <td>Weekday</td>\n",
              "      <td>Early Morning</td>\n",
              "      <td>Late Night</td>\n",
              "      <td>66.0</td>\n",
              "    </tr>\n",
              "    <tr>\n",
              "      <th>4</th>\n",
              "      <td>Low Cancellation</td>\n",
              "      <td>0</td>\n",
              "      <td>0</td>\n",
              "      <td>1</td>\n",
              "      <td>0</td>\n",
              "      <td>14.655467</td>\n",
              "      <td>Tuesday</td>\n",
              "      <td>Tuesday</td>\n",
              "      <td>January</td>\n",
              "      <td>January</td>\n",
              "      <td>Weekday</td>\n",
              "      <td>Weekday</td>\n",
              "      <td>Morning</td>\n",
              "      <td>Early Morning</td>\n",
              "      <td>67.0</td>\n",
              "    </tr>\n",
              "  </tbody>\n",
              "</table>\n",
              "</div>\n",
              "      <button class=\"colab-df-convert\" onclick=\"convertToInteractive('df-a21d9d10-52b0-4d7d-bc43-8b6573a99f85')\"\n",
              "              title=\"Convert this dataframe to an interactive table.\"\n",
              "              style=\"display:none;\">\n",
              "        \n",
              "  <svg xmlns=\"http://www.w3.org/2000/svg\" height=\"24px\"viewBox=\"0 0 24 24\"\n",
              "       width=\"24px\">\n",
              "    <path d=\"M0 0h24v24H0V0z\" fill=\"none\"/>\n",
              "    <path d=\"M18.56 5.44l.94 2.06.94-2.06 2.06-.94-2.06-.94-.94-2.06-.94 2.06-2.06.94zm-11 1L8.5 8.5l.94-2.06 2.06-.94-2.06-.94L8.5 2.5l-.94 2.06-2.06.94zm10 10l.94 2.06.94-2.06 2.06-.94-2.06-.94-.94-2.06-.94 2.06-2.06.94z\"/><path d=\"M17.41 7.96l-1.37-1.37c-.4-.4-.92-.59-1.43-.59-.52 0-1.04.2-1.43.59L10.3 9.45l-7.72 7.72c-.78.78-.78 2.05 0 2.83L4 21.41c.39.39.9.59 1.41.59.51 0 1.02-.2 1.41-.59l7.78-7.78 2.81-2.81c.8-.78.8-2.07 0-2.86zM5.41 20L4 18.59l7.72-7.72 1.47 1.35L5.41 20z\"/>\n",
              "  </svg>\n",
              "      </button>\n",
              "      \n",
              "  <style>\n",
              "    .colab-df-container {\n",
              "      display:flex;\n",
              "      flex-wrap:wrap;\n",
              "      gap: 12px;\n",
              "    }\n",
              "\n",
              "    .colab-df-convert {\n",
              "      background-color: #E8F0FE;\n",
              "      border: none;\n",
              "      border-radius: 50%;\n",
              "      cursor: pointer;\n",
              "      display: none;\n",
              "      fill: #1967D2;\n",
              "      height: 32px;\n",
              "      padding: 0 0 0 0;\n",
              "      width: 32px;\n",
              "    }\n",
              "\n",
              "    .colab-df-convert:hover {\n",
              "      background-color: #E2EBFA;\n",
              "      box-shadow: 0px 1px 2px rgba(60, 64, 67, 0.3), 0px 1px 3px 1px rgba(60, 64, 67, 0.15);\n",
              "      fill: #174EA6;\n",
              "    }\n",
              "\n",
              "    [theme=dark] .colab-df-convert {\n",
              "      background-color: #3B4455;\n",
              "      fill: #D2E3FC;\n",
              "    }\n",
              "\n",
              "    [theme=dark] .colab-df-convert:hover {\n",
              "      background-color: #434B5C;\n",
              "      box-shadow: 0px 1px 3px 1px rgba(0, 0, 0, 0.15);\n",
              "      filter: drop-shadow(0px 1px 2px rgba(0, 0, 0, 0.3));\n",
              "      fill: #FFFFFF;\n",
              "    }\n",
              "  </style>\n",
              "\n",
              "      <script>\n",
              "        const buttonEl =\n",
              "          document.querySelector('#df-a21d9d10-52b0-4d7d-bc43-8b6573a99f85 button.colab-df-convert');\n",
              "        buttonEl.style.display =\n",
              "          google.colab.kernel.accessAllowed ? 'block' : 'none';\n",
              "\n",
              "        async function convertToInteractive(key) {\n",
              "          const element = document.querySelector('#df-a21d9d10-52b0-4d7d-bc43-8b6573a99f85');\n",
              "          const dataTable =\n",
              "            await google.colab.kernel.invokeFunction('convertToInteractive',\n",
              "                                                     [key], {});\n",
              "          if (!dataTable) return;\n",
              "\n",
              "          const docLinkHtml = 'Like what you see? Visit the ' +\n",
              "            '<a target=\"_blank\" href=https://colab.research.google.com/notebooks/data_table.ipynb>data table notebook</a>'\n",
              "            + ' to learn more about interactive tables.';\n",
              "          element.innerHTML = '';\n",
              "          dataTable['output_type'] = 'display_data';\n",
              "          await google.colab.output.renderOutput(dataTable, element);\n",
              "          const docLink = document.createElement('div');\n",
              "          docLink.innerHTML = docLinkHtml;\n",
              "          element.appendChild(docLink);\n",
              "        }\n",
              "      </script>\n",
              "    </div>\n",
              "  </div>\n",
              "  "
            ]
          },
          "metadata": {},
          "execution_count": 46
        }
      ],
      "source": [
        "data.head()"
      ],
      "id": "7e1eaecb"
    },
    {
      "cell_type": "markdown",
      "metadata": {
        "id": "55221e30"
      },
      "source": [
        "# **Data Visualization -->**"
      ],
      "id": "55221e30"
    },
    {
      "cell_type": "code",
      "source": [
        "data.columns"
      ],
      "metadata": {
        "colab": {
          "base_uri": "https://localhost:8080/"
        },
        "id": "VE8qEmvs-iHa",
        "outputId": "d349b17d-4f54-49b5-b81c-a423f21c8c19"
      },
      "id": "VE8qEmvs-iHa",
      "execution_count": 47,
      "outputs": [
        {
          "output_type": "execute_result",
          "data": {
            "text/plain": [
              "Index(['from_area_id', 'online_booking', 'mobile_site_booking',\n",
              "       'traveltype_pointtopoint', 'traveltype_hourly', 'distance',\n",
              "       'from_date_day', 'booking_created_day', 'from_date_month',\n",
              "       'booking_created_month', 'from_date_week', 'booking_created_week',\n",
              "       'from_date_session', 'booking_created_session', 'time_diff'],\n",
              "      dtype='object')"
            ]
          },
          "metadata": {},
          "execution_count": 47
        }
      ]
    },
    {
      "cell_type": "code",
      "source": [
        "data.info()"
      ],
      "metadata": {
        "colab": {
          "base_uri": "https://localhost:8080/"
        },
        "id": "C7g24bYiMPrK",
        "outputId": "a2df5d1d-e927-47d5-aa7e-b46a01ecd86f"
      },
      "id": "C7g24bYiMPrK",
      "execution_count": 48,
      "outputs": [
        {
          "output_type": "stream",
          "name": "stdout",
          "text": [
            "<class 'pandas.core.frame.DataFrame'>\n",
            "RangeIndex: 43431 entries, 0 to 43430\n",
            "Data columns (total 15 columns):\n",
            " #   Column                   Non-Null Count  Dtype  \n",
            "---  ------                   --------------  -----  \n",
            " 0   from_area_id             43431 non-null  object \n",
            " 1   online_booking           43431 non-null  int64  \n",
            " 2   mobile_site_booking      43431 non-null  int64  \n",
            " 3   traveltype_pointtopoint  43431 non-null  uint8  \n",
            " 4   traveltype_hourly        43431 non-null  uint8  \n",
            " 5   distance                 43431 non-null  float64\n",
            " 6   from_date_day            43431 non-null  object \n",
            " 7   booking_created_day      43431 non-null  object \n",
            " 8   from_date_month          43431 non-null  object \n",
            " 9   booking_created_month    43431 non-null  object \n",
            " 10  from_date_week           43431 non-null  object \n",
            " 11  booking_created_week     43431 non-null  object \n",
            " 12  from_date_session        43431 non-null  object \n",
            " 13  booking_created_session  43431 non-null  object \n",
            " 14  time_diff                43431 non-null  float64\n",
            "dtypes: float64(2), int64(2), object(9), uint8(2)\n",
            "memory usage: 4.4+ MB\n"
          ]
        }
      ]
    },
    {
      "cell_type": "code",
      "source": [
        "data['online_booking'].unique()"
      ],
      "metadata": {
        "colab": {
          "base_uri": "https://localhost:8080/"
        },
        "id": "fHsQOkMM-jje",
        "outputId": "fa240886-04d1-4ff4-d01f-30ea00670d0c"
      },
      "id": "fHsQOkMM-jje",
      "execution_count": 49,
      "outputs": [
        {
          "output_type": "execute_result",
          "data": {
            "text/plain": [
              "array([0, 1])"
            ]
          },
          "metadata": {},
          "execution_count": 49
        }
      ]
    },
    {
      "cell_type": "code",
      "source": [
        "sns.countplot(hue='booking_created_month',x='online_booking',data=data)"
      ],
      "metadata": {
        "colab": {
          "base_uri": "https://localhost:8080/",
          "height": 467
        },
        "id": "ndY0PcWQAwFk",
        "outputId": "82ae6498-d15b-4ab4-b607-21aedfff58eb"
      },
      "id": "ndY0PcWQAwFk",
      "execution_count": 50,
      "outputs": [
        {
          "output_type": "execute_result",
          "data": {
            "text/plain": [
              "<Axes: xlabel='online_booking', ylabel='count'>"
            ]
          },
          "metadata": {},
          "execution_count": 50
        },
        {
          "output_type": "display_data",
          "data": {
            "text/plain": [
              "<Figure size 640x480 with 1 Axes>"
            ],
            "image/png": "[encoded data removed]"
          },
          "metadata": {}
        }
      ]
    },
    {
      "cell_type": "code",
      "source": [
        "sns.countplot(x='booking_created_week',data=data)"
      ],
      "metadata": {
        "colab": {
          "base_uri": "https://localhost:8080/",
          "height": 467
        },
        "id": "HPBhXWtqAwPi",
        "outputId": "194fa1e9-b391-4924-9372-7c95cb1ba06c"
      },
      "id": "HPBhXWtqAwPi",
      "execution_count": 51,
      "outputs": [
        {
          "output_type": "execute_result",
          "data": {
            "text/plain": [
              "<Axes: xlabel='booking_created_week', ylabel='count'>"
            ]
          },
          "metadata": {},
          "execution_count": 51
        },
        {
          "output_type": "display_data",
          "data": {
            "text/plain": [
              "<Figure size 640x480 with 1 Axes>"
            ],
            "image/png": "[encoded data removed]"
          },
          "metadata": {}
        }
      ]
    },
    {
      "cell_type": "code",
      "source": [
        "sns.countplot(x='traveltype_hourly',data=data)"
      ],
      "metadata": {
        "colab": {
          "base_uri": "https://localhost:8080/",
          "height": 467
        },
        "id": "T6OEzyk6K2R-",
        "outputId": "b8561822-6df7-4d4e-e144-787d4d871719"
      },
      "id": "T6OEzyk6K2R-",
      "execution_count": 52,
      "outputs": [
        {
          "output_type": "execute_result",
          "data": {
            "text/plain": [
              "<Axes: xlabel='traveltype_hourly', ylabel='count'>"
            ]
          },
          "metadata": {},
          "execution_count": 52
        },
        {
          "output_type": "display_data",
          "data": {
            "text/plain": [
              "<Figure size 640x480 with 1 Axes>"
            ],
            "image/png": "[encoded data removed]"
          },
          "metadata": {}
        }
      ]
    },
    {
      "cell_type": "code",
      "source": [
        "sns.countplot(x='booking_created_session',data=data)"
      ],
      "metadata": {
        "colab": {
          "base_uri": "https://localhost:8080/",
          "height": 467
        },
        "id": "KFd7uAKeKOVq",
        "outputId": "99c3062e-d54c-4001-cead-4fa65e1925a9"
      },
      "id": "KFd7uAKeKOVq",
      "execution_count": 53,
      "outputs": [
        {
          "output_type": "execute_result",
          "data": {
            "text/plain": [
              "<Axes: xlabel='booking_created_session', ylabel='count'>"
            ]
          },
          "metadata": {},
          "execution_count": 53
        },
        {
          "output_type": "display_data",
          "data": {
            "text/plain": [
              "<Figure size 640x480 with 1 Axes>"
            ],
            "image/png": "[encoded data removed]"
          },
          "metadata": {}
        }
      ]
    },
    {
      "cell_type": "code",
      "source": [
        "sns.distplot(x=data['distance'])"
      ],
      "metadata": {
        "colab": {
          "base_uri": "https://localhost:8080/",
          "height": 638
        },
        "id": "NAfvKmm3LRKA",
        "outputId": "6e7b72bb-06e7-4aff-9639-e6bc556232bd"
      },
      "id": "NAfvKmm3LRKA",
      "execution_count": 54,
      "outputs": [
        {
          "output_type": "stream",
          "name": "stderr",
          "text": [
            "<ipython-input-54-d235e78e97e4>:1: UserWarning: \n",
            "\n",
            "`distplot` is a deprecated function and will be removed in seaborn v0.14.0.\n",
            "\n",
            "Please adapt your code to use either `displot` (a figure-level function with\n",
            "similar flexibility) or `histplot` (an axes-level function for histograms).\n",
            "\n",
            "For a guide to updating your code to use the new functions, please see\n",
            "https://gist.github.com/mwaskom/de44147ed2974457ad6372750bbe5751\n",
            "\n",
            "  sns.distplot(x=data['distance'])\n"
          ]
        },
        {
          "output_type": "execute_result",
          "data": {
            "text/plain": [
              "<Axes: ylabel='Density'>"
            ]
          },
          "metadata": {},
          "execution_count": 54
        },
        {
          "output_type": "display_data",
          "data": {
            "text/plain": [
              "<Figure size 640x480 with 1 Axes>"
            ],
            "image/png": "[encoded data removed]"
          },
          "metadata": {}
        }
      ]
    },
    {
      "cell_type": "code",
      "execution_count": 56,
      "metadata": {
        "colab": {
          "base_uri": "https://localhost:8080/"
        },
        "id": "a48b16b8",
        "outputId": "85563557-7564-4b18-d648-363d54878697"
      },
      "outputs": [
        {
          "output_type": "execute_result",
          "data": {
            "text/plain": [
              "Low Cancellation       43415\n",
              "Medium Cancellation       11\n",
              "High Cancellation          5\n",
              "Name: from_area_id, dtype: int64"
            ]
          },
          "metadata": {},
          "execution_count": 56
        }
      ],
      "source": [
        "data['from_area_id'].value_counts()"
      ],
      "id": "a48b16b8"
    },
    {
      "cell_type": "code",
      "execution_count": 57,
      "metadata": {
        "colab": {
          "base_uri": "https://localhost:8080/",
          "height": 1000
        },
        "id": "4a6e3ba3",
        "outputId": "faf71045-8fca-4cd5-d1f6-c6ff28e51fdb"
      },
      "outputs": [
        {
          "output_type": "display_data",
          "data": {
            "text/plain": [
              "<Figure size 640x480 with 1 Axes>"
            ],
            "image/png": "[encoded data removed]"
          },
          "metadata": {}
        },
        {
          "output_type": "display_data",
          "data": {
            "text/plain": [
              "<Figure size 640x480 with 1 Axes>"
            ],
            "image/png": "[encoded data removed]"
          },
          "metadata": {}
        },
        {
          "output_type": "display_data",
          "data": {
            "text/plain": [
              "<Figure size 640x480 with 1 Axes>"
            ],
            "image/png": "[encoded data removed]"
          },
          "metadata": {}
        },
        {
          "output_type": "display_data",
          "data": {
            "text/plain": [
              "<Figure size 640x480 with 1 Axes>"
            ],
            "image/png": "[encoded data removed]"
          },
          "metadata": {}
        },
        {
          "output_type": "display_data",
          "data": {
            "text/plain": [
              "<Figure size 640x480 with 1 Axes>"
            ],
            "image/png": "[encoded data removed]"
          },
          "metadata": {}
        },
        {
          "output_type": "display_data",
          "data": {
            "text/plain": [
              "<Figure size 640x480 with 1 Axes>"
            ],
            "image/png": "[encoded data removed]"
          },
          "metadata": {}
        },
        {
          "output_type": "display_data",
          "data": {
            "text/plain": [
              "<Figure size 640x480 with 1 Axes>"
            ],
            "image/png": "[encoded data removed]"
          },
          "metadata": {}
        },
        {
          "output_type": "display_data",
          "data": {
            "text/plain": [
              "<Figure size 640x480 with 1 Axes>"
            ],
            "image/png": "[encoded data removed]"
          },
          "metadata": {}
        },
        {
          "output_type": "display_data",
          "data": {
            "text/plain": [
              "<Figure size 640x480 with 1 Axes>"
            ],
            "image/png": "[encoded data removed]"
          },
          "metadata": {}
        }
      ],
      "source": [
        "# visualisation about categorical data\n",
        "for col in data.columns:\n",
        "  if data[col].dtype == 'object':\n",
        "    data[col].value_counts().plot.bar()\n",
        "    plt.title(col)\n",
        "    plt.show()"
      ],
      "id": "4a6e3ba3"
    },
    {
      "cell_type": "markdown",
      "metadata": {
        "id": "21215d09"
      },
      "source": [
        "## Dividing data into Numerical and Categorical dataframes"
      ],
      "id": "21215d09"
    },
    {
      "cell_type": "code",
      "execution_count": 58,
      "metadata": {
        "id": "8613c4d9"
      },
      "outputs": [],
      "source": [
        "num = data.select_dtypes(include='number')\n",
        "char = data.select_dtypes(include='object')"
      ],
      "id": "8613c4d9"
    },
    {
      "cell_type": "code",
      "execution_count": 59,
      "metadata": {
        "colab": {
          "base_uri": "https://localhost:8080/",
          "height": 206
        },
        "id": "244eabf4",
        "outputId": "33a1f3b7-af9e-43aa-b5b7-07fded5d2552"
      },
      "outputs": [
        {
          "output_type": "execute_result",
          "data": {
            "text/plain": [
              "   online_booking  mobile_site_booking  traveltype_pointtopoint  \\\n",
              "0               0                    0                        1   \n",
              "1               0                    0                        1   \n",
              "2               0                    0                        1   \n",
              "3               0                    0                        1   \n",
              "4               0                    0                        1   \n",
              "\n",
              "   traveltype_hourly   distance  time_diff  \n",
              "0                  0   3.980687       21.0  \n",
              "1                  0  14.004432      395.0  \n",
              "2                  0  12.648909       22.0  \n",
              "3                  0   9.534596       66.0  \n",
              "4                  0  14.655467       67.0  "
            ],
            "text/html": [
              "\n",
              "  <div id=\"df-00ad9633-8333-4016-ac50-1d4a7ab592c9\">\n",
              "    <div class=\"colab-df-container\">\n",
              "      <div>\n",
              "<style scoped>\n",
              "    .dataframe tbody tr th:only-of-type {\n",
              "        vertical-align: middle;\n",
              "    }\n",
              "\n",
              "    .dataframe tbody tr th {\n",
              "        vertical-align: top;\n",
              "    }\n",
              "\n",
              "    .dataframe thead th {\n",
              "        text-align: right;\n",
              "    }\n",
              "</style>\n",
              "<table border=\"1\" class=\"dataframe\">\n",
              "  <thead>\n",
              "    <tr style=\"text-align: right;\">\n",
              "      <th></th>\n",
              "      <th>online_booking</th>\n",
              "      <th>mobile_site_booking</th>\n",
              "      <th>traveltype_pointtopoint</th>\n",
              "      <th>traveltype_hourly</th>\n",
              "      <th>distance</th>\n",
              "      <th>time_diff</th>\n",
              "    </tr>\n",
              "  </thead>\n",
              "  <tbody>\n",
              "    <tr>\n",
              "      <th>0</th>\n",
              "      <td>0</td>\n",
              "      <td>0</td>\n",
              "      <td>1</td>\n",
              "      <td>0</td>\n",
              "      <td>3.980687</td>\n",
              "      <td>21.0</td>\n",
              "    </tr>\n",
              "    <tr>\n",
              "      <th>1</th>\n",
              "      <td>0</td>\n",
              "      <td>0</td>\n",
              "      <td>1</td>\n",
              "      <td>0</td>\n",
              "      <td>14.004432</td>\n",
              "      <td>395.0</td>\n",
              "    </tr>\n",
              "    <tr>\n",
              "      <th>2</th>\n",
              "      <td>0</td>\n",
              "      <td>0</td>\n",
              "      <td>1</td>\n",
              "      <td>0</td>\n",
              "      <td>12.648909</td>\n",
              "      <td>22.0</td>\n",
              "    </tr>\n",
              "    <tr>\n",
              "      <th>3</th>\n",
              "      <td>0</td>\n",
              "      <td>0</td>\n",
              "      <td>1</td>\n",
              "      <td>0</td>\n",
              "      <td>9.534596</td>\n",
              "      <td>66.0</td>\n",
              "    </tr>\n",
              "    <tr>\n",
              "      <th>4</th>\n",
              "      <td>0</td>\n",
              "      <td>0</td>\n",
              "      <td>1</td>\n",
              "      <td>0</td>\n",
              "      <td>14.655467</td>\n",
              "      <td>67.0</td>\n",
              "    </tr>\n",
              "  </tbody>\n",
              "</table>\n",
              "</div>\n",
              "      <button class=\"colab-df-convert\" onclick=\"convertToInteractive('df-00ad9633-8333-4016-ac50-1d4a7ab592c9')\"\n",
              "              title=\"Convert this dataframe to an interactive table.\"\n",
              "              style=\"display:none;\">\n",
              "        \n",
              "  <svg xmlns=\"http://www.w3.org/2000/svg\" height=\"24px\"viewBox=\"0 0 24 24\"\n",
              "       width=\"24px\">\n",
              "    <path d=\"M0 0h24v24H0V0z\" fill=\"none\"/>\n",
              "    <path d=\"M18.56 5.44l.94 2.06.94-2.06 2.06-.94-2.06-.94-.94-2.06-.94 2.06-2.06.94zm-11 1L8.5 8.5l.94-2.06 2.06-.94-2.06-.94L8.5 2.5l-.94 2.06-2.06.94zm10 10l.94 2.06.94-2.06 2.06-.94-2.06-.94-.94-2.06-.94 2.06-2.06.94z\"/><path d=\"M17.41 7.96l-1.37-1.37c-.4-.4-.92-.59-1.43-.59-.52 0-1.04.2-1.43.59L10.3 9.45l-7.72 7.72c-.78.78-.78 2.05 0 2.83L4 21.41c.39.39.9.59 1.41.59.51 0 1.02-.2 1.41-.59l7.78-7.78 2.81-2.81c.8-.78.8-2.07 0-2.86zM5.41 20L4 18.59l7.72-7.72 1.47 1.35L5.41 20z\"/>\n",
              "  </svg>\n",
              "      </button>\n",
              "      \n",
              "  <style>\n",
              "    .colab-df-container {\n",
              "      display:flex;\n",
              "      flex-wrap:wrap;\n",
              "      gap: 12px;\n",
              "    }\n",
              "\n",
              "    .colab-df-convert {\n",
              "      background-color: #E8F0FE;\n",
              "      border: none;\n",
              "      border-radius: 50%;\n",
              "      cursor: pointer;\n",
              "      display: none;\n",
              "      fill: #1967D2;\n",
              "      height: 32px;\n",
              "      padding: 0 0 0 0;\n",
              "      width: 32px;\n",
              "    }\n",
              "\n",
              "    .colab-df-convert:hover {\n",
              "      background-color: #E2EBFA;\n",
              "      box-shadow: 0px 1px 2px rgba(60, 64, 67, 0.3), 0px 1px 3px 1px rgba(60, 64, 67, 0.15);\n",
              "      fill: #174EA6;\n",
              "    }\n",
              "\n",
              "    [theme=dark] .colab-df-convert {\n",
              "      background-color: #3B4455;\n",
              "      fill: #D2E3FC;\n",
              "    }\n",
              "\n",
              "    [theme=dark] .colab-df-convert:hover {\n",
              "      background-color: #434B5C;\n",
              "      box-shadow: 0px 1px 3px 1px rgba(0, 0, 0, 0.15);\n",
              "      filter: drop-shadow(0px 1px 2px rgba(0, 0, 0, 0.3));\n",
              "      fill: #FFFFFF;\n",
              "    }\n",
              "  </style>\n",
              "\n",
              "      <script>\n",
              "        const buttonEl =\n",
              "          document.querySelector('#df-00ad9633-8333-4016-ac50-1d4a7ab592c9 button.colab-df-convert');\n",
              "        buttonEl.style.display =\n",
              "          google.colab.kernel.accessAllowed ? 'block' : 'none';\n",
              "\n",
              "        async function convertToInteractive(key) {\n",
              "          const element = document.querySelector('#df-00ad9633-8333-4016-ac50-1d4a7ab592c9');\n",
              "          const dataTable =\n",
              "            await google.colab.kernel.invokeFunction('convertToInteractive',\n",
              "                                                     [key], {});\n",
              "          if (!dataTable) return;\n",
              "\n",
              "          const docLinkHtml = 'Like what you see? Visit the ' +\n",
              "            '<a target=\"_blank\" href=https://colab.research.google.com/notebooks/data_table.ipynb>data table notebook</a>'\n",
              "            + ' to learn more about interactive tables.';\n",
              "          element.innerHTML = '';\n",
              "          dataTable['output_type'] = 'display_data';\n",
              "          await google.colab.output.renderOutput(dataTable, element);\n",
              "          const docLink = document.createElement('div');\n",
              "          docLink.innerHTML = docLinkHtml;\n",
              "          element.appendChild(docLink);\n",
              "        }\n",
              "      </script>\n",
              "    </div>\n",
              "  </div>\n",
              "  "
            ]
          },
          "metadata": {},
          "execution_count": 59
        }
      ],
      "source": [
        "num.head()"
      ],
      "id": "244eabf4"
    },
    {
      "cell_type": "code",
      "execution_count": 60,
      "metadata": {
        "colab": {
          "base_uri": "https://localhost:8080/",
          "height": 357
        },
        "id": "1932533d",
        "outputId": "8d80a102-03c3-4c51-f8b1-37a5eced14c0"
      },
      "outputs": [
        {
          "output_type": "execute_result",
          "data": {
            "text/plain": [
              "       from_area_id from_date_day booking_created_day from_date_month  \\\n",
              "0  Low Cancellation       Tuesday             Tuesday         January   \n",
              "1  Low Cancellation       Tuesday             Tuesday         January   \n",
              "2  Low Cancellation       Tuesday             Tuesday         January   \n",
              "3  Low Cancellation       Tuesday             Tuesday         January   \n",
              "4  Low Cancellation       Tuesday             Tuesday         January   \n",
              "\n",
              "  booking_created_month from_date_week booking_created_week from_date_session  \\\n",
              "0               January        Weekday              Weekday        Late Night   \n",
              "1               January        Weekday              Weekday           Morning   \n",
              "2               January        Weekday              Weekday        Late Night   \n",
              "3               January        Weekday              Weekday     Early Morning   \n",
              "4               January        Weekday              Weekday           Morning   \n",
              "\n",
              "  booking_created_session  \n",
              "0              Late Night  \n",
              "1              Late Night  \n",
              "2              Late Night  \n",
              "3              Late Night  \n",
              "4           Early Morning  "
            ],
            "text/html": [
              "\n",
              "  <div id=\"df-5997d4de-a090-47e8-886b-5f4dd9a4601a\">\n",
              "    <div class=\"colab-df-container\">\n",
              "      <div>\n",
              "<style scoped>\n",
              "    .dataframe tbody tr th:only-of-type {\n",
              "        vertical-align: middle;\n",
              "    }\n",
              "\n",
              "    .dataframe tbody tr th {\n",
              "        vertical-align: top;\n",
              "    }\n",
              "\n",
              "    .dataframe thead th {\n",
              "        text-align: right;\n",
              "    }\n",
              "</style>\n",
              "<table border=\"1\" class=\"dataframe\">\n",
              "  <thead>\n",
              "    <tr style=\"text-align: right;\">\n",
              "      <th></th>\n",
              "      <th>from_area_id</th>\n",
              "      <th>from_date_day</th>\n",
              "      <th>booking_created_day</th>\n",
              "      <th>from_date_month</th>\n",
              "      <th>booking_created_month</th>\n",
              "      <th>from_date_week</th>\n",
              "      <th>booking_created_week</th>\n",
              "      <th>from_date_session</th>\n",
              "      <th>booking_created_session</th>\n",
              "    </tr>\n",
              "  </thead>\n",
              "  <tbody>\n",
              "    <tr>\n",
              "      <th>0</th>\n",
              "      <td>Low Cancellation</td>\n",
              "      <td>Tuesday</td>\n",
              "      <td>Tuesday</td>\n",
              "      <td>January</td>\n",
              "      <td>January</td>\n",
              "      <td>Weekday</td>\n",
              "      <td>Weekday</td>\n",
              "      <td>Late Night</td>\n",
              "      <td>Late Night</td>\n",
              "    </tr>\n",
              "    <tr>\n",
              "      <th>1</th>\n",
              "      <td>Low Cancellation</td>\n",
              "      <td>Tuesday</td>\n",
              "      <td>Tuesday</td>\n",
              "      <td>January</td>\n",
              "      <td>January</td>\n",
              "      <td>Weekday</td>\n",
              "      <td>Weekday</td>\n",
              "      <td>Morning</td>\n",
              "      <td>Late Night</td>\n",
              "    </tr>\n",
              "    <tr>\n",
              "      <th>2</th>\n",
              "      <td>Low Cancellation</td>\n",
              "      <td>Tuesday</td>\n",
              "      <td>Tuesday</td>\n",
              "      <td>January</td>\n",
              "      <td>January</td>\n",
              "      <td>Weekday</td>\n",
              "      <td>Weekday</td>\n",
              "      <td>Late Night</td>\n",
              "      <td>Late Night</td>\n",
              "    </tr>\n",
              "    <tr>\n",
              "      <th>3</th>\n",
              "      <td>Low Cancellation</td>\n",
              "      <td>Tuesday</td>\n",
              "      <td>Tuesday</td>\n",
              "      <td>January</td>\n",
              "      <td>January</td>\n",
              "      <td>Weekday</td>\n",
              "      <td>Weekday</td>\n",
              "      <td>Early Morning</td>\n",
              "      <td>Late Night</td>\n",
              "    </tr>\n",
              "    <tr>\n",
              "      <th>4</th>\n",
              "      <td>Low Cancellation</td>\n",
              "      <td>Tuesday</td>\n",
              "      <td>Tuesday</td>\n",
              "      <td>January</td>\n",
              "      <td>January</td>\n",
              "      <td>Weekday</td>\n",
              "      <td>Weekday</td>\n",
              "      <td>Morning</td>\n",
              "      <td>Early Morning</td>\n",
              "    </tr>\n",
              "  </tbody>\n",
              "</table>\n",
              "</div>\n",
              "      <button class=\"colab-df-convert\" onclick=\"convertToInteractive('df-5997d4de-a090-47e8-886b-5f4dd9a4601a')\"\n",
              "              title=\"Convert this dataframe to an interactive table.\"\n",
              "              style=\"display:none;\">\n",
              "        \n",
              "  <svg xmlns=\"http://www.w3.org/2000/svg\" height=\"24px\"viewBox=\"0 0 24 24\"\n",
              "       width=\"24px\">\n",
              "    <path d=\"M0 0h24v24H0V0z\" fill=\"none\"/>\n",
              "    <path d=\"M18.56 5.44l.94 2.06.94-2.06 2.06-.94-2.06-.94-.94-2.06-.94 2.06-2.06.94zm-11 1L8.5 8.5l.94-2.06 2.06-.94-2.06-.94L8.5 2.5l-.94 2.06-2.06.94zm10 10l.94 2.06.94-2.06 2.06-.94-2.06-.94-.94-2.06-.94 2.06-2.06.94z\"/><path d=\"M17.41 7.96l-1.37-1.37c-.4-.4-.92-.59-1.43-.59-.52 0-1.04.2-1.43.59L10.3 9.45l-7.72 7.72c-.78.78-.78 2.05 0 2.83L4 21.41c.39.39.9.59 1.41.59.51 0 1.02-.2 1.41-.59l7.78-7.78 2.81-2.81c.8-.78.8-2.07 0-2.86zM5.41 20L4 18.59l7.72-7.72 1.47 1.35L5.41 20z\"/>\n",
              "  </svg>\n",
              "      </button>\n",
              "      \n",
              "  <style>\n",
              "    .colab-df-container {\n",
              "      display:flex;\n",
              "      flex-wrap:wrap;\n",
              "      gap: 12px;\n",
              "    }\n",
              "\n",
              "    .colab-df-convert {\n",
              "      background-color: #E8F0FE;\n",
              "      border: none;\n",
              "      border-radius: 50%;\n",
              "      cursor: pointer;\n",
              "      display: none;\n",
              "      fill: #1967D2;\n",
              "      height: 32px;\n",
              "      padding: 0 0 0 0;\n",
              "      width: 32px;\n",
              "    }\n",
              "\n",
              "    .colab-df-convert:hover {\n",
              "      background-color: #E2EBFA;\n",
              "      box-shadow: 0px 1px 2px rgba(60, 64, 67, 0.3), 0px 1px 3px 1px rgba(60, 64, 67, 0.15);\n",
              "      fill: #174EA6;\n",
              "    }\n",
              "\n",
              "    [theme=dark] .colab-df-convert {\n",
              "      background-color: #3B4455;\n",
              "      fill: #D2E3FC;\n",
              "    }\n",
              "\n",
              "    [theme=dark] .colab-df-convert:hover {\n",
              "      background-color: #434B5C;\n",
              "      box-shadow: 0px 1px 3px 1px rgba(0, 0, 0, 0.15);\n",
              "      filter: drop-shadow(0px 1px 2px rgba(0, 0, 0, 0.3));\n",
              "      fill: #FFFFFF;\n",
              "    }\n",
              "  </style>\n",
              "\n",
              "      <script>\n",
              "        const buttonEl =\n",
              "          document.querySelector('#df-5997d4de-a090-47e8-886b-5f4dd9a4601a button.colab-df-convert');\n",
              "        buttonEl.style.display =\n",
              "          google.colab.kernel.accessAllowed ? 'block' : 'none';\n",
              "\n",
              "        async function convertToInteractive(key) {\n",
              "          const element = document.querySelector('#df-5997d4de-a090-47e8-886b-5f4dd9a4601a');\n",
              "          const dataTable =\n",
              "            await google.colab.kernel.invokeFunction('convertToInteractive',\n",
              "                                                     [key], {});\n",
              "          if (!dataTable) return;\n",
              "\n",
              "          const docLinkHtml = 'Like what you see? Visit the ' +\n",
              "            '<a target=\"_blank\" href=https://colab.research.google.com/notebooks/data_table.ipynb>data table notebook</a>'\n",
              "            + ' to learn more about interactive tables.';\n",
              "          element.innerHTML = '';\n",
              "          dataTable['output_type'] = 'display_data';\n",
              "          await google.colab.output.renderOutput(dataTable, element);\n",
              "          const docLink = document.createElement('div');\n",
              "          docLink.innerHTML = docLinkHtml;\n",
              "          element.appendChild(docLink);\n",
              "        }\n",
              "      </script>\n",
              "    </div>\n",
              "  </div>\n",
              "  "
            ]
          },
          "metadata": {},
          "execution_count": 60
        }
      ],
      "source": [
        "char.head()"
      ],
      "id": "1932533d"
    },
    {
      "cell_type": "code",
      "execution_count": 61,
      "metadata": {
        "colab": {
          "base_uri": "https://localhost:8080/",
          "height": 1000
        },
        "id": "057f32cc",
        "outputId": "40e0ce73-9ac8-446e-af0e-2c26c3b94e27"
      },
      "outputs": [
        {
          "output_type": "display_data",
          "data": {
            "text/plain": [
              "<Figure size 640x480 with 1 Axes>"
            ],
            "image/png": "[encoded data removed]"
          },
          "metadata": {}
        },
        {
          "output_type": "display_data",
          "data": {
            "text/plain": [
              "<Figure size 640x480 with 1 Axes>"
            ],
            "image/png": "[encoded data removed]"
          },
          "metadata": {}
        },
        {
          "output_type": "display_data",
          "data": {
            "text/plain": [
              "<Figure size 640x480 with 1 Axes>"
            ],
            "image/png": "[encoded data removed]"
          },
          "metadata": {}
        },
        {
          "output_type": "display_data",
          "data": {
            "text/plain": [
              "<Figure size 640x480 with 1 Axes>"
            ],
            "image/png": "[encoded data removed]"
          },
          "metadata": {}
        },
        {
          "output_type": "display_data",
          "data": {
            "text/plain": [
              "<Figure size 640x480 with 1 Axes>"
            ],
            "image/png": "[encoded data removed]"
          },
          "metadata": {}
        },
        {
          "output_type": "display_data",
          "data": {
            "text/plain": [
              "<Figure size 640x480 with 1 Axes>"
            ],
            "image/png": "[encoded data removed]"
          },
          "metadata": {}
        },
        {
          "output_type": "display_data",
          "data": {
            "text/plain": [
              "<Figure size 640x480 with 1 Axes>"
            ],
            "image/png": "[encoded data removed]"
          },
          "metadata": {}
        },
        {
          "output_type": "display_data",
          "data": {
            "text/plain": [
              "<Figure size 640x480 with 1 Axes>"
            ],
            "image/png": "[encoded data removed]"
          },
          "metadata": {}
        },
        {
          "output_type": "display_data",
          "data": {
            "text/plain": [
              "<Figure size 640x480 with 1 Axes>"
            ],
            "image/png": "[encoded data removed]"
          },
          "metadata": {}
        }
      ],
      "source": [
        "X_char_merged = pd.concat([char,target],axis=1,join='inner')\n",
        "\n",
        "from numpy import mean\n",
        "for col in (char.columns):\n",
        "    plt.figure()\n",
        "    sns.lineplot(x=col, y=X_char_merged['Car_Cancellation'].mean(), data=X_char_merged,estimator=mean, color='red')\n",
        "    sns.barplot(x=col, y='Car_Cancellation', data=X_char_merged,estimator=mean)\n",
        "plt.show()"
      ],
      "id": "057f32cc"
    },
    {
      "cell_type": "markdown",
      "metadata": {
        "id": "b0a6bb14"
      },
      "source": [
        "## Encoding Categorical variables"
      ],
      "id": "b0a6bb14"
    },
    {
      "cell_type": "code",
      "execution_count": 62,
      "metadata": {
        "colab": {
          "base_uri": "https://localhost:8080/"
        },
        "id": "bc802c5a",
        "outputId": "04407148-3df1-4c95-fd4e-a11f3afe46e9"
      },
      "outputs": [
        {
          "output_type": "execute_result",
          "data": {
            "text/plain": [
              "(43431, 47)"
            ]
          },
          "metadata": {},
          "execution_count": 62
        }
      ],
      "source": [
        "# encoding of Categorical variables\n",
        "X_char_dum = pd.get_dummies(char, drop_first = True)\n",
        "X_char_dum.shape"
      ],
      "id": "bc802c5a"
    },
    {
      "cell_type": "code",
      "execution_count": 63,
      "metadata": {
        "colab": {
          "base_uri": "https://localhost:8080/",
          "height": 317
        },
        "id": "4ee0ecea",
        "outputId": "f0ae5a36-624a-49aa-e53b-44c9a2c305f1"
      },
      "outputs": [
        {
          "output_type": "execute_result",
          "data": {
            "text/plain": [
              "   from_area_id_Low Cancellation  from_area_id_Medium Cancellation  \\\n",
              "0                              1                                 0   \n",
              "1                              1                                 0   \n",
              "2                              1                                 0   \n",
              "3                              1                                 0   \n",
              "4                              1                                 0   \n",
              "\n",
              "   from_date_day_Monday  from_date_day_Saturday  from_date_day_Sunday  \\\n",
              "0                     0                       0                     0   \n",
              "1                     0                       0                     0   \n",
              "2                     0                       0                     0   \n",
              "3                     0                       0                     0   \n",
              "4                     0                       0                     0   \n",
              "\n",
              "   from_date_day_Thursday  from_date_day_Tuesday  from_date_day_Wednesday  \\\n",
              "0                       0                      1                        0   \n",
              "1                       0                      1                        0   \n",
              "2                       0                      1                        0   \n",
              "3                       0                      1                        0   \n",
              "4                       0                      1                        0   \n",
              "\n",
              "   booking_created_day_Monday  booking_created_day_Saturday  ...  \\\n",
              "0                           0                             0  ...   \n",
              "1                           0                             0  ...   \n",
              "2                           0                             0  ...   \n",
              "3                           0                             0  ...   \n",
              "4                           0                             0  ...   \n",
              "\n",
              "   from_date_session_Early Morning  from_date_session_Evening  \\\n",
              "0                                0                          0   \n",
              "1                                0                          0   \n",
              "2                                0                          0   \n",
              "3                                1                          0   \n",
              "4                                0                          0   \n",
              "\n",
              "   from_date_session_Late Night  from_date_session_Morning  \\\n",
              "0                             1                          0   \n",
              "1                             0                          1   \n",
              "2                             1                          0   \n",
              "3                             0                          0   \n",
              "4                             0                          1   \n",
              "\n",
              "   from_date_session_Night  booking_created_session_Early Morning  \\\n",
              "0                        0                                      0   \n",
              "1                        0                                      0   \n",
              "2                        0                                      0   \n",
              "3                        0                                      0   \n",
              "4                        0                                      1   \n",
              "\n",
              "   booking_created_session_Evening  booking_created_session_Late Night  \\\n",
              "0                                0                                   1   \n",
              "1                                0                                   1   \n",
              "2                                0                                   1   \n",
              "3                                0                                   1   \n",
              "4                                0                                   0   \n",
              "\n",
              "   booking_created_session_Morning  booking_created_session_Night  \n",
              "0                                0                              0  \n",
              "1                                0                              0  \n",
              "2                                0                              0  \n",
              "3                                0                              0  \n",
              "4                                0                              0  \n",
              "\n",
              "[5 rows x 47 columns]"
            ],
            "text/html": [
              "\n",
              "  <div id=\"df-62a9af79-78e4-4a8b-b214-0b1f4d9ea733\">\n",
              "    <div class=\"colab-df-container\">\n",
              "      <div>\n",
              "<style scoped>\n",
              "    .dataframe tbody tr th:only-of-type {\n",
              "        vertical-align: middle;\n",
              "    }\n",
              "\n",
              "    .dataframe tbody tr th {\n",
              "        vertical-align: top;\n",
              "    }\n",
              "\n",
              "    .dataframe thead th {\n",
              "        text-align: right;\n",
              "    }\n",
              "</style>\n",
              "<table border=\"1\" class=\"dataframe\">\n",
              "  <thead>\n",
              "    <tr style=\"text-align: right;\">\n",
              "      <th></th>\n",
              "      <th>from_area_id_Low Cancellation</th>\n",
              "      <th>from_area_id_Medium Cancellation</th>\n",
              "      <th>from_date_day_Monday</th>\n",
              "      <th>from_date_day_Saturday</th>\n",
              "      <th>from_date_day_Sunday</th>\n",
              "      <th>from_date_day_Thursday</th>\n",
              "      <th>from_date_day_Tuesday</th>\n",
              "      <th>from_date_day_Wednesday</th>\n",
              "      <th>booking_created_day_Monday</th>\n",
              "      <th>booking_created_day_Saturday</th>\n",
              "      <th>...</th>\n",
              "      <th>from_date_session_Early Morning</th>\n",
              "      <th>from_date_session_Evening</th>\n",
              "      <th>from_date_session_Late Night</th>\n",
              "      <th>from_date_session_Morning</th>\n",
              "      <th>from_date_session_Night</th>\n",
              "      <th>booking_created_session_Early Morning</th>\n",
              "      <th>booking_created_session_Evening</th>\n",
              "      <th>booking_created_session_Late Night</th>\n",
              "      <th>booking_created_session_Morning</th>\n",
              "      <th>booking_created_session_Night</th>\n",
              "    </tr>\n",
              "  </thead>\n",
              "  <tbody>\n",
              "    <tr>\n",
              "      <th>0</th>\n",
              "      <td>1</td>\n",
              "      <td>0</td>\n",
              "      <td>0</td>\n",
              "      <td>0</td>\n",
              "      <td>0</td>\n",
              "      <td>0</td>\n",
              "      <td>1</td>\n",
              "      <td>0</td>\n",
              "      <td>0</td>\n",
              "      <td>0</td>\n",
              "      <td>...</td>\n",
              "      <td>0</td>\n",
              "      <td>0</td>\n",
              "      <td>1</td>\n",
              "      <td>0</td>\n",
              "      <td>0</td>\n",
              "      <td>0</td>\n",
              "      <td>0</td>\n",
              "      <td>1</td>\n",
              "      <td>0</td>\n",
              "      <td>0</td>\n",
              "    </tr>\n",
              "    <tr>\n",
              "      <th>1</th>\n",
              "      <td>1</td>\n",
              "      <td>0</td>\n",
              "      <td>0</td>\n",
              "      <td>0</td>\n",
              "      <td>0</td>\n",
              "      <td>0</td>\n",
              "      <td>1</td>\n",
              "      <td>0</td>\n",
              "      <td>0</td>\n",
              "      <td>0</td>\n",
              "      <td>...</td>\n",
              "      <td>0</td>\n",
              "      <td>0</td>\n",
              "      <td>0</td>\n",
              "      <td>1</td>\n",
              "      <td>0</td>\n",
              "      <td>0</td>\n",
              "      <td>0</td>\n",
              "      <td>1</td>\n",
              "      <td>0</td>\n",
              "      <td>0</td>\n",
              "    </tr>\n",
              "    <tr>\n",
              "      <th>2</th>\n",
              "      <td>1</td>\n",
              "      <td>0</td>\n",
              "      <td>0</td>\n",
              "      <td>0</td>\n",
              "      <td>0</td>\n",
              "      <td>0</td>\n",
              "      <td>1</td>\n",
              "      <td>0</td>\n",
              "      <td>0</td>\n",
              "      <td>0</td>\n",
              "      <td>...</td>\n",
              "      <td>0</td>\n",
              "      <td>0</td>\n",
              "      <td>1</td>\n",
              "      <td>0</td>\n",
              "      <td>0</td>\n",
              "      <td>0</td>\n",
              "      <td>0</td>\n",
              "      <td>1</td>\n",
              "      <td>0</td>\n",
              "      <td>0</td>\n",
              "    </tr>\n",
              "    <tr>\n",
              "      <th>3</th>\n",
              "      <td>1</td>\n",
              "      <td>0</td>\n",
              "      <td>0</td>\n",
              "      <td>0</td>\n",
              "      <td>0</td>\n",
              "      <td>0</td>\n",
              "      <td>1</td>\n",
              "      <td>0</td>\n",
              "      <td>0</td>\n",
              "      <td>0</td>\n",
              "      <td>...</td>\n",
              "      <td>1</td>\n",
              "      <td>0</td>\n",
              "      <td>0</td>\n",
              "      <td>0</td>\n",
              "      <td>0</td>\n",
              "      <td>0</td>\n",
              "      <td>0</td>\n",
              "      <td>1</td>\n",
              "      <td>0</td>\n",
              "      <td>0</td>\n",
              "    </tr>\n",
              "    <tr>\n",
              "      <th>4</th>\n",
              "      <td>1</td>\n",
              "      <td>0</td>\n",
              "      <td>0</td>\n",
              "      <td>0</td>\n",
              "      <td>0</td>\n",
              "      <td>0</td>\n",
              "      <td>1</td>\n",
              "      <td>0</td>\n",
              "      <td>0</td>\n",
              "      <td>0</td>\n",
              "      <td>...</td>\n",
              "      <td>0</td>\n",
              "      <td>0</td>\n",
              "      <td>0</td>\n",
              "      <td>1</td>\n",
              "      <td>0</td>\n",
              "      <td>1</td>\n",
              "      <td>0</td>\n",
              "      <td>0</td>\n",
              "      <td>0</td>\n",
              "      <td>0</td>\n",
              "    </tr>\n",
              "  </tbody>\n",
              "</table>\n",
              "<p>5 rows × 47 columns</p>\n",
              "</div>\n",
              "      <button class=\"colab-df-convert\" onclick=\"convertToInteractive('df-62a9af79-78e4-4a8b-b214-0b1f4d9ea733')\"\n",
              "              title=\"Convert this dataframe to an interactive table.\"\n",
              "              style=\"display:none;\">\n",
              "        \n",
              "  <svg xmlns=\"http://www.w3.org/2000/svg\" height=\"24px\"viewBox=\"0 0 24 24\"\n",
              "       width=\"24px\">\n",
              "    <path d=\"M0 0h24v24H0V0z\" fill=\"none\"/>\n",
              "    <path d=\"M18.56 5.44l.94 2.06.94-2.06 2.06-.94-2.06-.94-.94-2.06-.94 2.06-2.06.94zm-11 1L8.5 8.5l.94-2.06 2.06-.94-2.06-.94L8.5 2.5l-.94 2.06-2.06.94zm10 10l.94 2.06.94-2.06 2.06-.94-2.06-.94-.94-2.06-.94 2.06-2.06.94z\"/><path d=\"M17.41 7.96l-1.37-1.37c-.4-.4-.92-.59-1.43-.59-.52 0-1.04.2-1.43.59L10.3 9.45l-7.72 7.72c-.78.78-.78 2.05 0 2.83L4 21.41c.39.39.9.59 1.41.59.51 0 1.02-.2 1.41-.59l7.78-7.78 2.81-2.81c.8-.78.8-2.07 0-2.86zM5.41 20L4 18.59l7.72-7.72 1.47 1.35L5.41 20z\"/>\n",
              "  </svg>\n",
              "      </button>\n",
              "      \n",
              "  <style>\n",
              "    .colab-df-container {\n",
              "      display:flex;\n",
              "      flex-wrap:wrap;\n",
              "      gap: 12px;\n",
              "    }\n",
              "\n",
              "    .colab-df-convert {\n",
              "      background-color: #E8F0FE;\n",
              "      border: none;\n",
              "      border-radius: 50%;\n",
              "      cursor: pointer;\n",
              "      display: none;\n",
              "      fill: #1967D2;\n",
              "      height: 32px;\n",
              "      padding: 0 0 0 0;\n",
              "      width: 32px;\n",
              "    }\n",
              "\n",
              "    .colab-df-convert:hover {\n",
              "      background-color: #E2EBFA;\n",
              "      box-shadow: 0px 1px 2px rgba(60, 64, 67, 0.3), 0px 1px 3px 1px rgba(60, 64, 67, 0.15);\n",
              "      fill: #174EA6;\n",
              "    }\n",
              "\n",
              "    [theme=dark] .colab-df-convert {\n",
              "      background-color: #3B4455;\n",
              "      fill: #D2E3FC;\n",
              "    }\n",
              "\n",
              "    [theme=dark] .colab-df-convert:hover {\n",
              "      background-color: #434B5C;\n",
              "      box-shadow: 0px 1px 3px 1px rgba(0, 0, 0, 0.15);\n",
              "      filter: drop-shadow(0px 1px 2px rgba(0, 0, 0, 0.3));\n",
              "      fill: #FFFFFF;\n",
              "    }\n",
              "  </style>\n",
              "\n",
              "      <script>\n",
              "        const buttonEl =\n",
              "          document.querySelector('#df-62a9af79-78e4-4a8b-b214-0b1f4d9ea733 button.colab-df-convert');\n",
              "        buttonEl.style.display =\n",
              "          google.colab.kernel.accessAllowed ? 'block' : 'none';\n",
              "\n",
              "        async function convertToInteractive(key) {\n",
              "          const element = document.querySelector('#df-62a9af79-78e4-4a8b-b214-0b1f4d9ea733');\n",
              "          const dataTable =\n",
              "            await google.colab.kernel.invokeFunction('convertToInteractive',\n",
              "                                                     [key], {});\n",
              "          if (!dataTable) return;\n",
              "\n",
              "          const docLinkHtml = 'Like what you see? Visit the ' +\n",
              "            '<a target=\"_blank\" href=https://colab.research.google.com/notebooks/data_table.ipynb>data table notebook</a>'\n",
              "            + ' to learn more about interactive tables.';\n",
              "          element.innerHTML = '';\n",
              "          dataTable['output_type'] = 'display_data';\n",
              "          await google.colab.output.renderOutput(dataTable, element);\n",
              "          const docLink = document.createElement('div');\n",
              "          docLink.innerHTML = docLinkHtml;\n",
              "          element.appendChild(docLink);\n",
              "        }\n",
              "      </script>\n",
              "    </div>\n",
              "  </div>\n",
              "  "
            ]
          },
          "metadata": {},
          "execution_count": 63
        }
      ],
      "source": [
        "X_char_dum.head()"
      ],
      "id": "4ee0ecea"
    },
    {
      "cell_type": "code",
      "execution_count": 64,
      "metadata": {
        "id": "10be2f95"
      },
      "outputs": [],
      "source": [
        "data_all = pd.concat([num,X_char_dum],axis=1,join='inner')"
      ],
      "id": "10be2f95"
    },
    {
      "cell_type": "code",
      "execution_count": 65,
      "metadata": {
        "colab": {
          "base_uri": "https://localhost:8080/",
          "height": 317
        },
        "id": "24ded958",
        "outputId": "2343d7b6-ce19-4d25-d5bb-d67182f76f28"
      },
      "outputs": [
        {
          "output_type": "execute_result",
          "data": {
            "text/plain": [
              "   online_booking  mobile_site_booking  traveltype_pointtopoint  \\\n",
              "0               0                    0                        1   \n",
              "1               0                    0                        1   \n",
              "2               0                    0                        1   \n",
              "3               0                    0                        1   \n",
              "4               0                    0                        1   \n",
              "\n",
              "   traveltype_hourly   distance  time_diff  from_area_id_Low Cancellation  \\\n",
              "0                  0   3.980687       21.0                              1   \n",
              "1                  0  14.004432      395.0                              1   \n",
              "2                  0  12.648909       22.0                              1   \n",
              "3                  0   9.534596       66.0                              1   \n",
              "4                  0  14.655467       67.0                              1   \n",
              "\n",
              "   from_area_id_Medium Cancellation  from_date_day_Monday  \\\n",
              "0                                 0                     0   \n",
              "1                                 0                     0   \n",
              "2                                 0                     0   \n",
              "3                                 0                     0   \n",
              "4                                 0                     0   \n",
              "\n",
              "   from_date_day_Saturday  ...  from_date_session_Early Morning  \\\n",
              "0                       0  ...                                0   \n",
              "1                       0  ...                                0   \n",
              "2                       0  ...                                0   \n",
              "3                       0  ...                                1   \n",
              "4                       0  ...                                0   \n",
              "\n",
              "   from_date_session_Evening  from_date_session_Late Night  \\\n",
              "0                          0                             1   \n",
              "1                          0                             0   \n",
              "2                          0                             1   \n",
              "3                          0                             0   \n",
              "4                          0                             0   \n",
              "\n",
              "   from_date_session_Morning  from_date_session_Night  \\\n",
              "0                          0                        0   \n",
              "1                          1                        0   \n",
              "2                          0                        0   \n",
              "3                          0                        0   \n",
              "4                          1                        0   \n",
              "\n",
              "   booking_created_session_Early Morning  booking_created_session_Evening  \\\n",
              "0                                      0                                0   \n",
              "1                                      0                                0   \n",
              "2                                      0                                0   \n",
              "3                                      0                                0   \n",
              "4                                      1                                0   \n",
              "\n",
              "   booking_created_session_Late Night  booking_created_session_Morning  \\\n",
              "0                                   1                                0   \n",
              "1                                   1                                0   \n",
              "2                                   1                                0   \n",
              "3                                   1                                0   \n",
              "4                                   0                                0   \n",
              "\n",
              "   booking_created_session_Night  \n",
              "0                              0  \n",
              "1                              0  \n",
              "2                              0  \n",
              "3                              0  \n",
              "4                              0  \n",
              "\n",
              "[5 rows x 53 columns]"
            ],
            "text/html": [
              "\n",
              "  <div id=\"df-3733b99f-8413-42b5-8d98-e032c6bf1473\">\n",
              "    <div class=\"colab-df-container\">\n",
              "      <div>\n",
              "<style scoped>\n",
              "    .dataframe tbody tr th:only-of-type {\n",
              "        vertical-align: middle;\n",
              "    }\n",
              "\n",
              "    .dataframe tbody tr th {\n",
              "        vertical-align: top;\n",
              "    }\n",
              "\n",
              "    .dataframe thead th {\n",
              "        text-align: right;\n",
              "    }\n",
              "</style>\n",
              "<table border=\"1\" class=\"dataframe\">\n",
              "  <thead>\n",
              "    <tr style=\"text-align: right;\">\n",
              "      <th></th>\n",
              "      <th>online_booking</th>\n",
              "      <th>mobile_site_booking</th>\n",
              "      <th>traveltype_pointtopoint</th>\n",
              "      <th>traveltype_hourly</th>\n",
              "      <th>distance</th>\n",
              "      <th>time_diff</th>\n",
              "      <th>from_area_id_Low Cancellation</th>\n",
              "      <th>from_area_id_Medium Cancellation</th>\n",
              "      <th>from_date_day_Monday</th>\n",
              "      <th>from_date_day_Saturday</th>\n",
              "      <th>...</th>\n",
              "      <th>from_date_session_Early Morning</th>\n",
              "      <th>from_date_session_Evening</th>\n",
              "      <th>from_date_session_Late Night</th>\n",
              "      <th>from_date_session_Morning</th>\n",
              "      <th>from_date_session_Night</th>\n",
              "      <th>booking_created_session_Early Morning</th>\n",
              "      <th>booking_created_session_Evening</th>\n",
              "      <th>booking_created_session_Late Night</th>\n",
              "      <th>booking_created_session_Morning</th>\n",
              "      <th>booking_created_session_Night</th>\n",
              "    </tr>\n",
              "  </thead>\n",
              "  <tbody>\n",
              "    <tr>\n",
              "      <th>0</th>\n",
              "      <td>0</td>\n",
              "      <td>0</td>\n",
              "      <td>1</td>\n",
              "      <td>0</td>\n",
              "      <td>3.980687</td>\n",
              "      <td>21.0</td>\n",
              "      <td>1</td>\n",
              "      <td>0</td>\n",
              "      <td>0</td>\n",
              "      <td>0</td>\n",
              "      <td>...</td>\n",
              "      <td>0</td>\n",
              "      <td>0</td>\n",
              "      <td>1</td>\n",
              "      <td>0</td>\n",
              "      <td>0</td>\n",
              "      <td>0</td>\n",
              "      <td>0</td>\n",
              "      <td>1</td>\n",
              "      <td>0</td>\n",
              "      <td>0</td>\n",
              "    </tr>\n",
              "    <tr>\n",
              "      <th>1</th>\n",
              "      <td>0</td>\n",
              "      <td>0</td>\n",
              "      <td>1</td>\n",
              "      <td>0</td>\n",
              "      <td>14.004432</td>\n",
              "      <td>395.0</td>\n",
              "      <td>1</td>\n",
              "      <td>0</td>\n",
              "      <td>0</td>\n",
              "      <td>0</td>\n",
              "      <td>...</td>\n",
              "      <td>0</td>\n",
              "      <td>0</td>\n",
              "      <td>0</td>\n",
              "      <td>1</td>\n",
              "      <td>0</td>\n",
              "      <td>0</td>\n",
              "      <td>0</td>\n",
              "      <td>1</td>\n",
              "      <td>0</td>\n",
              "      <td>0</td>\n",
              "    </tr>\n",
              "    <tr>\n",
              "      <th>2</th>\n",
              "      <td>0</td>\n",
              "      <td>0</td>\n",
              "      <td>1</td>\n",
              "      <td>0</td>\n",
              "      <td>12.648909</td>\n",
              "      <td>22.0</td>\n",
              "      <td>1</td>\n",
              "      <td>0</td>\n",
              "      <td>0</td>\n",
              "      <td>0</td>\n",
              "      <td>...</td>\n",
              "      <td>0</td>\n",
              "      <td>0</td>\n",
              "      <td>1</td>\n",
              "      <td>0</td>\n",
              "      <td>0</td>\n",
              "      <td>0</td>\n",
              "      <td>0</td>\n",
              "      <td>1</td>\n",
              "      <td>0</td>\n",
              "      <td>0</td>\n",
              "    </tr>\n",
              "    <tr>\n",
              "      <th>3</th>\n",
              "      <td>0</td>\n",
              "      <td>0</td>\n",
              "      <td>1</td>\n",
              "      <td>0</td>\n",
              "      <td>9.534596</td>\n",
              "      <td>66.0</td>\n",
              "      <td>1</td>\n",
              "      <td>0</td>\n",
              "      <td>0</td>\n",
              "      <td>0</td>\n",
              "      <td>...</td>\n",
              "      <td>1</td>\n",
              "      <td>0</td>\n",
              "      <td>0</td>\n",
              "      <td>0</td>\n",
              "      <td>0</td>\n",
              "      <td>0</td>\n",
              "      <td>0</td>\n",
              "      <td>1</td>\n",
              "      <td>0</td>\n",
              "      <td>0</td>\n",
              "    </tr>\n",
              "    <tr>\n",
              "      <th>4</th>\n",
              "      <td>0</td>\n",
              "      <td>0</td>\n",
              "      <td>1</td>\n",
              "      <td>0</td>\n",
              "      <td>14.655467</td>\n",
              "      <td>67.0</td>\n",
              "      <td>1</td>\n",
              "      <td>0</td>\n",
              "      <td>0</td>\n",
              "      <td>0</td>\n",
              "      <td>...</td>\n",
              "      <td>0</td>\n",
              "      <td>0</td>\n",
              "      <td>0</td>\n",
              "      <td>1</td>\n",
              "      <td>0</td>\n",
              "      <td>1</td>\n",
              "      <td>0</td>\n",
              "      <td>0</td>\n",
              "      <td>0</td>\n",
              "      <td>0</td>\n",
              "    </tr>\n",
              "  </tbody>\n",
              "</table>\n",
              "<p>5 rows × 53 columns</p>\n",
              "</div>\n",
              "      <button class=\"colab-df-convert\" onclick=\"convertToInteractive('df-3733b99f-8413-42b5-8d98-e032c6bf1473')\"\n",
              "              title=\"Convert this dataframe to an interactive table.\"\n",
              "              style=\"display:none;\">\n",
              "        \n",
              "  <svg xmlns=\"http://www.w3.org/2000/svg\" height=\"24px\"viewBox=\"0 0 24 24\"\n",
              "       width=\"24px\">\n",
              "    <path d=\"M0 0h24v24H0V0z\" fill=\"none\"/>\n",
              "    <path d=\"M18.56 5.44l.94 2.06.94-2.06 2.06-.94-2.06-.94-.94-2.06-.94 2.06-2.06.94zm-11 1L8.5 8.5l.94-2.06 2.06-.94-2.06-.94L8.5 2.5l-.94 2.06-2.06.94zm10 10l.94 2.06.94-2.06 2.06-.94-2.06-.94-.94-2.06-.94 2.06-2.06.94z\"/><path d=\"M17.41 7.96l-1.37-1.37c-.4-.4-.92-.59-1.43-.59-.52 0-1.04.2-1.43.59L10.3 9.45l-7.72 7.72c-.78.78-.78 2.05 0 2.83L4 21.41c.39.39.9.59 1.41.59.51 0 1.02-.2 1.41-.59l7.78-7.78 2.81-2.81c.8-.78.8-2.07 0-2.86zM5.41 20L4 18.59l7.72-7.72 1.47 1.35L5.41 20z\"/>\n",
              "  </svg>\n",
              "      </button>\n",
              "      \n",
              "  <style>\n",
              "    .colab-df-container {\n",
              "      display:flex;\n",
              "      flex-wrap:wrap;\n",
              "      gap: 12px;\n",
              "    }\n",
              "\n",
              "    .colab-df-convert {\n",
              "      background-color: #E8F0FE;\n",
              "      border: none;\n",
              "      border-radius: 50%;\n",
              "      cursor: pointer;\n",
              "      display: none;\n",
              "      fill: #1967D2;\n",
              "      height: 32px;\n",
              "      padding: 0 0 0 0;\n",
              "      width: 32px;\n",
              "    }\n",
              "\n",
              "    .colab-df-convert:hover {\n",
              "      background-color: #E2EBFA;\n",
              "      box-shadow: 0px 1px 2px rgba(60, 64, 67, 0.3), 0px 1px 3px 1px rgba(60, 64, 67, 0.15);\n",
              "      fill: #174EA6;\n",
              "    }\n",
              "\n",
              "    [theme=dark] .colab-df-convert {\n",
              "      background-color: #3B4455;\n",
              "      fill: #D2E3FC;\n",
              "    }\n",
              "\n",
              "    [theme=dark] .colab-df-convert:hover {\n",
              "      background-color: #434B5C;\n",
              "      box-shadow: 0px 1px 3px 1px rgba(0, 0, 0, 0.15);\n",
              "      filter: drop-shadow(0px 1px 2px rgba(0, 0, 0, 0.3));\n",
              "      fill: #FFFFFF;\n",
              "    }\n",
              "  </style>\n",
              "\n",
              "      <script>\n",
              "        const buttonEl =\n",
              "          document.querySelector('#df-3733b99f-8413-42b5-8d98-e032c6bf1473 button.colab-df-convert');\n",
              "        buttonEl.style.display =\n",
              "          google.colab.kernel.accessAllowed ? 'block' : 'none';\n",
              "\n",
              "        async function convertToInteractive(key) {\n",
              "          const element = document.querySelector('#df-3733b99f-8413-42b5-8d98-e032c6bf1473');\n",
              "          const dataTable =\n",
              "            await google.colab.kernel.invokeFunction('convertToInteractive',\n",
              "                                                     [key], {});\n",
              "          if (!dataTable) return;\n",
              "\n",
              "          const docLinkHtml = 'Like what you see? Visit the ' +\n",
              "            '<a target=\"_blank\" href=https://colab.research.google.com/notebooks/data_table.ipynb>data table notebook</a>'\n",
              "            + ' to learn more about interactive tables.';\n",
              "          element.innerHTML = '';\n",
              "          dataTable['output_type'] = 'display_data';\n",
              "          await google.colab.output.renderOutput(dataTable, element);\n",
              "          const docLink = document.createElement('div');\n",
              "          docLink.innerHTML = docLinkHtml;\n",
              "          element.appendChild(docLink);\n",
              "        }\n",
              "      </script>\n",
              "    </div>\n",
              "  </div>\n",
              "  "
            ]
          },
          "metadata": {},
          "execution_count": 65
        }
      ],
      "source": [
        "data_all.head()"
      ],
      "id": "24ded958"
    },
    {
      "cell_type": "code",
      "execution_count": 66,
      "metadata": {
        "colab": {
          "base_uri": "https://localhost:8080/"
        },
        "id": "3d402332",
        "outputId": "4c1c6e86-85fa-4672-c816-8315d83d2461"
      },
      "outputs": [
        {
          "output_type": "execute_result",
          "data": {
            "text/plain": [
              "(43431, 53)"
            ]
          },
          "metadata": {},
          "execution_count": 66
        }
      ],
      "source": [
        "data_all.shape"
      ],
      "id": "3d402332"
    },
    {
      "cell_type": "markdown",
      "metadata": {
        "id": "3bb83e33"
      },
      "source": [
        "## Train Test Split"
      ],
      "id": "3bb83e33"
    },
    {
      "cell_type": "code",
      "execution_count": 67,
      "metadata": {
        "id": "9813a98d"
      },
      "outputs": [],
      "source": [
        "from sklearn.model_selection import train_test_split\n",
        "X_train,X_test,y_train,y_test = train_test_split(data_all,target,test_size=0.2,random_state=0)"
      ],
      "id": "9813a98d"
    },
    {
      "cell_type": "code",
      "execution_count": 68,
      "metadata": {
        "colab": {
          "base_uri": "https://localhost:8080/",
          "height": 317
        },
        "id": "38a9ad5d",
        "outputId": "0da451c6-6316-4971-83e1-fd44eb7f1637"
      },
      "outputs": [
        {
          "output_type": "execute_result",
          "data": {
            "text/plain": [
              "       online_booking  mobile_site_booking  traveltype_pointtopoint  \\\n",
              "30976               1                    0                        1   \n",
              "40022               0                    0                        1   \n",
              "30078               0                    0                        0   \n",
              "34586               1                    0                        1   \n",
              "21362               0                    0                        1   \n",
              "\n",
              "       traveltype_hourly   distance  time_diff  from_area_id_Low Cancellation  \\\n",
              "30976                  0  10.362671     1199.0                              1   \n",
              "40022                  0   5.322934       36.0                              1   \n",
              "30078                  1   3.564880      226.0                              1   \n",
              "34586                  0  14.511608      296.0                              1   \n",
              "21362                  0  15.856414     3227.0                              1   \n",
              "\n",
              "       from_area_id_Medium Cancellation  from_date_day_Monday  \\\n",
              "30976                                 0                     0   \n",
              "40022                                 0                     0   \n",
              "30078                                 0                     0   \n",
              "34586                                 0                     1   \n",
              "21362                                 0                     1   \n",
              "\n",
              "       from_date_day_Saturday  ...  from_date_session_Early Morning  \\\n",
              "30976                       0  ...                                0   \n",
              "40022                       0  ...                                0   \n",
              "30078                       0  ...                                0   \n",
              "34586                       0  ...                                1   \n",
              "21362                       0  ...                                0   \n",
              "\n",
              "       from_date_session_Evening  from_date_session_Late Night  \\\n",
              "30976                          0                             0   \n",
              "40022                          1                             0   \n",
              "30078                          0                             0   \n",
              "34586                          0                             0   \n",
              "21362                          1                             0   \n",
              "\n",
              "       from_date_session_Morning  from_date_session_Night  \\\n",
              "30976                          1                        0   \n",
              "40022                          0                        0   \n",
              "30078                          1                        0   \n",
              "34586                          0                        0   \n",
              "21362                          0                        0   \n",
              "\n",
              "       booking_created_session_Early Morning  booking_created_session_Evening  \\\n",
              "30976                                      0                                0   \n",
              "40022                                      0                                1   \n",
              "30078                                      1                                0   \n",
              "34586                                      0                                0   \n",
              "21362                                      0                                0   \n",
              "\n",
              "       booking_created_session_Late Night  booking_created_session_Morning  \\\n",
              "30976                                   0                                0   \n",
              "40022                                   0                                0   \n",
              "30078                                   0                                0   \n",
              "34586                                   1                                0   \n",
              "21362                                   0                                1   \n",
              "\n",
              "       booking_created_session_Night  \n",
              "30976                              0  \n",
              "40022                              0  \n",
              "30078                              0  \n",
              "34586                              0  \n",
              "21362                              0  \n",
              "\n",
              "[5 rows x 53 columns]"
            ],
            "text/html": [
              "\n",
              "  <div id=\"df-b4ec79e1-0462-4429-84f8-b78e3b299c47\">\n",
              "    <div class=\"colab-df-container\">\n",
              "      <div>\n",
              "<style scoped>\n",
              "    .dataframe tbody tr th:only-of-type {\n",
              "        vertical-align: middle;\n",
              "    }\n",
              "\n",
              "    .dataframe tbody tr th {\n",
              "        vertical-align: top;\n",
              "    }\n",
              "\n",
              "    .dataframe thead th {\n",
              "        text-align: right;\n",
              "    }\n",
              "</style>\n",
              "<table border=\"1\" class=\"dataframe\">\n",
              "  <thead>\n",
              "    <tr style=\"text-align: right;\">\n",
              "      <th></th>\n",
              "      <th>online_booking</th>\n",
              "      <th>mobile_site_booking</th>\n",
              "      <th>traveltype_pointtopoint</th>\n",
              "      <th>traveltype_hourly</th>\n",
              "      <th>distance</th>\n",
              "      <th>time_diff</th>\n",
              "      <th>from_area_id_Low Cancellation</th>\n",
              "      <th>from_area_id_Medium Cancellation</th>\n",
              "      <th>from_date_day_Monday</th>\n",
              "      <th>from_date_day_Saturday</th>\n",
              "      <th>...</th>\n",
              "      <th>from_date_session_Early Morning</th>\n",
              "      <th>from_date_session_Evening</th>\n",
              "      <th>from_date_session_Late Night</th>\n",
              "      <th>from_date_session_Morning</th>\n",
              "      <th>from_date_session_Night</th>\n",
              "      <th>booking_created_session_Early Morning</th>\n",
              "      <th>booking_created_session_Evening</th>\n",
              "      <th>booking_created_session_Late Night</th>\n",
              "      <th>booking_created_session_Morning</th>\n",
              "      <th>booking_created_session_Night</th>\n",
              "    </tr>\n",
              "  </thead>\n",
              "  <tbody>\n",
              "    <tr>\n",
              "      <th>30976</th>\n",
              "      <td>1</td>\n",
              "      <td>0</td>\n",
              "      <td>1</td>\n",
              "      <td>0</td>\n",
              "      <td>10.362671</td>\n",
              "      <td>1199.0</td>\n",
              "      <td>1</td>\n",
              "      <td>0</td>\n",
              "      <td>0</td>\n",
              "      <td>0</td>\n",
              "      <td>...</td>\n",
              "      <td>0</td>\n",
              "      <td>0</td>\n",
              "      <td>0</td>\n",
              "      <td>1</td>\n",
              "      <td>0</td>\n",
              "      <td>0</td>\n",
              "      <td>0</td>\n",
              "      <td>0</td>\n",
              "      <td>0</td>\n",
              "      <td>0</td>\n",
              "    </tr>\n",
              "    <tr>\n",
              "      <th>40022</th>\n",
              "      <td>0</td>\n",
              "      <td>0</td>\n",
              "      <td>1</td>\n",
              "      <td>0</td>\n",
              "      <td>5.322934</td>\n",
              "      <td>36.0</td>\n",
              "      <td>1</td>\n",
              "      <td>0</td>\n",
              "      <td>0</td>\n",
              "      <td>0</td>\n",
              "      <td>...</td>\n",
              "      <td>0</td>\n",
              "      <td>1</td>\n",
              "      <td>0</td>\n",
              "      <td>0</td>\n",
              "      <td>0</td>\n",
              "      <td>0</td>\n",
              "      <td>1</td>\n",
              "      <td>0</td>\n",
              "      <td>0</td>\n",
              "      <td>0</td>\n",
              "    </tr>\n",
              "    <tr>\n",
              "      <th>30078</th>\n",
              "      <td>0</td>\n",
              "      <td>0</td>\n",
              "      <td>0</td>\n",
              "      <td>1</td>\n",
              "      <td>3.564880</td>\n",
              "      <td>226.0</td>\n",
              "      <td>1</td>\n",
              "      <td>0</td>\n",
              "      <td>0</td>\n",
              "      <td>0</td>\n",
              "      <td>...</td>\n",
              "      <td>0</td>\n",
              "      <td>0</td>\n",
              "      <td>0</td>\n",
              "      <td>1</td>\n",
              "      <td>0</td>\n",
              "      <td>1</td>\n",
              "      <td>0</td>\n",
              "      <td>0</td>\n",
              "      <td>0</td>\n",
              "      <td>0</td>\n",
              "    </tr>\n",
              "    <tr>\n",
              "      <th>34586</th>\n",
              "      <td>1</td>\n",
              "      <td>0</td>\n",
              "      <td>1</td>\n",
              "      <td>0</td>\n",
              "      <td>14.511608</td>\n",
              "      <td>296.0</td>\n",
              "      <td>1</td>\n",
              "      <td>0</td>\n",
              "      <td>1</td>\n",
              "      <td>0</td>\n",
              "      <td>...</td>\n",
              "      <td>1</td>\n",
              "      <td>0</td>\n",
              "      <td>0</td>\n",
              "      <td>0</td>\n",
              "      <td>0</td>\n",
              "      <td>0</td>\n",
              "      <td>0</td>\n",
              "      <td>1</td>\n",
              "      <td>0</td>\n",
              "      <td>0</td>\n",
              "    </tr>\n",
              "    <tr>\n",
              "      <th>21362</th>\n",
              "      <td>0</td>\n",
              "      <td>0</td>\n",
              "      <td>1</td>\n",
              "      <td>0</td>\n",
              "      <td>15.856414</td>\n",
              "      <td>3227.0</td>\n",
              "      <td>1</td>\n",
              "      <td>0</td>\n",
              "      <td>1</td>\n",
              "      <td>0</td>\n",
              "      <td>...</td>\n",
              "      <td>0</td>\n",
              "      <td>1</td>\n",
              "      <td>0</td>\n",
              "      <td>0</td>\n",
              "      <td>0</td>\n",
              "      <td>0</td>\n",
              "      <td>0</td>\n",
              "      <td>0</td>\n",
              "      <td>1</td>\n",
              "      <td>0</td>\n",
              "    </tr>\n",
              "  </tbody>\n",
              "</table>\n",
              "<p>5 rows × 53 columns</p>\n",
              "</div>\n",
              "      <button class=\"colab-df-convert\" onclick=\"convertToInteractive('df-b4ec79e1-0462-4429-84f8-b78e3b299c47')\"\n",
              "              title=\"Convert this dataframe to an interactive table.\"\n",
              "              style=\"display:none;\">\n",
              "        \n",
              "  <svg xmlns=\"http://www.w3.org/2000/svg\" height=\"24px\"viewBox=\"0 0 24 24\"\n",
              "       width=\"24px\">\n",
              "    <path d=\"M0 0h24v24H0V0z\" fill=\"none\"/>\n",
              "    <path d=\"M18.56 5.44l.94 2.06.94-2.06 2.06-.94-2.06-.94-.94-2.06-.94 2.06-2.06.94zm-11 1L8.5 8.5l.94-2.06 2.06-.94-2.06-.94L8.5 2.5l-.94 2.06-2.06.94zm10 10l.94 2.06.94-2.06 2.06-.94-2.06-.94-.94-2.06-.94 2.06-2.06.94z\"/><path d=\"M17.41 7.96l-1.37-1.37c-.4-.4-.92-.59-1.43-.59-.52 0-1.04.2-1.43.59L10.3 9.45l-7.72 7.72c-.78.78-.78 2.05 0 2.83L4 21.41c.39.39.9.59 1.41.59.51 0 1.02-.2 1.41-.59l7.78-7.78 2.81-2.81c.8-.78.8-2.07 0-2.86zM5.41 20L4 18.59l7.72-7.72 1.47 1.35L5.41 20z\"/>\n",
              "  </svg>\n",
              "      </button>\n",
              "      \n",
              "  <style>\n",
              "    .colab-df-container {\n",
              "      display:flex;\n",
              "      flex-wrap:wrap;\n",
              "      gap: 12px;\n",
              "    }\n",
              "\n",
              "    .colab-df-convert {\n",
              "      background-color: #E8F0FE;\n",
              "      border: none;\n",
              "      border-radius: 50%;\n",
              "      cursor: pointer;\n",
              "      display: none;\n",
              "      fill: #1967D2;\n",
              "      height: 32px;\n",
              "      padding: 0 0 0 0;\n",
              "      width: 32px;\n",
              "    }\n",
              "\n",
              "    .colab-df-convert:hover {\n",
              "      background-color: #E2EBFA;\n",
              "      box-shadow: 0px 1px 2px rgba(60, 64, 67, 0.3), 0px 1px 3px 1px rgba(60, 64, 67, 0.15);\n",
              "      fill: #174EA6;\n",
              "    }\n",
              "\n",
              "    [theme=dark] .colab-df-convert {\n",
              "      background-color: #3B4455;\n",
              "      fill: #D2E3FC;\n",
              "    }\n",
              "\n",
              "    [theme=dark] .colab-df-convert:hover {\n",
              "      background-color: #434B5C;\n",
              "      box-shadow: 0px 1px 3px 1px rgba(0, 0, 0, 0.15);\n",
              "      filter: drop-shadow(0px 1px 2px rgba(0, 0, 0, 0.3));\n",
              "      fill: #FFFFFF;\n",
              "    }\n",
              "  </style>\n",
              "\n",
              "      <script>\n",
              "        const buttonEl =\n",
              "          document.querySelector('#df-b4ec79e1-0462-4429-84f8-b78e3b299c47 button.colab-df-convert');\n",
              "        buttonEl.style.display =\n",
              "          google.colab.kernel.accessAllowed ? 'block' : 'none';\n",
              "\n",
              "        async function convertToInteractive(key) {\n",
              "          const element = document.querySelector('#df-b4ec79e1-0462-4429-84f8-b78e3b299c47');\n",
              "          const dataTable =\n",
              "            await google.colab.kernel.invokeFunction('convertToInteractive',\n",
              "                                                     [key], {});\n",
              "          if (!dataTable) return;\n",
              "\n",
              "          const docLinkHtml = 'Like what you see? Visit the ' +\n",
              "            '<a target=\"_blank\" href=https://colab.research.google.com/notebooks/data_table.ipynb>data table notebook</a>'\n",
              "            + ' to learn more about interactive tables.';\n",
              "          element.innerHTML = '';\n",
              "          dataTable['output_type'] = 'display_data';\n",
              "          await google.colab.output.renderOutput(dataTable, element);\n",
              "          const docLink = document.createElement('div');\n",
              "          docLink.innerHTML = docLinkHtml;\n",
              "          element.appendChild(docLink);\n",
              "        }\n",
              "      </script>\n",
              "    </div>\n",
              "  </div>\n",
              "  "
            ]
          },
          "metadata": {},
          "execution_count": 68
        }
      ],
      "source": [
        "X_train.head()"
      ],
      "id": "38a9ad5d"
    },
    {
      "cell_type": "code",
      "execution_count": 69,
      "metadata": {
        "colab": {
          "base_uri": "https://localhost:8080/",
          "height": 317
        },
        "id": "66c5f264",
        "outputId": "95167014-9f3c-40c9-9869-1818ac1f920f"
      },
      "outputs": [
        {
          "output_type": "execute_result",
          "data": {
            "text/plain": [
              "       online_booking  mobile_site_booking  traveltype_pointtopoint  \\\n",
              "3941                0                    0                        1   \n",
              "13692               0                    1                        1   \n",
              "26458               1                    0                        0   \n",
              "5488                1                    0                        1   \n",
              "33341               0                    0                        1   \n",
              "\n",
              "       traveltype_hourly   distance  time_diff  from_area_id_Low Cancellation  \\\n",
              "3941                   0  36.163930      151.0                              1   \n",
              "13692                  0   5.679481      605.0                              1   \n",
              "26458                  1  28.576256      306.0                              1   \n",
              "5488                   0  23.668118     1490.0                              1   \n",
              "33341                  0  21.212056     6108.0                              1   \n",
              "\n",
              "       from_area_id_Medium Cancellation  from_date_day_Monday  \\\n",
              "3941                                  0                     0   \n",
              "13692                                 0                     0   \n",
              "26458                                 0                     0   \n",
              "5488                                  0                     0   \n",
              "33341                                 0                     0   \n",
              "\n",
              "       from_date_day_Saturday  ...  from_date_session_Early Morning  \\\n",
              "3941                        0  ...                                0   \n",
              "13692                       0  ...                                0   \n",
              "26458                       0  ...                                0   \n",
              "5488                        0  ...                                0   \n",
              "33341                       0  ...                                0   \n",
              "\n",
              "       from_date_session_Evening  from_date_session_Late Night  \\\n",
              "3941                           0                             0   \n",
              "13692                          0                             0   \n",
              "26458                          0                             0   \n",
              "5488                           0                             0   \n",
              "33341                          0                             0   \n",
              "\n",
              "       from_date_session_Morning  from_date_session_Night  \\\n",
              "3941                           0                        0   \n",
              "13692                          1                        0   \n",
              "26458                          1                        0   \n",
              "5488                           0                        0   \n",
              "33341                          0                        1   \n",
              "\n",
              "       booking_created_session_Early Morning  booking_created_session_Evening  \\\n",
              "3941                                       0                                0   \n",
              "13692                                      0                                0   \n",
              "26458                                      1                                0   \n",
              "5488                                       0                                0   \n",
              "33341                                      0                                1   \n",
              "\n",
              "       booking_created_session_Late Night  booking_created_session_Morning  \\\n",
              "3941                                    0                                1   \n",
              "13692                                   0                                0   \n",
              "26458                                   0                                0   \n",
              "5488                                    0                                0   \n",
              "33341                                   0                                0   \n",
              "\n",
              "       booking_created_session_Night  \n",
              "3941                               0  \n",
              "13692                              1  \n",
              "26458                              0  \n",
              "5488                               0  \n",
              "33341                              0  \n",
              "\n",
              "[5 rows x 53 columns]"
            ],
            "text/html": [
              "\n",
              "  <div id=\"df-69225bee-1393-4283-84ac-7835c2efe184\">\n",
              "    <div class=\"colab-df-container\">\n",
              "      <div>\n",
              "<style scoped>\n",
              "    .dataframe tbody tr th:only-of-type {\n",
              "        vertical-align: middle;\n",
              "    }\n",
              "\n",
              "    .dataframe tbody tr th {\n",
              "        vertical-align: top;\n",
              "    }\n",
              "\n",
              "    .dataframe thead th {\n",
              "        text-align: right;\n",
              "    }\n",
              "</style>\n",
              "<table border=\"1\" class=\"dataframe\">\n",
              "  <thead>\n",
              "    <tr style=\"text-align: right;\">\n",
              "      <th></th>\n",
              "      <th>online_booking</th>\n",
              "      <th>mobile_site_booking</th>\n",
              "      <th>traveltype_pointtopoint</th>\n",
              "      <th>traveltype_hourly</th>\n",
              "      <th>distance</th>\n",
              "      <th>time_diff</th>\n",
              "      <th>from_area_id_Low Cancellation</th>\n",
              "      <th>from_area_id_Medium Cancellation</th>\n",
              "      <th>from_date_day_Monday</th>\n",
              "      <th>from_date_day_Saturday</th>\n",
              "      <th>...</th>\n",
              "      <th>from_date_session_Early Morning</th>\n",
              "      <th>from_date_session_Evening</th>\n",
              "      <th>from_date_session_Late Night</th>\n",
              "      <th>from_date_session_Morning</th>\n",
              "      <th>from_date_session_Night</th>\n",
              "      <th>booking_created_session_Early Morning</th>\n",
              "      <th>booking_created_session_Evening</th>\n",
              "      <th>booking_created_session_Late Night</th>\n",
              "      <th>booking_created_session_Morning</th>\n",
              "      <th>booking_created_session_Night</th>\n",
              "    </tr>\n",
              "  </thead>\n",
              "  <tbody>\n",
              "    <tr>\n",
              "      <th>3941</th>\n",
              "      <td>0</td>\n",
              "      <td>0</td>\n",
              "      <td>1</td>\n",
              "      <td>0</td>\n",
              "      <td>36.163930</td>\n",
              "      <td>151.0</td>\n",
              "      <td>1</td>\n",
              "      <td>0</td>\n",
              "      <td>0</td>\n",
              "      <td>0</td>\n",
              "      <td>...</td>\n",
              "      <td>0</td>\n",
              "      <td>0</td>\n",
              "      <td>0</td>\n",
              "      <td>0</td>\n",
              "      <td>0</td>\n",
              "      <td>0</td>\n",
              "      <td>0</td>\n",
              "      <td>0</td>\n",
              "      <td>1</td>\n",
              "      <td>0</td>\n",
              "    </tr>\n",
              "    <tr>\n",
              "      <th>13692</th>\n",
              "      <td>0</td>\n",
              "      <td>1</td>\n",
              "      <td>1</td>\n",
              "      <td>0</td>\n",
              "      <td>5.679481</td>\n",
              "      <td>605.0</td>\n",
              "      <td>1</td>\n",
              "      <td>0</td>\n",
              "      <td>0</td>\n",
              "      <td>0</td>\n",
              "      <td>...</td>\n",
              "      <td>0</td>\n",
              "      <td>0</td>\n",
              "      <td>0</td>\n",
              "      <td>1</td>\n",
              "      <td>0</td>\n",
              "      <td>0</td>\n",
              "      <td>0</td>\n",
              "      <td>0</td>\n",
              "      <td>0</td>\n",
              "      <td>1</td>\n",
              "    </tr>\n",
              "    <tr>\n",
              "      <th>26458</th>\n",
              "      <td>1</td>\n",
              "      <td>0</td>\n",
              "      <td>0</td>\n",
              "      <td>1</td>\n",
              "      <td>28.576256</td>\n",
              "      <td>306.0</td>\n",
              "      <td>1</td>\n",
              "      <td>0</td>\n",
              "      <td>0</td>\n",
              "      <td>0</td>\n",
              "      <td>...</td>\n",
              "      <td>0</td>\n",
              "      <td>0</td>\n",
              "      <td>0</td>\n",
              "      <td>1</td>\n",
              "      <td>0</td>\n",
              "      <td>1</td>\n",
              "      <td>0</td>\n",
              "      <td>0</td>\n",
              "      <td>0</td>\n",
              "      <td>0</td>\n",
              "    </tr>\n",
              "    <tr>\n",
              "      <th>5488</th>\n",
              "      <td>1</td>\n",
              "      <td>0</td>\n",
              "      <td>1</td>\n",
              "      <td>0</td>\n",
              "      <td>23.668118</td>\n",
              "      <td>1490.0</td>\n",
              "      <td>1</td>\n",
              "      <td>0</td>\n",
              "      <td>0</td>\n",
              "      <td>0</td>\n",
              "      <td>...</td>\n",
              "      <td>0</td>\n",
              "      <td>0</td>\n",
              "      <td>0</td>\n",
              "      <td>0</td>\n",
              "      <td>0</td>\n",
              "      <td>0</td>\n",
              "      <td>0</td>\n",
              "      <td>0</td>\n",
              "      <td>0</td>\n",
              "      <td>0</td>\n",
              "    </tr>\n",
              "    <tr>\n",
              "      <th>33341</th>\n",
              "      <td>0</td>\n",
              "      <td>0</td>\n",
              "      <td>1</td>\n",
              "      <td>0</td>\n",
              "      <td>21.212056</td>\n",
              "      <td>6108.0</td>\n",
              "      <td>1</td>\n",
              "      <td>0</td>\n",
              "      <td>0</td>\n",
              "      <td>0</td>\n",
              "      <td>...</td>\n",
              "      <td>0</td>\n",
              "      <td>0</td>\n",
              "      <td>0</td>\n",
              "      <td>0</td>\n",
              "      <td>1</td>\n",
              "      <td>0</td>\n",
              "      <td>1</td>\n",
              "      <td>0</td>\n",
              "      <td>0</td>\n",
              "      <td>0</td>\n",
              "    </tr>\n",
              "  </tbody>\n",
              "</table>\n",
              "<p>5 rows × 53 columns</p>\n",
              "</div>\n",
              "      <button class=\"colab-df-convert\" onclick=\"convertToInteractive('df-69225bee-1393-4283-84ac-7835c2efe184')\"\n",
              "              title=\"Convert this dataframe to an interactive table.\"\n",
              "              style=\"display:none;\">\n",
              "        \n",
              "  <svg xmlns=\"http://www.w3.org/2000/svg\" height=\"24px\"viewBox=\"0 0 24 24\"\n",
              "       width=\"24px\">\n",
              "    <path d=\"M0 0h24v24H0V0z\" fill=\"none\"/>\n",
              "    <path d=\"M18.56 5.44l.94 2.06.94-2.06 2.06-.94-2.06-.94-.94-2.06-.94 2.06-2.06.94zm-11 1L8.5 8.5l.94-2.06 2.06-.94-2.06-.94L8.5 2.5l-.94 2.06-2.06.94zm10 10l.94 2.06.94-2.06 2.06-.94-2.06-.94-.94-2.06-.94 2.06-2.06.94z\"/><path d=\"M17.41 7.96l-1.37-1.37c-.4-.4-.92-.59-1.43-.59-.52 0-1.04.2-1.43.59L10.3 9.45l-7.72 7.72c-.78.78-.78 2.05 0 2.83L4 21.41c.39.39.9.59 1.41.59.51 0 1.02-.2 1.41-.59l7.78-7.78 2.81-2.81c.8-.78.8-2.07 0-2.86zM5.41 20L4 18.59l7.72-7.72 1.47 1.35L5.41 20z\"/>\n",
              "  </svg>\n",
              "      </button>\n",
              "      \n",
              "  <style>\n",
              "    .colab-df-container {\n",
              "      display:flex;\n",
              "      flex-wrap:wrap;\n",
              "      gap: 12px;\n",
              "    }\n",
              "\n",
              "    .colab-df-convert {\n",
              "      background-color: #E8F0FE;\n",
              "      border: none;\n",
              "      border-radius: 50%;\n",
              "      cursor: pointer;\n",
              "      display: none;\n",
              "      fill: #1967D2;\n",
              "      height: 32px;\n",
              "      padding: 0 0 0 0;\n",
              "      width: 32px;\n",
              "    }\n",
              "\n",
              "    .colab-df-convert:hover {\n",
              "      background-color: #E2EBFA;\n",
              "      box-shadow: 0px 1px 2px rgba(60, 64, 67, 0.3), 0px 1px 3px 1px rgba(60, 64, 67, 0.15);\n",
              "      fill: #174EA6;\n",
              "    }\n",
              "\n",
              "    [theme=dark] .colab-df-convert {\n",
              "      background-color: #3B4455;\n",
              "      fill: #D2E3FC;\n",
              "    }\n",
              "\n",
              "    [theme=dark] .colab-df-convert:hover {\n",
              "      background-color: #434B5C;\n",
              "      box-shadow: 0px 1px 3px 1px rgba(0, 0, 0, 0.15);\n",
              "      filter: drop-shadow(0px 1px 2px rgba(0, 0, 0, 0.3));\n",
              "      fill: #FFFFFF;\n",
              "    }\n",
              "  </style>\n",
              "\n",
              "      <script>\n",
              "        const buttonEl =\n",
              "          document.querySelector('#df-69225bee-1393-4283-84ac-7835c2efe184 button.colab-df-convert');\n",
              "        buttonEl.style.display =\n",
              "          google.colab.kernel.accessAllowed ? 'block' : 'none';\n",
              "\n",
              "        async function convertToInteractive(key) {\n",
              "          const element = document.querySelector('#df-69225bee-1393-4283-84ac-7835c2efe184');\n",
              "          const dataTable =\n",
              "            await google.colab.kernel.invokeFunction('convertToInteractive',\n",
              "                                                     [key], {});\n",
              "          if (!dataTable) return;\n",
              "\n",
              "          const docLinkHtml = 'Like what you see? Visit the ' +\n",
              "            '<a target=\"_blank\" href=https://colab.research.google.com/notebooks/data_table.ipynb>data table notebook</a>'\n",
              "            + ' to learn more about interactive tables.';\n",
              "          element.innerHTML = '';\n",
              "          dataTable['output_type'] = 'display_data';\n",
              "          await google.colab.output.renderOutput(dataTable, element);\n",
              "          const docLink = document.createElement('div');\n",
              "          docLink.innerHTML = docLinkHtml;\n",
              "          element.appendChild(docLink);\n",
              "        }\n",
              "      </script>\n",
              "    </div>\n",
              "  </div>\n",
              "  "
            ]
          },
          "metadata": {},
          "execution_count": 69
        }
      ],
      "source": [
        "X_test.head()"
      ],
      "id": "66c5f264"
    },
    {
      "cell_type": "code",
      "execution_count": 70,
      "metadata": {
        "id": "9218c497"
      },
      "outputs": [],
      "source": [
        "import warnings\n",
        "warnings.filterwarnings('ignore')"
      ],
      "id": "9218c497"
    },
    {
      "cell_type": "markdown",
      "metadata": {
        "id": "065378f7"
      },
      "source": [
        "## Model Building"
      ],
      "id": "065378f7"
    },
    {
      "cell_type": "markdown",
      "source": [
        "**Logistic** **Regression**"
      ],
      "metadata": {
        "id": "B5mYXGFYqiHv"
      },
      "id": "B5mYXGFYqiHv"
    },
    {
      "cell_type": "code",
      "source": [
        "lr = LogisticRegression()\n",
        "lr.fit(X_train, y_train)\n",
        "\n",
        "y_pred_lr = lr.predict(X_test)\n",
        "\n",
        "acc_lr = accuracy_score(y_test, y_pred_lr)\n",
        "conf = confusion_matrix(y_test, y_pred_lr)\n",
        "clf_report = classification_report(y_test, y_pred_lr)\n",
        "\n",
        "print(f\"Accuracy Score of Logistic Regression is : {acc_lr}\")\n",
        "print(f\"Confusion Matrix : \\n{conf}\")\n",
        "print(f\"Classification Report : \\n{clf_report}\")"
      ],
      "metadata": {
        "colab": {
          "base_uri": "https://localhost:8080/"
        },
        "id": "qO8hEfjYqcjo",
        "outputId": "be97bf15-a500-4b0d-eb04-e56685020460"
      },
      "id": "qO8hEfjYqcjo",
      "execution_count": 73,
      "outputs": [
        {
          "output_type": "stream",
          "name": "stdout",
          "text": [
            "Accuracy Score of Logistic Regression is : 0.9285138713019454\n",
            "Confusion Matrix : \n",
            "[[8036   36]\n",
            " [ 585   30]]\n",
            "Classification Report : \n",
            "              precision    recall  f1-score   support\n",
            "\n",
            "           0       0.93      1.00      0.96      8072\n",
            "           1       0.45      0.05      0.09       615\n",
            "\n",
            "    accuracy                           0.93      8687\n",
            "   macro avg       0.69      0.52      0.53      8687\n",
            "weighted avg       0.90      0.93      0.90      8687\n",
            "\n"
          ]
        }
      ]
    },
    {
      "cell_type": "code",
      "source": [
        "knn = KNeighborsClassifier()\n",
        "knn.fit(X_train, y_train)\n",
        "\n",
        "y_pred_knn = knn.predict(X_test)\n",
        "\n",
        "acc_knn = accuracy_score(y_test, y_pred_knn)\n",
        "conf = confusion_matrix(y_test, y_pred_knn)\n",
        "clf_report = classification_report(y_test, y_pred_knn)\n",
        "\n",
        "print(f\"Accuracy Score of KNN is : {acc_knn}\")\n",
        "print(f\"Confusion Matrix : \\n{conf}\")\n",
        "print(f\"Classification Report : \\n{clf_report}\")"
      ],
      "metadata": {
        "colab": {
          "base_uri": "https://localhost:8080/"
        },
        "id": "n22IRjkgqc3h",
        "outputId": "5917a94c-081e-4981-9687-f5a54aa08acb"
      },
      "id": "n22IRjkgqc3h",
      "execution_count": 74,
      "outputs": [
        {
          "output_type": "stream",
          "name": "stdout",
          "text": [
            "Accuracy Score of KNN is : 0.9245999769770922\n",
            "Confusion Matrix : \n",
            "[[7987   85]\n",
            " [ 570   45]]\n",
            "Classification Report : \n",
            "              precision    recall  f1-score   support\n",
            "\n",
            "           0       0.93      0.99      0.96      8072\n",
            "           1       0.35      0.07      0.12       615\n",
            "\n",
            "    accuracy                           0.92      8687\n",
            "   macro avg       0.64      0.53      0.54      8687\n",
            "weighted avg       0.89      0.92      0.90      8687\n",
            "\n"
          ]
        }
      ]
    },
    {
      "cell_type": "code",
      "source": [
        "dtc = DecisionTreeClassifier()\n",
        "dtc.fit(X_train, y_train)\n",
        "\n",
        "y_pred_dtc = dtc.predict(X_test)\n",
        "\n",
        "acc_dtc = accuracy_score(y_test, y_pred_dtc)\n",
        "conf = confusion_matrix(y_test, y_pred_dtc)\n",
        "clf_report = classification_report(y_test, y_pred_dtc)\n",
        "\n",
        "print(f\"Accuracy Score of Decision Tree is : {acc_dtc}\")\n",
        "print(f\"Confusion Matrix : \\n{conf}\")\n",
        "print(f\"Classification Report : \\n{clf_report}\")"
      ],
      "metadata": {
        "colab": {
          "base_uri": "https://localhost:8080/"
        },
        "id": "vT6pNEGeqc5_",
        "outputId": "002608c9-a8a3-4586-84ae-db7bc64eccf1"
      },
      "id": "vT6pNEGeqc5_",
      "execution_count": 75,
      "outputs": [
        {
          "output_type": "stream",
          "name": "stdout",
          "text": [
            "Accuracy Score of Decision Tree is : 0.9023828709566019\n",
            "Confusion Matrix : \n",
            "[[7620  452]\n",
            " [ 396  219]]\n",
            "Classification Report : \n",
            "              precision    recall  f1-score   support\n",
            "\n",
            "           0       0.95      0.94      0.95      8072\n",
            "           1       0.33      0.36      0.34       615\n",
            "\n",
            "    accuracy                           0.90      8687\n",
            "   macro avg       0.64      0.65      0.64      8687\n",
            "weighted avg       0.91      0.90      0.90      8687\n",
            "\n"
          ]
        }
      ]
    },
    {
      "cell_type": "code",
      "source": [
        "rd_clf = RandomForestClassifier()\n",
        "rd_clf.fit(X_train, y_train)\n",
        "\n",
        "y_pred_rd_clf = rd_clf.predict(X_test)\n",
        "\n",
        "acc_rd_clf = accuracy_score(y_test, y_pred_rd_clf)\n",
        "conf = confusion_matrix(y_test, y_pred_rd_clf)\n",
        "clf_report = classification_report(y_test, y_pred_rd_clf)\n",
        "\n",
        "print(f\"Accuracy Score of Random Forest is : {acc_rd_clf}\")\n",
        "print(f\"Confusion Matrix : \\n{conf}\")\n",
        "print(f\"Classification Report : \\n{clf_report}\")"
      ],
      "metadata": {
        "colab": {
          "base_uri": "https://localhost:8080/"
        },
        "id": "U6z06ovgqc8e",
        "outputId": "91d82a52-bd3c-41ed-dc91-aa2e4bedc985"
      },
      "id": "U6z06ovgqc8e",
      "execution_count": 76,
      "outputs": [
        {
          "output_type": "stream",
          "name": "stdout",
          "text": [
            "Accuracy Score of Random Forest is : 0.9353056291009555\n",
            "Confusion Matrix : \n",
            "[[7969  103]\n",
            " [ 459  156]]\n",
            "Classification Report : \n",
            "              precision    recall  f1-score   support\n",
            "\n",
            "           0       0.95      0.99      0.97      8072\n",
            "           1       0.60      0.25      0.36       615\n",
            "\n",
            "    accuracy                           0.94      8687\n",
            "   macro avg       0.77      0.62      0.66      8687\n",
            "weighted avg       0.92      0.94      0.92      8687\n",
            "\n"
          ]
        }
      ]
    },
    {
      "cell_type": "code",
      "source": [
        "ada = AdaBoostClassifier(base_estimator = dtc)\n",
        "ada.fit(X_train, y_train)\n",
        "\n",
        "y_pred_ada = ada.predict(X_test)\n",
        "\n",
        "acc_ada = accuracy_score(y_test, y_pred_ada)\n",
        "conf = confusion_matrix(y_test, y_pred_ada)\n",
        "clf_report = classification_report(y_test, y_pred_ada)\n",
        "\n",
        "print(f\"Accuracy Score of Ada Boost Classifier is : {acc_ada}\")\n",
        "print(f\"Confusion Matrix : \\n{conf}\")\n",
        "print(f\"Classification Report : \\n{clf_report}\")"
      ],
      "metadata": {
        "colab": {
          "base_uri": "https://localhost:8080/"
        },
        "id": "cRI0afWmqc-2",
        "outputId": "1523a153-19e2-4657-846e-cb788ea13be2"
      },
      "id": "cRI0afWmqc-2",
      "execution_count": 77,
      "outputs": [
        {
          "output_type": "stream",
          "name": "stdout",
          "text": [
            "Accuracy Score of Ada Boost Classifier is : 0.9036491308852308\n",
            "Confusion Matrix : \n",
            "[[7635  437]\n",
            " [ 400  215]]\n",
            "Classification Report : \n",
            "              precision    recall  f1-score   support\n",
            "\n",
            "           0       0.95      0.95      0.95      8072\n",
            "           1       0.33      0.35      0.34       615\n",
            "\n",
            "    accuracy                           0.90      8687\n",
            "   macro avg       0.64      0.65      0.64      8687\n",
            "weighted avg       0.91      0.90      0.90      8687\n",
            "\n"
          ]
        }
      ]
    },
    {
      "cell_type": "code",
      "source": [
        "gb = GradientBoostingClassifier()\n",
        "gb.fit(X_train, y_train)\n",
        "\n",
        "y_pred_gb = gb.predict(X_test)\n",
        "\n",
        "acc_gb = accuracy_score(y_test, y_pred_gb)\n",
        "conf = confusion_matrix(y_test, y_pred_gb)\n",
        "clf_report = classification_report(y_test, y_pred_gb)\n",
        "\n",
        "print(f\"Accuracy Score of Ada Boost Classifier is : {acc_gb}\")\n",
        "print(f\"Confusion Matrix : \\n{conf}\")\n",
        "print(f\"Classification Report : \\n{clf_report}\")"
      ],
      "metadata": {
        "colab": {
          "base_uri": "https://localhost:8080/"
        },
        "id": "vjvzQq_IqdBG",
        "outputId": "2c9d0856-ebec-4afb-d6e5-47ff839887b7"
      },
      "id": "vjvzQq_IqdBG",
      "execution_count": 78,
      "outputs": [
        {
          "output_type": "stream",
          "name": "stdout",
          "text": [
            "Accuracy Score of Ada Boost Classifier is : 0.9354207436399217\n",
            "Confusion Matrix : \n",
            "[[8011   61]\n",
            " [ 500  115]]\n",
            "Classification Report : \n",
            "              precision    recall  f1-score   support\n",
            "\n",
            "           0       0.94      0.99      0.97      8072\n",
            "           1       0.65      0.19      0.29       615\n",
            "\n",
            "    accuracy                           0.94      8687\n",
            "   macro avg       0.80      0.59      0.63      8687\n",
            "weighted avg       0.92      0.94      0.92      8687\n",
            "\n"
          ]
        }
      ]
    },
    {
      "cell_type": "code",
      "source": [
        "xgb = XGBClassifier(booster = 'gbtree', learning_rate = 0.1, max_depth = 5, n_estimators = 180)\n",
        "xgb.fit(X_train, y_train)\n",
        "\n",
        "y_pred_xgb = xgb.predict(X_test)\n",
        "\n",
        "acc_xgb = accuracy_score(y_test, y_pred_xgb)\n",
        "conf = confusion_matrix(y_test, y_pred_xgb)\n",
        "clf_report = classification_report(y_test, y_pred_xgb)\n",
        "\n",
        "print(f\"Accuracy Score of Ada Boost Classifier is : {acc_xgb}\")\n",
        "print(f\"Confusion Matrix : \\n{conf}\")\n",
        "print(f\"Classification Report : \\n{clf_report}\")"
      ],
      "metadata": {
        "colab": {
          "base_uri": "https://localhost:8080/"
        },
        "id": "vDIUqIS4qdDY",
        "outputId": "f02f8e2c-fe2c-43bf-b933-f56f61fbf85e"
      },
      "id": "vDIUqIS4qdDY",
      "execution_count": 79,
      "outputs": [
        {
          "output_type": "stream",
          "name": "stdout",
          "text": [
            "Accuracy Score of Ada Boost Classifier is : 0.9361114308737194\n",
            "Confusion Matrix : \n",
            "[[7984   88]\n",
            " [ 467  148]]\n",
            "Classification Report : \n",
            "              precision    recall  f1-score   support\n",
            "\n",
            "           0       0.94      0.99      0.97      8072\n",
            "           1       0.63      0.24      0.35       615\n",
            "\n",
            "    accuracy                           0.94      8687\n",
            "   macro avg       0.79      0.61      0.66      8687\n",
            "weighted avg       0.92      0.94      0.92      8687\n",
            "\n"
          ]
        }
      ]
    },
    {
      "cell_type": "code",
      "source": [
        "cat = CatBoostClassifier(iterations=100)\n",
        "cat.fit(X_train, y_train)\n",
        "\n",
        "y_pred_cat = cat.predict(X_test)\n",
        "\n",
        "acc_cat = accuracy_score(y_test, y_pred_cat)\n",
        "conf = confusion_matrix(y_test, y_pred_cat)\n",
        "clf_report = classification_report(y_test, y_pred_cat)"
      ],
      "metadata": {
        "colab": {
          "base_uri": "https://localhost:8080/"
        },
        "id": "nNggLqxPrGrh",
        "outputId": "85769fb0-5e51-4089-cf41-68e53986cc19"
      },
      "id": "nNggLqxPrGrh",
      "execution_count": 80,
      "outputs": [
        {
          "output_type": "stream",
          "name": "stdout",
          "text": [
            "Learning rate set to 0.387159\n",
            "0:\tlearn: 0.3818641\ttotal: 59.1ms\tremaining: 5.85s\n",
            "1:\tlearn: 0.2685095\ttotal: 70.8ms\tremaining: 3.47s\n",
            "2:\tlearn: 0.2269190\ttotal: 80.9ms\tremaining: 2.62s\n",
            "3:\tlearn: 0.2123730\ttotal: 91.8ms\tremaining: 2.2s\n",
            "4:\tlearn: 0.2031907\ttotal: 103ms\tremaining: 1.95s\n",
            "5:\tlearn: 0.1984652\ttotal: 113ms\tremaining: 1.77s\n",
            "6:\tlearn: 0.1941608\ttotal: 123ms\tremaining: 1.64s\n",
            "7:\tlearn: 0.1910081\ttotal: 134ms\tremaining: 1.54s\n",
            "8:\tlearn: 0.1876635\ttotal: 144ms\tremaining: 1.46s\n",
            "9:\tlearn: 0.1855118\ttotal: 155ms\tremaining: 1.39s\n",
            "10:\tlearn: 0.1833021\ttotal: 166ms\tremaining: 1.34s\n",
            "11:\tlearn: 0.1817082\ttotal: 176ms\tremaining: 1.29s\n",
            "12:\tlearn: 0.1801978\ttotal: 187ms\tremaining: 1.25s\n",
            "13:\tlearn: 0.1791720\ttotal: 200ms\tremaining: 1.23s\n",
            "14:\tlearn: 0.1781694\ttotal: 209ms\tremaining: 1.19s\n",
            "15:\tlearn: 0.1770796\ttotal: 221ms\tremaining: 1.16s\n",
            "16:\tlearn: 0.1760193\ttotal: 232ms\tremaining: 1.13s\n",
            "17:\tlearn: 0.1753699\ttotal: 242ms\tremaining: 1.1s\n",
            "18:\tlearn: 0.1744919\ttotal: 253ms\tremaining: 1.08s\n",
            "19:\tlearn: 0.1736054\ttotal: 263ms\tremaining: 1.05s\n",
            "20:\tlearn: 0.1725125\ttotal: 274ms\tremaining: 1.03s\n",
            "21:\tlearn: 0.1716441\ttotal: 284ms\tremaining: 1.01s\n",
            "22:\tlearn: 0.1708912\ttotal: 295ms\tremaining: 988ms\n",
            "23:\tlearn: 0.1699522\ttotal: 305ms\tremaining: 967ms\n",
            "24:\tlearn: 0.1691729\ttotal: 316ms\tremaining: 947ms\n",
            "25:\tlearn: 0.1686117\ttotal: 326ms\tremaining: 927ms\n",
            "26:\tlearn: 0.1677888\ttotal: 336ms\tremaining: 910ms\n",
            "27:\tlearn: 0.1671158\ttotal: 347ms\tremaining: 892ms\n",
            "28:\tlearn: 0.1664629\ttotal: 357ms\tremaining: 875ms\n",
            "29:\tlearn: 0.1655087\ttotal: 367ms\tremaining: 857ms\n",
            "30:\tlearn: 0.1650903\ttotal: 377ms\tremaining: 840ms\n",
            "31:\tlearn: 0.1644193\ttotal: 391ms\tremaining: 831ms\n",
            "32:\tlearn: 0.1639254\ttotal: 408ms\tremaining: 828ms\n",
            "33:\tlearn: 0.1635174\ttotal: 420ms\tremaining: 815ms\n",
            "34:\tlearn: 0.1628105\ttotal: 430ms\tremaining: 799ms\n",
            "35:\tlearn: 0.1623824\ttotal: 440ms\tremaining: 783ms\n",
            "36:\tlearn: 0.1619012\ttotal: 451ms\tremaining: 768ms\n",
            "37:\tlearn: 0.1614019\ttotal: 464ms\tremaining: 757ms\n",
            "38:\tlearn: 0.1605997\ttotal: 476ms\tremaining: 745ms\n",
            "39:\tlearn: 0.1600008\ttotal: 487ms\tremaining: 730ms\n",
            "40:\tlearn: 0.1595138\ttotal: 497ms\tremaining: 715ms\n",
            "41:\tlearn: 0.1589601\ttotal: 507ms\tremaining: 700ms\n",
            "42:\tlearn: 0.1582963\ttotal: 518ms\tremaining: 687ms\n",
            "43:\tlearn: 0.1576582\ttotal: 528ms\tremaining: 672ms\n",
            "44:\tlearn: 0.1572874\ttotal: 539ms\tremaining: 659ms\n",
            "45:\tlearn: 0.1568200\ttotal: 550ms\tremaining: 645ms\n",
            "46:\tlearn: 0.1565294\ttotal: 559ms\tremaining: 631ms\n",
            "47:\tlearn: 0.1559272\ttotal: 570ms\tremaining: 618ms\n",
            "48:\tlearn: 0.1555763\ttotal: 580ms\tremaining: 604ms\n",
            "49:\tlearn: 0.1551473\ttotal: 597ms\tremaining: 597ms\n",
            "50:\tlearn: 0.1549421\ttotal: 607ms\tremaining: 583ms\n",
            "51:\tlearn: 0.1545485\ttotal: 617ms\tremaining: 570ms\n",
            "52:\tlearn: 0.1541026\ttotal: 629ms\tremaining: 558ms\n",
            "53:\tlearn: 0.1535396\ttotal: 639ms\tremaining: 545ms\n",
            "54:\tlearn: 0.1531716\ttotal: 650ms\tremaining: 531ms\n",
            "55:\tlearn: 0.1528153\ttotal: 660ms\tremaining: 518ms\n",
            "56:\tlearn: 0.1526164\ttotal: 670ms\tremaining: 506ms\n",
            "57:\tlearn: 0.1520781\ttotal: 681ms\tremaining: 493ms\n",
            "58:\tlearn: 0.1517184\ttotal: 691ms\tremaining: 480ms\n",
            "59:\tlearn: 0.1512353\ttotal: 702ms\tremaining: 468ms\n",
            "60:\tlearn: 0.1509029\ttotal: 713ms\tremaining: 456ms\n",
            "61:\tlearn: 0.1505193\ttotal: 736ms\tremaining: 451ms\n",
            "62:\tlearn: 0.1502432\ttotal: 747ms\tremaining: 439ms\n",
            "63:\tlearn: 0.1499795\ttotal: 757ms\tremaining: 426ms\n",
            "64:\tlearn: 0.1495342\ttotal: 768ms\tremaining: 413ms\n",
            "65:\tlearn: 0.1490431\ttotal: 778ms\tremaining: 401ms\n",
            "66:\tlearn: 0.1487471\ttotal: 789ms\tremaining: 388ms\n",
            "67:\tlearn: 0.1482996\ttotal: 818ms\tremaining: 385ms\n",
            "68:\tlearn: 0.1481909\ttotal: 827ms\tremaining: 372ms\n",
            "69:\tlearn: 0.1479162\ttotal: 838ms\tremaining: 359ms\n",
            "70:\tlearn: 0.1476182\ttotal: 848ms\tremaining: 346ms\n",
            "71:\tlearn: 0.1472334\ttotal: 858ms\tremaining: 334ms\n",
            "72:\tlearn: 0.1468839\ttotal: 868ms\tremaining: 321ms\n",
            "73:\tlearn: 0.1464276\ttotal: 879ms\tremaining: 309ms\n",
            "74:\tlearn: 0.1460983\ttotal: 890ms\tremaining: 297ms\n",
            "75:\tlearn: 0.1457866\ttotal: 900ms\tremaining: 284ms\n",
            "76:\tlearn: 0.1453993\ttotal: 911ms\tremaining: 272ms\n",
            "77:\tlearn: 0.1449673\ttotal: 921ms\tremaining: 260ms\n",
            "78:\tlearn: 0.1447355\ttotal: 934ms\tremaining: 248ms\n",
            "79:\tlearn: 0.1444121\ttotal: 945ms\tremaining: 236ms\n",
            "80:\tlearn: 0.1439552\ttotal: 956ms\tremaining: 224ms\n",
            "81:\tlearn: 0.1436617\ttotal: 966ms\tremaining: 212ms\n",
            "82:\tlearn: 0.1432863\ttotal: 977ms\tremaining: 200ms\n",
            "83:\tlearn: 0.1427799\ttotal: 987ms\tremaining: 188ms\n",
            "84:\tlearn: 0.1423059\ttotal: 998ms\tremaining: 176ms\n",
            "85:\tlearn: 0.1420528\ttotal: 1.01s\tremaining: 164ms\n",
            "86:\tlearn: 0.1418925\ttotal: 1.02s\tremaining: 153ms\n",
            "87:\tlearn: 0.1416391\ttotal: 1.03s\tremaining: 141ms\n",
            "88:\tlearn: 0.1413500\ttotal: 1.04s\tremaining: 129ms\n",
            "89:\tlearn: 0.1407201\ttotal: 1.05s\tremaining: 117ms\n",
            "90:\tlearn: 0.1404240\ttotal: 1.06s\tremaining: 105ms\n",
            "91:\tlearn: 0.1401192\ttotal: 1.07s\tremaining: 93.5ms\n",
            "92:\tlearn: 0.1396237\ttotal: 1.08s\tremaining: 81.7ms\n",
            "93:\tlearn: 0.1394112\ttotal: 1.09s\tremaining: 69.9ms\n",
            "94:\tlearn: 0.1392107\ttotal: 1.11s\tremaining: 58.2ms\n",
            "95:\tlearn: 0.1388593\ttotal: 1.12s\tremaining: 46.5ms\n",
            "96:\tlearn: 0.1385439\ttotal: 1.13s\tremaining: 34.8ms\n",
            "97:\tlearn: 0.1382967\ttotal: 1.14s\tremaining: 23.2ms\n",
            "98:\tlearn: 0.1380558\ttotal: 1.15s\tremaining: 11.6ms\n",
            "99:\tlearn: 0.1377452\ttotal: 1.16s\tremaining: 0us\n"
          ]
        }
      ]
    },
    {
      "cell_type": "code",
      "source": [
        "print(f\"Accuracy Score of Ada Boost Classifier is : {acc_cat}\")\n",
        "print(f\"Confusion Matrix : \\n{conf}\")\n",
        "print(f\"Classification Report : \\n{clf_report}\")"
      ],
      "metadata": {
        "colab": {
          "base_uri": "https://localhost:8080/"
        },
        "id": "Gc_tuMUSrKgG",
        "outputId": "406a88ad-3f37-47ba-c4f3-e636bbb0b931"
      },
      "id": "Gc_tuMUSrKgG",
      "execution_count": 81,
      "outputs": [
        {
          "output_type": "stream",
          "name": "stdout",
          "text": [
            "Accuracy Score of Ada Boost Classifier is : 0.9336940255554277\n",
            "Confusion Matrix : \n",
            "[[7946  126]\n",
            " [ 450  165]]\n",
            "Classification Report : \n",
            "              precision    recall  f1-score   support\n",
            "\n",
            "           0       0.95      0.98      0.97      8072\n",
            "           1       0.57      0.27      0.36       615\n",
            "\n",
            "    accuracy                           0.93      8687\n",
            "   macro avg       0.76      0.63      0.66      8687\n",
            "weighted avg       0.92      0.93      0.92      8687\n",
            "\n"
          ]
        }
      ]
    },
    {
      "cell_type": "code",
      "source": [
        "etc = ExtraTreesClassifier()\n",
        "etc.fit(X_train, y_train)\n",
        "\n",
        "y_pred_etc = etc.predict(X_test)\n",
        "\n",
        "acc_etc = accuracy_score(y_test, y_pred_etc)\n",
        "conf = confusion_matrix(y_test, y_pred_etc)\n",
        "clf_report = classification_report(y_test, y_pred_etc)\n",
        "\n",
        "print(f\"Accuracy Score of Ada Boost Classifier is : {acc_etc}\")\n",
        "print(f\"Confusion Matrix : \\n{conf}\")\n",
        "print(f\"Classification Report : \\n{clf_report}\")"
      ],
      "metadata": {
        "colab": {
          "base_uri": "https://localhost:8080/"
        },
        "id": "d44qoRprrOrO",
        "outputId": "a1736988-4d20-4109-9c75-cdfbb1b819e9"
      },
      "id": "d44qoRprrOrO",
      "execution_count": 82,
      "outputs": [
        {
          "output_type": "stream",
          "name": "stdout",
          "text": [
            "Accuracy Score of Ada Boost Classifier is : 0.9190744791067111\n",
            "Confusion Matrix : \n",
            "[[7818  254]\n",
            " [ 449  166]]\n",
            "Classification Report : \n",
            "              precision    recall  f1-score   support\n",
            "\n",
            "           0       0.95      0.97      0.96      8072\n",
            "           1       0.40      0.27      0.32       615\n",
            "\n",
            "    accuracy                           0.92      8687\n",
            "   macro avg       0.67      0.62      0.64      8687\n",
            "weighted avg       0.91      0.92      0.91      8687\n",
            "\n"
          ]
        }
      ]
    },
    {
      "cell_type": "code",
      "source": [
        "lgbm = LGBMClassifier(learning_rate = 1)\n",
        "lgbm.fit(X_train, y_train)\n",
        "\n",
        "y_pred_lgbm = lgbm.predict(X_test)\n",
        "\n",
        "acc_lgbm = accuracy_score(y_test, y_pred_lgbm)\n",
        "conf = confusion_matrix(y_test, y_pred_lgbm)\n",
        "clf_report = classification_report(y_test, y_pred_lgbm)\n",
        "\n",
        "print(f\"Accuracy Score of Ada Boost Classifier is : {acc_lgbm}\")\n",
        "print(f\"Confusion Matrix : \\n{conf}\")\n",
        "print(f\"Classification Report : \\n{clf_report}\")"
      ],
      "metadata": {
        "colab": {
          "base_uri": "https://localhost:8080/"
        },
        "id": "FC_Rh9LorRJ_",
        "outputId": "eec0da51-678c-4afe-a699-8a0f1db29ab6"
      },
      "id": "FC_Rh9LorRJ_",
      "execution_count": 83,
      "outputs": [
        {
          "output_type": "stream",
          "name": "stdout",
          "text": [
            "Accuracy Score of Ada Boost Classifier is : 0.9111315759180384\n",
            "Confusion Matrix : \n",
            "[[7765  307]\n",
            " [ 465  150]]\n",
            "Classification Report : \n",
            "              precision    recall  f1-score   support\n",
            "\n",
            "           0       0.94      0.96      0.95      8072\n",
            "           1       0.33      0.24      0.28       615\n",
            "\n",
            "    accuracy                           0.91      8687\n",
            "   macro avg       0.64      0.60      0.62      8687\n",
            "weighted avg       0.90      0.91      0.91      8687\n",
            "\n"
          ]
        }
      ]
    },
    {
      "cell_type": "code",
      "source": [
        "classifiers = [('Gradient Boosting Classifier', gb), ('Cat Boost Classifier', cat), ('XGboost', xgb),  ('Decision Tree', dtc),\n",
        "               ('Extra Tree', etc), ('Light Gradient', lgbm), ('Random Forest', rd_clf), ('Ada Boost', ada), ('Logistic', lr),\n",
        "               ('Knn', knn)]\n",
        "vc = VotingClassifier(estimators = classifiers)\n",
        "vc.fit(X_train, y_train)"
      ],
      "metadata": {
        "colab": {
          "base_uri": "https://localhost:8080/",
          "height": 1000
        },
        "id": "t3hLB4T8rUJm",
        "outputId": "6874b6e1-3322-47a3-ffe4-0e7be1aced97"
      },
      "id": "t3hLB4T8rUJm",
      "execution_count": 84,
      "outputs": [
        {
          "output_type": "stream",
          "name": "stdout",
          "text": [
            "Learning rate set to 0.387159\n",
            "0:\tlearn: 0.3818641\ttotal: 10.7ms\tremaining: 1.06s\n",
            "1:\tlearn: 0.2685095\ttotal: 22ms\tremaining: 1.08s\n",
            "2:\tlearn: 0.2269190\ttotal: 32.1ms\tremaining: 1.04s\n",
            "3:\tlearn: 0.2123730\ttotal: 43.1ms\tremaining: 1.03s\n",
            "4:\tlearn: 0.2031907\ttotal: 53.8ms\tremaining: 1.02s\n",
            "5:\tlearn: 0.1984652\ttotal: 64.4ms\tremaining: 1.01s\n",
            "6:\tlearn: 0.1941608\ttotal: 74.8ms\tremaining: 993ms\n",
            "7:\tlearn: 0.1910081\ttotal: 85.5ms\tremaining: 983ms\n",
            "8:\tlearn: 0.1876635\ttotal: 96ms\tremaining: 970ms\n",
            "9:\tlearn: 0.1855118\ttotal: 117ms\tremaining: 1.05s\n",
            "10:\tlearn: 0.1833021\ttotal: 135ms\tremaining: 1.09s\n",
            "11:\tlearn: 0.1817082\ttotal: 146ms\tremaining: 1.07s\n",
            "12:\tlearn: 0.1801978\ttotal: 156ms\tremaining: 1.04s\n",
            "13:\tlearn: 0.1791720\ttotal: 166ms\tremaining: 1.02s\n",
            "14:\tlearn: 0.1781694\ttotal: 176ms\tremaining: 997ms\n",
            "15:\tlearn: 0.1770796\ttotal: 186ms\tremaining: 978ms\n",
            "16:\tlearn: 0.1760193\ttotal: 201ms\tremaining: 983ms\n",
            "17:\tlearn: 0.1753699\ttotal: 212ms\tremaining: 965ms\n",
            "18:\tlearn: 0.1744919\ttotal: 224ms\tremaining: 956ms\n",
            "19:\tlearn: 0.1736054\ttotal: 234ms\tremaining: 938ms\n",
            "20:\tlearn: 0.1725125\ttotal: 245ms\tremaining: 920ms\n",
            "21:\tlearn: 0.1716441\ttotal: 255ms\tremaining: 904ms\n",
            "22:\tlearn: 0.1708912\ttotal: 266ms\tremaining: 890ms\n",
            "23:\tlearn: 0.1699522\ttotal: 276ms\tremaining: 874ms\n",
            "24:\tlearn: 0.1691729\ttotal: 286ms\tremaining: 859ms\n",
            "25:\tlearn: 0.1686117\ttotal: 297ms\tremaining: 844ms\n",
            "26:\tlearn: 0.1677888\ttotal: 307ms\tremaining: 831ms\n",
            "27:\tlearn: 0.1671158\ttotal: 318ms\tremaining: 817ms\n",
            "28:\tlearn: 0.1664629\ttotal: 328ms\tremaining: 803ms\n",
            "29:\tlearn: 0.1655087\ttotal: 338ms\tremaining: 789ms\n",
            "30:\tlearn: 0.1650903\ttotal: 348ms\tremaining: 775ms\n",
            "31:\tlearn: 0.1644193\ttotal: 359ms\tremaining: 762ms\n",
            "32:\tlearn: 0.1639254\ttotal: 369ms\tremaining: 748ms\n",
            "33:\tlearn: 0.1635174\ttotal: 385ms\tremaining: 747ms\n",
            "34:\tlearn: 0.1628105\ttotal: 404ms\tremaining: 750ms\n",
            "35:\tlearn: 0.1623824\ttotal: 414ms\tremaining: 736ms\n",
            "36:\tlearn: 0.1619012\ttotal: 425ms\tremaining: 723ms\n",
            "37:\tlearn: 0.1614019\ttotal: 436ms\tremaining: 711ms\n",
            "38:\tlearn: 0.1605997\ttotal: 447ms\tremaining: 699ms\n",
            "39:\tlearn: 0.1600008\ttotal: 457ms\tremaining: 686ms\n",
            "40:\tlearn: 0.1595138\ttotal: 468ms\tremaining: 673ms\n",
            "41:\tlearn: 0.1589601\ttotal: 478ms\tremaining: 659ms\n",
            "42:\tlearn: 0.1582963\ttotal: 488ms\tremaining: 647ms\n",
            "43:\tlearn: 0.1576582\ttotal: 503ms\tremaining: 640ms\n",
            "44:\tlearn: 0.1572874\ttotal: 513ms\tremaining: 628ms\n",
            "45:\tlearn: 0.1568200\ttotal: 524ms\tremaining: 615ms\n",
            "46:\tlearn: 0.1565294\ttotal: 534ms\tremaining: 603ms\n",
            "47:\tlearn: 0.1559272\ttotal: 547ms\tremaining: 592ms\n",
            "48:\tlearn: 0.1555763\ttotal: 557ms\tremaining: 580ms\n",
            "49:\tlearn: 0.1551473\ttotal: 568ms\tremaining: 568ms\n",
            "50:\tlearn: 0.1549421\ttotal: 578ms\tremaining: 555ms\n",
            "51:\tlearn: 0.1545485\ttotal: 592ms\tremaining: 547ms\n",
            "52:\tlearn: 0.1541026\ttotal: 602ms\tremaining: 534ms\n",
            "53:\tlearn: 0.1535396\ttotal: 612ms\tremaining: 522ms\n",
            "54:\tlearn: 0.1531716\ttotal: 623ms\tremaining: 510ms\n",
            "55:\tlearn: 0.1528153\ttotal: 633ms\tremaining: 498ms\n",
            "56:\tlearn: 0.1526164\ttotal: 644ms\tremaining: 486ms\n",
            "57:\tlearn: 0.1520781\ttotal: 655ms\tremaining: 474ms\n",
            "58:\tlearn: 0.1517184\ttotal: 665ms\tremaining: 462ms\n",
            "59:\tlearn: 0.1512353\ttotal: 677ms\tremaining: 451ms\n",
            "60:\tlearn: 0.1509029\ttotal: 687ms\tremaining: 439ms\n",
            "61:\tlearn: 0.1505193\ttotal: 698ms\tremaining: 428ms\n",
            "62:\tlearn: 0.1502432\ttotal: 708ms\tremaining: 416ms\n",
            "63:\tlearn: 0.1499795\ttotal: 718ms\tremaining: 404ms\n",
            "64:\tlearn: 0.1495342\ttotal: 729ms\tremaining: 393ms\n",
            "65:\tlearn: 0.1490431\ttotal: 740ms\tremaining: 381ms\n",
            "66:\tlearn: 0.1487471\ttotal: 750ms\tremaining: 370ms\n",
            "67:\tlearn: 0.1482996\ttotal: 761ms\tremaining: 358ms\n",
            "68:\tlearn: 0.1481909\ttotal: 781ms\tremaining: 351ms\n",
            "69:\tlearn: 0.1479162\ttotal: 797ms\tremaining: 341ms\n",
            "70:\tlearn: 0.1476182\ttotal: 807ms\tremaining: 330ms\n",
            "71:\tlearn: 0.1472334\ttotal: 817ms\tremaining: 318ms\n",
            "72:\tlearn: 0.1468839\ttotal: 827ms\tremaining: 306ms\n",
            "73:\tlearn: 0.1464276\ttotal: 838ms\tremaining: 295ms\n",
            "74:\tlearn: 0.1460983\ttotal: 849ms\tremaining: 283ms\n",
            "75:\tlearn: 0.1457866\ttotal: 859ms\tremaining: 271ms\n",
            "76:\tlearn: 0.1453993\ttotal: 870ms\tremaining: 260ms\n",
            "77:\tlearn: 0.1449673\ttotal: 880ms\tremaining: 248ms\n",
            "78:\tlearn: 0.1447355\ttotal: 891ms\tremaining: 237ms\n",
            "79:\tlearn: 0.1444121\ttotal: 901ms\tremaining: 225ms\n",
            "80:\tlearn: 0.1439552\ttotal: 912ms\tremaining: 214ms\n",
            "81:\tlearn: 0.1436617\ttotal: 923ms\tremaining: 203ms\n",
            "82:\tlearn: 0.1432863\ttotal: 933ms\tremaining: 191ms\n",
            "83:\tlearn: 0.1427799\ttotal: 943ms\tremaining: 180ms\n",
            "84:\tlearn: 0.1423059\ttotal: 956ms\tremaining: 169ms\n",
            "85:\tlearn: 0.1420528\ttotal: 974ms\tremaining: 158ms\n",
            "86:\tlearn: 0.1418925\ttotal: 983ms\tremaining: 147ms\n",
            "87:\tlearn: 0.1416391\ttotal: 1s\tremaining: 137ms\n",
            "88:\tlearn: 0.1413500\ttotal: 1.01s\tremaining: 125ms\n",
            "89:\tlearn: 0.1407201\ttotal: 1.02s\tremaining: 114ms\n",
            "90:\tlearn: 0.1404240\ttotal: 1.03s\tremaining: 102ms\n",
            "91:\tlearn: 0.1401192\ttotal: 1.04s\tremaining: 90.9ms\n",
            "92:\tlearn: 0.1396237\ttotal: 1.05s\tremaining: 79.5ms\n",
            "93:\tlearn: 0.1394112\ttotal: 1.06s\tremaining: 68ms\n",
            "94:\tlearn: 0.1392107\ttotal: 1.08s\tremaining: 56.7ms\n",
            "95:\tlearn: 0.1388593\ttotal: 1.09s\tremaining: 45.3ms\n",
            "96:\tlearn: 0.1385439\ttotal: 1.1s\tremaining: 34ms\n",
            "97:\tlearn: 0.1382967\ttotal: 1.11s\tremaining: 22.6ms\n",
            "98:\tlearn: 0.1380558\ttotal: 1.12s\tremaining: 11.3ms\n",
            "99:\tlearn: 0.1377452\ttotal: 1.13s\tremaining: 0us\n"
          ]
        },
        {
          "output_type": "execute_result",
          "data": {
            "text/plain": [
              "VotingClassifier(estimators=[('Gradient Boosting Classifier',\n",
              "                              GradientBoostingClassifier()),\n",
              "                             ('Cat Boost Classifier',\n",
              "                              <catboost.core.CatBoostClassifier object at 0x7f83d62cf040>),\n",
              "                             ('XGboost',\n",
              "                              XGBClassifier(base_score=None, booster='gbtree',\n",
              "                                            callbacks=None,\n",
              "                                            colsample_bylevel=None,\n",
              "                                            colsample_bynode=None,\n",
              "                                            colsample_bytree=None,\n",
              "                                            early_stopping_rounds=None,\n",
              "                                            enable_categor...\n",
              "                                            num_parallel_tree=None,\n",
              "                                            predictor=None, random_state=None, ...)),\n",
              "                             ('Decision Tree', DecisionTreeClassifier()),\n",
              "                             ('Extra Tree', ExtraTreesClassifier()),\n",
              "                             ('Light Gradient',\n",
              "                              LGBMClassifier(learning_rate=1)),\n",
              "                             ('Random Forest', RandomForestClassifier()),\n",
              "                             ('Ada Boost',\n",
              "                              AdaBoostClassifier(base_estimator=DecisionTreeClassifier())),\n",
              "                             ('Logistic', LogisticRegression()),\n",
              "                             ('Knn', KNeighborsClassifier())])"
            ],
            "text/html": [
              "<style>#sk-container-id-1 {color: black;background-color: white;}#sk-container-id-1 pre{padding: 0;}#sk-container-id-1 div.sk-toggleable {background-color: white;}#sk-container-id-1 label.sk-toggleable__label {cursor: pointer;display: block;width: 100%;margin-bottom: 0;padding: 0.3em;box-sizing: border-box;text-align: center;}#sk-container-id-1 label.sk-toggleable__label-arrow:before {content: \"▸\";float: left;margin-right: 0.25em;color: #696969;}#sk-container-id-1 label.sk-toggleable__label-arrow:hover:before {color: black;}#sk-container-id-1 div.sk-estimator:hover label.sk-toggleable__label-arrow:before {color: black;}#sk-container-id-1 div.sk-toggleable__content {max-height: 0;max-width: 0;overflow: hidden;text-align: left;background-color: #f0f8ff;}#sk-container-id-1 div.sk-toggleable__content pre {margin: 0.2em;color: black;border-radius: 0.25em;background-color: #f0f8ff;}#sk-container-id-1 input.sk-toggleable__control:checked~div.sk-toggleable__content {max-height: 200px;max-width: 100%;overflow: auto;}#sk-container-id-1 input.sk-toggleable__control:checked~label.sk-toggleable__label-arrow:before {content: \"▾\";}#sk-container-id-1 div.sk-estimator input.sk-toggleable__control:checked~label.sk-toggleable__label {background-color: #d4ebff;}#sk-container-id-1 div.sk-label input.sk-toggleable__control:checked~label.sk-toggleable__label {background-color: #d4ebff;}#sk-container-id-1 input.sk-hidden--visually {border: 0;clip: rect(1px 1px 1px 1px);clip: rect(1px, 1px, 1px, 1px);height: 1px;margin: -1px;overflow: hidden;padding: 0;position: absolute;width: 1px;}#sk-container-id-1 div.sk-estimator {font-family: monospace;background-color: #f0f8ff;border: 1px dotted black;border-radius: 0.25em;box-sizing: border-box;margin-bottom: 0.5em;}#sk-container-id-1 div.sk-estimator:hover {background-color: #d4ebff;}#sk-container-id-1 div.sk-parallel-item::after {content: \"\";width: 100%;border-bottom: 1px solid gray;flex-grow: 1;}#sk-container-id-1 div.sk-label:hover label.sk-toggleable__label {background-color: #d4ebff;}#sk-container-id-1 div.sk-serial::before {content: \"\";position: absolute;border-left: 1px solid gray;box-sizing: border-box;top: 0;bottom: 0;left: 50%;z-index: 0;}#sk-container-id-1 div.sk-serial {display: flex;flex-direction: column;align-items: center;background-color: white;padding-right: 0.2em;padding-left: 0.2em;position: relative;}#sk-container-id-1 div.sk-item {position: relative;z-index: 1;}#sk-container-id-1 div.sk-parallel {display: flex;align-items: stretch;justify-content: center;background-color: white;position: relative;}#sk-container-id-1 div.sk-item::before, #sk-container-id-1 div.sk-parallel-item::before {content: \"\";position: absolute;border-left: 1px solid gray;box-sizing: border-box;top: 0;bottom: 0;left: 50%;z-index: -1;}#sk-container-id-1 div.sk-parallel-item {display: flex;flex-direction: column;z-index: 1;position: relative;background-color: white;}#sk-container-id-1 div.sk-parallel-item:first-child::after {align-self: flex-end;width: 50%;}#sk-container-id-1 div.sk-parallel-item:last-child::after {align-self: flex-start;width: 50%;}#sk-container-id-1 div.sk-parallel-item:only-child::after {width: 0;}#sk-container-id-1 div.sk-dashed-wrapped {border: 1px dashed gray;margin: 0 0.4em 0.5em 0.4em;box-sizing: border-box;padding-bottom: 0.4em;background-color: white;}#sk-container-id-1 div.sk-label label {font-family: monospace;font-weight: bold;display: inline-block;line-height: 1.2em;}#sk-container-id-1 div.sk-label-container {text-align: center;}#sk-container-id-1 div.sk-container {/* jupyter's `normalize.less` sets `[hidden] { display: none; }` but bootstrap.min.css set `[hidden] { display: none !important; }` so we also need the `!important` here to be able to override the default hidden behavior on the sphinx rendered scikit-learn.org. See: https://github.com/scikit-learn/scikit-learn/issues/21755 */display: inline-block !important;position: relative;}#sk-container-id-1 div.sk-text-repr-fallback {display: none;}</style><div id=\"sk-container-id-1\" class=\"sk-top-container\"><div class=\"sk-text-repr-fallback\"><pre>VotingClassifier(estimators=[(&#x27;Gradient Boosting Classifier&#x27;,\n",
              "                              GradientBoostingClassifier()),\n",
              "                             (&#x27;Cat Boost Classifier&#x27;,\n",
              "                              &lt;catboost.core.CatBoostClassifier object at 0x7f83d62cf040&gt;),\n",
              "                             (&#x27;XGboost&#x27;,\n",
              "                              XGBClassifier(base_score=None, booster=&#x27;gbtree&#x27;,\n",
              "                                            callbacks=None,\n",
              "                                            colsample_bylevel=None,\n",
              "                                            colsample_bynode=None,\n",
              "                                            colsample_bytree=None,\n",
              "                                            early_stopping_rounds=None,\n",
              "                                            enable_categor...\n",
              "                                            num_parallel_tree=None,\n",
              "                                            predictor=None, random_state=None, ...)),\n",
              "                             (&#x27;Decision Tree&#x27;, DecisionTreeClassifier()),\n",
              "                             (&#x27;Extra Tree&#x27;, ExtraTreesClassifier()),\n",
              "                             (&#x27;Light Gradient&#x27;,\n",
              "                              LGBMClassifier(learning_rate=1)),\n",
              "                             (&#x27;Random Forest&#x27;, RandomForestClassifier()),\n",
              "                             (&#x27;Ada Boost&#x27;,\n",
              "                              AdaBoostClassifier(base_estimator=DecisionTreeClassifier())),\n",
              "                             (&#x27;Logistic&#x27;, LogisticRegression()),\n",
              "                             (&#x27;Knn&#x27;, KNeighborsClassifier())])</pre><b>In a Jupyter environment, please rerun this cell to show the HTML representation or trust the notebook. <br />On GitHub, the HTML representation is unable to render, please try loading this page with nbviewer.org.</b></div><div class=\"sk-container\" hidden><div class=\"sk-item sk-dashed-wrapped\"><div class=\"sk-label-container\"><div class=\"sk-label sk-toggleable\"><input class=\"sk-toggleable__control sk-hidden--visually\" id=\"sk-estimator-id-1\" type=\"checkbox\" ><label for=\"sk-estimator-id-1\" class=\"sk-toggleable__label sk-toggleable__label-arrow\">VotingClassifier</label><div class=\"sk-toggleable__content\"><pre>VotingClassifier(estimators=[(&#x27;Gradient Boosting Classifier&#x27;,\n",
              "                              GradientBoostingClassifier()),\n",
              "                             (&#x27;Cat Boost Classifier&#x27;,\n",
              "                              &lt;catboost.core.CatBoostClassifier object at 0x7f83d62cf040&gt;),\n",
              "                             (&#x27;XGboost&#x27;,\n",
              "                              XGBClassifier(base_score=None, booster=&#x27;gbtree&#x27;,\n",
              "                                            callbacks=None,\n",
              "                                            colsample_bylevel=None,\n",
              "                                            colsample_bynode=None,\n",
              "                                            colsample_bytree=None,\n",
              "                                            early_stopping_rounds=None,\n",
              "                                            enable_categor...\n",
              "                                            num_parallel_tree=None,\n",
              "                                            predictor=None, random_state=None, ...)),\n",
              "                             (&#x27;Decision Tree&#x27;, DecisionTreeClassifier()),\n",
              "                             (&#x27;Extra Tree&#x27;, ExtraTreesClassifier()),\n",
              "                             (&#x27;Light Gradient&#x27;,\n",
              "                              LGBMClassifier(learning_rate=1)),\n",
              "                             (&#x27;Random Forest&#x27;, RandomForestClassifier()),\n",
              "                             (&#x27;Ada Boost&#x27;,\n",
              "                              AdaBoostClassifier(base_estimator=DecisionTreeClassifier())),\n",
              "                             (&#x27;Logistic&#x27;, LogisticRegression()),\n",
              "                             (&#x27;Knn&#x27;, KNeighborsClassifier())])</pre></div></div></div><div class=\"sk-parallel\"><div class=\"sk-parallel-item\"><div class=\"sk-item\"><div class=\"sk-label-container\"><div class=\"sk-label sk-toggleable\"><label>Gradient Boosting Classifier</label></div></div><div class=\"sk-serial\"><div class=\"sk-item\"><div class=\"sk-estimator sk-toggleable\"><input class=\"sk-toggleable__control sk-hidden--visually\" id=\"sk-estimator-id-2\" type=\"checkbox\" ><label for=\"sk-estimator-id-2\" class=\"sk-toggleable__label sk-toggleable__label-arrow\">GradientBoostingClassifier</label><div class=\"sk-toggleable__content\"><pre>GradientBoostingClassifier()</pre></div></div></div></div></div></div><div class=\"sk-parallel-item\"><div class=\"sk-item\"><div class=\"sk-label-container\"><div class=\"sk-label sk-toggleable\"><label>Cat Boost Classifier</label></div></div><div class=\"sk-serial\"><div class=\"sk-item\"><div class=\"sk-estimator sk-toggleable\"><input class=\"sk-toggleable__control sk-hidden--visually\" id=\"sk-estimator-id-3\" type=\"checkbox\" ><label for=\"sk-estimator-id-3\" class=\"sk-toggleable__label sk-toggleable__label-arrow\">CatBoostClassifier</label><div class=\"sk-toggleable__content\"><pre>&lt;catboost.core.CatBoostClassifier object at 0x7f83d62cf040&gt;</pre></div></div></div></div></div></div><div class=\"sk-parallel-item\"><div class=\"sk-item\"><div class=\"sk-label-container\"><div class=\"sk-label sk-toggleable\"><label>XGboost</label></div></div><div class=\"sk-serial\"><div class=\"sk-item\"><div class=\"sk-estimator sk-toggleable\"><input class=\"sk-toggleable__control sk-hidden--visually\" id=\"sk-estimator-id-4\" type=\"checkbox\" ><label for=\"sk-estimator-id-4\" class=\"sk-toggleable__label sk-toggleable__label-arrow\">XGBClassifier</label><div class=\"sk-toggleable__content\"><pre>XGBClassifier(base_score=None, booster=&#x27;gbtree&#x27;, callbacks=None,\n",
              "              colsample_bylevel=None, colsample_bynode=None,\n",
              "              colsample_bytree=None, early_stopping_rounds=None,\n",
              "              enable_categorical=False, eval_metric=None, feature_types=None,\n",
              "              gamma=None, gpu_id=None, grow_policy=None, importance_type=None,\n",
              "              interaction_constraints=None, learning_rate=0.1, max_bin=None,\n",
              "              max_cat_threshold=None, max_cat_to_onehot=None,\n",
              "              max_delta_step=None, max_depth=5, max_leaves=None,\n",
              "              min_child_weight=None, missing=nan, monotone_constraints=None,\n",
              "              n_estimators=180, n_jobs=None, num_parallel_tree=None,\n",
              "              predictor=None, random_state=None, ...)</pre></div></div></div></div></div></div><div class=\"sk-parallel-item\"><div class=\"sk-item\"><div class=\"sk-label-container\"><div class=\"sk-label sk-toggleable\"><label>Decision Tree</label></div></div><div class=\"sk-serial\"><div class=\"sk-item\"><div class=\"sk-estimator sk-toggleable\"><input class=\"sk-toggleable__control sk-hidden--visually\" id=\"sk-estimator-id-5\" type=\"checkbox\" ><label for=\"sk-estimator-id-5\" class=\"sk-toggleable__label sk-toggleable__label-arrow\">DecisionTreeClassifier</label><div class=\"sk-toggleable__content\"><pre>DecisionTreeClassifier()</pre></div></div></div></div></div></div><div class=\"sk-parallel-item\"><div class=\"sk-item\"><div class=\"sk-label-container\"><div class=\"sk-label sk-toggleable\"><label>Extra Tree</label></div></div><div class=\"sk-serial\"><div class=\"sk-item\"><div class=\"sk-estimator sk-toggleable\"><input class=\"sk-toggleable__control sk-hidden--visually\" id=\"sk-estimator-id-6\" type=\"checkbox\" ><label for=\"sk-estimator-id-6\" class=\"sk-toggleable__label sk-toggleable__label-arrow\">ExtraTreesClassifier</label><div class=\"sk-toggleable__content\"><pre>ExtraTreesClassifier()</pre></div></div></div></div></div></div><div class=\"sk-parallel-item\"><div class=\"sk-item\"><div class=\"sk-label-container\"><div class=\"sk-label sk-toggleable\"><label>Light Gradient</label></div></div><div class=\"sk-serial\"><div class=\"sk-item\"><div class=\"sk-estimator sk-toggleable\"><input class=\"sk-toggleable__control sk-hidden--visually\" id=\"sk-estimator-id-7\" type=\"checkbox\" ><label for=\"sk-estimator-id-7\" class=\"sk-toggleable__label sk-toggleable__label-arrow\">LGBMClassifier</label><div class=\"sk-toggleable__content\"><pre>LGBMClassifier(learning_rate=1)</pre></div></div></div></div></div></div><div class=\"sk-parallel-item\"><div class=\"sk-item\"><div class=\"sk-label-container\"><div class=\"sk-label sk-toggleable\"><label>Random Forest</label></div></div><div class=\"sk-serial\"><div class=\"sk-item\"><div class=\"sk-estimator sk-toggleable\"><input class=\"sk-toggleable__control sk-hidden--visually\" id=\"sk-estimator-id-8\" type=\"checkbox\" ><label for=\"sk-estimator-id-8\" class=\"sk-toggleable__label sk-toggleable__label-arrow\">RandomForestClassifier</label><div class=\"sk-toggleable__content\"><pre>RandomForestClassifier()</pre></div></div></div></div></div></div><div class=\"sk-parallel-item\"><div class=\"sk-item\"><div class=\"sk-label-container\"><div class=\"sk-label sk-toggleable\"><label>Ada Boost</label></div></div><div class=\"sk-serial\"><div class=\"sk-item sk-dashed-wrapped\"><div class=\"sk-parallel\"><div class=\"sk-parallel-item\"><div class=\"sk-item\"><div class=\"sk-label-container\"><div class=\"sk-label sk-toggleable\"><input class=\"sk-toggleable__control sk-hidden--visually\" id=\"sk-estimator-id-9\" type=\"checkbox\" ><label for=\"sk-estimator-id-9\" class=\"sk-toggleable__label sk-toggleable__label-arrow\">base_estimator: DecisionTreeClassifier</label><div class=\"sk-toggleable__content\"><pre>DecisionTreeClassifier()</pre></div></div></div><div class=\"sk-serial\"><div class=\"sk-item\"><div class=\"sk-estimator sk-toggleable\"><input class=\"sk-toggleable__control sk-hidden--visually\" id=\"sk-estimator-id-10\" type=\"checkbox\" ><label for=\"sk-estimator-id-10\" class=\"sk-toggleable__label sk-toggleable__label-arrow\">DecisionTreeClassifier</label><div class=\"sk-toggleable__content\"><pre>DecisionTreeClassifier()</pre></div></div></div></div></div></div></div></div></div></div></div><div class=\"sk-parallel-item\"><div class=\"sk-item\"><div class=\"sk-label-container\"><div class=\"sk-label sk-toggleable\"><label>Logistic</label></div></div><div class=\"sk-serial\"><div class=\"sk-item\"><div class=\"sk-estimator sk-toggleable\"><input class=\"sk-toggleable__control sk-hidden--visually\" id=\"sk-estimator-id-11\" type=\"checkbox\" ><label for=\"sk-estimator-id-11\" class=\"sk-toggleable__label sk-toggleable__label-arrow\">LogisticRegression</label><div class=\"sk-toggleable__content\"><pre>LogisticRegression()</pre></div></div></div></div></div></div><div class=\"sk-parallel-item\"><div class=\"sk-item\"><div class=\"sk-label-container\"><div class=\"sk-label sk-toggleable\"><label>Knn</label></div></div><div class=\"sk-serial\"><div class=\"sk-item\"><div class=\"sk-estimator sk-toggleable\"><input class=\"sk-toggleable__control sk-hidden--visually\" id=\"sk-estimator-id-12\" type=\"checkbox\" ><label for=\"sk-estimator-id-12\" class=\"sk-toggleable__label sk-toggleable__label-arrow\">KNeighborsClassifier</label><div class=\"sk-toggleable__content\"><pre>KNeighborsClassifier()</pre></div></div></div></div></div></div></div></div></div></div>"
            ]
          },
          "metadata": {},
          "execution_count": 84
        }
      ]
    },
    {
      "cell_type": "code",
      "source": [
        "y_pred_vc = vc.predict(X_test)\n",
        "\n",
        "acc_vtc = accuracy_score(y_test, y_pred_vc)\n",
        "conf = confusion_matrix(y_test, y_pred_vc)\n",
        "clf_report = classification_report(y_test, y_pred_vc)\n",
        "\n",
        "print(f\"Accuracy Score of Ada Boost Classifier is : {acc_vtc}\")\n",
        "print(f\"Confusion Matrix : \\n{conf}\")\n",
        "print(f\"Classification Report : \\n{clf_report}\")"
      ],
      "metadata": {
        "colab": {
          "base_uri": "https://localhost:8080/"
        },
        "id": "sdAAIBlZrWqP",
        "outputId": "7c84b746-c8dd-4142-9dad-06c9101c78bc"
      },
      "id": "sdAAIBlZrWqP",
      "execution_count": 85,
      "outputs": [
        {
          "output_type": "stream",
          "name": "stdout",
          "text": [
            "Accuracy Score of Ada Boost Classifier is : 0.9354207436399217\n",
            "Confusion Matrix : \n",
            "[[8019   53]\n",
            " [ 508  107]]\n",
            "Classification Report : \n",
            "              precision    recall  f1-score   support\n",
            "\n",
            "           0       0.94      0.99      0.97      8072\n",
            "           1       0.67      0.17      0.28       615\n",
            "\n",
            "    accuracy                           0.94      8687\n",
            "   macro avg       0.80      0.58      0.62      8687\n",
            "weighted avg       0.92      0.94      0.92      8687\n",
            "\n"
          ]
        }
      ]
    },
    {
      "cell_type": "code",
      "source": [
        "models = pd.DataFrame({\n",
        "    'Model' : ['Logistic Regression', 'KNN', 'Decision Tree Classifier', 'Random Forest Classifier','Ada Boost Classifier',\n",
        "             'Gradient Boosting Classifier', 'XgBoost', 'Cat Boost', 'Extra Trees Classifier', 'LGBM', 'Voting Classifier'\n",
        "               ],\n",
        "    'Score' : [acc_lr, acc_knn, acc_dtc, acc_rd_clf, acc_ada, acc_gb, acc_xgb, acc_cat, acc_etc, acc_lgbm, acc_vtc]\n",
        "})\n",
        "\n",
        "\n",
        "models.sort_values(by = 'Score', ascending = False)"
      ],
      "metadata": {
        "colab": {
          "base_uri": "https://localhost:8080/",
          "height": 394
        },
        "id": "25UO9uDersD2",
        "outputId": "9e5ce808-a0d5-44ff-cbdb-f13d1ad33363"
      },
      "id": "25UO9uDersD2",
      "execution_count": 86,
      "outputs": [
        {
          "output_type": "execute_result",
          "data": {
            "text/plain": [
              "                           Model     Score\n",
              "6                        XgBoost  0.936111\n",
              "5   Gradient Boosting Classifier  0.935421\n",
              "10             Voting Classifier  0.935421\n",
              "3       Random Forest Classifier  0.935306\n",
              "7                      Cat Boost  0.933694\n",
              "0            Logistic Regression  0.928514\n",
              "1                            KNN  0.924600\n",
              "8         Extra Trees Classifier  0.919074\n",
              "9                           LGBM  0.911132\n",
              "4           Ada Boost Classifier  0.903649\n",
              "2       Decision Tree Classifier  0.902383"
            ],
            "text/html": [
              "\n",
              "  <div id=\"df-d19bd7d6-b57a-4694-a799-18b13d95460c\">\n",
              "    <div class=\"colab-df-container\">\n",
              "      <div>\n",
              "<style scoped>\n",
              "    .dataframe tbody tr th:only-of-type {\n",
              "        vertical-align: middle;\n",
              "    }\n",
              "\n",
              "    .dataframe tbody tr th {\n",
              "        vertical-align: top;\n",
              "    }\n",
              "\n",
              "    .dataframe thead th {\n",
              "        text-align: right;\n",
              "    }\n",
              "</style>\n",
              "<table border=\"1\" class=\"dataframe\">\n",
              "  <thead>\n",
              "    <tr style=\"text-align: right;\">\n",
              "      <th></th>\n",
              "      <th>Model</th>\n",
              "      <th>Score</th>\n",
              "    </tr>\n",
              "  </thead>\n",
              "  <tbody>\n",
              "    <tr>\n",
              "      <th>6</th>\n",
              "      <td>XgBoost</td>\n",
              "      <td>0.936111</td>\n",
              "    </tr>\n",
              "    <tr>\n",
              "      <th>5</th>\n",
              "      <td>Gradient Boosting Classifier</td>\n",
              "      <td>0.935421</td>\n",
              "    </tr>\n",
              "    <tr>\n",
              "      <th>10</th>\n",
              "      <td>Voting Classifier</td>\n",
              "      <td>0.935421</td>\n",
              "    </tr>\n",
              "    <tr>\n",
              "      <th>3</th>\n",
              "      <td>Random Forest Classifier</td>\n",
              "      <td>0.935306</td>\n",
              "    </tr>\n",
              "    <tr>\n",
              "      <th>7</th>\n",
              "      <td>Cat Boost</td>\n",
              "      <td>0.933694</td>\n",
              "    </tr>\n",
              "    <tr>\n",
              "      <th>0</th>\n",
              "      <td>Logistic Regression</td>\n",
              "      <td>0.928514</td>\n",
              "    </tr>\n",
              "    <tr>\n",
              "      <th>1</th>\n",
              "      <td>KNN</td>\n",
              "      <td>0.924600</td>\n",
              "    </tr>\n",
              "    <tr>\n",
              "      <th>8</th>\n",
              "      <td>Extra Trees Classifier</td>\n",
              "      <td>0.919074</td>\n",
              "    </tr>\n",
              "    <tr>\n",
              "      <th>9</th>\n",
              "      <td>LGBM</td>\n",
              "      <td>0.911132</td>\n",
              "    </tr>\n",
              "    <tr>\n",
              "      <th>4</th>\n",
              "      <td>Ada Boost Classifier</td>\n",
              "      <td>0.903649</td>\n",
              "    </tr>\n",
              "    <tr>\n",
              "      <th>2</th>\n",
              "      <td>Decision Tree Classifier</td>\n",
              "      <td>0.902383</td>\n",
              "    </tr>\n",
              "  </tbody>\n",
              "</table>\n",
              "</div>\n",
              "      <button class=\"colab-df-convert\" onclick=\"convertToInteractive('df-d19bd7d6-b57a-4694-a799-18b13d95460c')\"\n",
              "              title=\"Convert this dataframe to an interactive table.\"\n",
              "              style=\"display:none;\">\n",
              "        \n",
              "  <svg xmlns=\"http://www.w3.org/2000/svg\" height=\"24px\"viewBox=\"0 0 24 24\"\n",
              "       width=\"24px\">\n",
              "    <path d=\"M0 0h24v24H0V0z\" fill=\"none\"/>\n",
              "    <path d=\"M18.56 5.44l.94 2.06.94-2.06 2.06-.94-2.06-.94-.94-2.06-.94 2.06-2.06.94zm-11 1L8.5 8.5l.94-2.06 2.06-.94-2.06-.94L8.5 2.5l-.94 2.06-2.06.94zm10 10l.94 2.06.94-2.06 2.06-.94-2.06-.94-.94-2.06-.94 2.06-2.06.94z\"/><path d=\"M17.41 7.96l-1.37-1.37c-.4-.4-.92-.59-1.43-.59-.52 0-1.04.2-1.43.59L10.3 9.45l-7.72 7.72c-.78.78-.78 2.05 0 2.83L4 21.41c.39.39.9.59 1.41.59.51 0 1.02-.2 1.41-.59l7.78-7.78 2.81-2.81c.8-.78.8-2.07 0-2.86zM5.41 20L4 18.59l7.72-7.72 1.47 1.35L5.41 20z\"/>\n",
              "  </svg>\n",
              "      </button>\n",
              "      \n",
              "  <style>\n",
              "    .colab-df-container {\n",
              "      display:flex;\n",
              "      flex-wrap:wrap;\n",
              "      gap: 12px;\n",
              "    }\n",
              "\n",
              "    .colab-df-convert {\n",
              "      background-color: #E8F0FE;\n",
              "      border: none;\n",
              "      border-radius: 50%;\n",
              "      cursor: pointer;\n",
              "      display: none;\n",
              "      fill: #1967D2;\n",
              "      height: 32px;\n",
              "      padding: 0 0 0 0;\n",
              "      width: 32px;\n",
              "    }\n",
              "\n",
              "    .colab-df-convert:hover {\n",
              "      background-color: #E2EBFA;\n",
              "      box-shadow: 0px 1px 2px rgba(60, 64, 67, 0.3), 0px 1px 3px 1px rgba(60, 64, 67, 0.15);\n",
              "      fill: #174EA6;\n",
              "    }\n",
              "\n",
              "    [theme=dark] .colab-df-convert {\n",
              "      background-color: #3B4455;\n",
              "      fill: #D2E3FC;\n",
              "    }\n",
              "\n",
              "    [theme=dark] .colab-df-convert:hover {\n",
              "      background-color: #434B5C;\n",
              "      box-shadow: 0px 1px 3px 1px rgba(0, 0, 0, 0.15);\n",
              "      filter: drop-shadow(0px 1px 2px rgba(0, 0, 0, 0.3));\n",
              "      fill: #FFFFFF;\n",
              "    }\n",
              "  </style>\n",
              "\n",
              "      <script>\n",
              "        const buttonEl =\n",
              "          document.querySelector('#df-d19bd7d6-b57a-4694-a799-18b13d95460c button.colab-df-convert');\n",
              "        buttonEl.style.display =\n",
              "          google.colab.kernel.accessAllowed ? 'block' : 'none';\n",
              "\n",
              "        async function convertToInteractive(key) {\n",
              "          const element = document.querySelector('#df-d19bd7d6-b57a-4694-a799-18b13d95460c');\n",
              "          const dataTable =\n",
              "            await google.colab.kernel.invokeFunction('convertToInteractive',\n",
              "                                                     [key], {});\n",
              "          if (!dataTable) return;\n",
              "\n",
              "          const docLinkHtml = 'Like what you see? Visit the ' +\n",
              "            '<a target=\"_blank\" href=https://colab.research.google.com/notebooks/data_table.ipynb>data table notebook</a>'\n",
              "            + ' to learn more about interactive tables.';\n",
              "          element.innerHTML = '';\n",
              "          dataTable['output_type'] = 'display_data';\n",
              "          await google.colab.output.renderOutput(dataTable, element);\n",
              "          const docLink = document.createElement('div');\n",
              "          docLink.innerHTML = docLinkHtml;\n",
              "          element.appendChild(docLink);\n",
              "        }\n",
              "      </script>\n",
              "    </div>\n",
              "  </div>\n",
              "  "
            ]
          },
          "metadata": {},
          "execution_count": 86
        }
      ]
    },
    {
      "cell_type": "code",
      "source": [
        "px.bar(data_frame = models, x = 'Score', y = 'Model', color = 'Score', template = 'plotly_dark', title = 'Models Comparison')"
      ],
      "metadata": {
        "colab": {
          "base_uri": "https://localhost:8080/",
          "height": 542
        },
        "id": "WMg0Rpw6ryCA",
        "outputId": "02ab6ed3-214b-41b8-db00-9bc896a15489"
      },
      "id": "WMg0Rpw6ryCA",
      "execution_count": 87,
      "outputs": [
        {
          "output_type": "display_data",
          "data": {
            "text/html": [
              "<html>\n",
              "<head><meta charset=\"utf-8\" /></head>\n",
              "<body>\n",
              "    <div>            <script src=\"https://cdnjs.cloudflare.com/ajax/libs/mathjax/2.7.5/MathJax.js?config=TeX-AMS-MML_SVG\"></script><script type=\"text/javascript\">if (window.MathJax && window.MathJax.Hub && window.MathJax.Hub.Config) {window.MathJax.Hub.Config({SVG: {font: \"STIX-Web\"}});}</script>                <script type=\"text/javascript\">window.PlotlyConfig = {MathJaxConfig: 'local'};</script>\n",
              "        <script src=\"https://cdn.plot.ly/plotly-2.18.2.min.js\"></script>                <div id=\"3baaa8c1-60d7-48a2-9c70-77e89da48443\" class=\"plotly-graph-div\" style=\"height:525px; width:100%;\"></div>            <script type=\"text/javascript\">                                    window.PLOTLYENV=window.PLOTLYENV || {};                                    if (document.getElementById(\"3baaa8c1-60d7-48a2-9c70-77e89da48443\")) {                    Plotly.newPlot(                        \"3baaa8c1-60d7-48a2-9c70-77e89da48443\",                        [{\"alignmentgroup\":\"True\",\"hovertemplate\":\"Score=%{marker.color}<br>Model=%{y}<extra></extra>\",\"legendgroup\":\"\",\"marker\":{\"color\":[0.9285138713019454,0.9245999769770922,0.9023828709566019,0.9353056291009555,0.9036491308852308,0.9354207436399217,0.9361114308737194,0.9336940255554277,0.9190744791067111,0.9111315759180384,0.9354207436399217],\"coloraxis\":\"coloraxis\",\"pattern\":{\"shape\":\"\"}},\"name\":\"\",\"offsetgroup\":\"\",\"orientation\":\"h\",\"showlegend\":false,\"textposition\":\"auto\",\"x\":[0.9285138713019454,0.9245999769770922,0.9023828709566019,0.9353056291009555,0.9036491308852308,0.9354207436399217,0.9361114308737194,0.9336940255554277,0.9190744791067111,0.9111315759180384,0.9354207436399217],\"xaxis\":\"x\",\"y\":[\"Logistic Regression\",\"KNN\",\"Decision Tree Classifier\",\"Random Forest Classifier\",\"Ada Boost Classifier\",\"Gradient Boosting Classifier\",\"XgBoost\",\"Cat Boost\",\"Extra Trees Classifier\",\"LGBM\",\"Voting Classifier\"],\"yaxis\":\"y\",\"type\":\"bar\"}],                        {\"template\":{\"data\":{\"barpolar\":[{\"marker\":{\"line\":{\"color\":\"rgb(17,17,17)\",\"width\":0.5},\"pattern\":{\"fillmode\":\"overlay\",\"size\":10,\"solidity\":0.2}},\"type\":\"barpolar\"}],\"bar\":[{\"error_x\":{\"color\":\"#f2f5fa\"},\"error_y\":{\"color\":\"#f2f5fa\"},\"marker\":{\"line\":{\"color\":\"rgb(17,17,17)\",\"width\":0.5},\"pattern\":{\"fillmode\":\"overlay\",\"size\":10,\"solidity\":0.2}},\"type\":\"bar\"}],\"carpet\":[{\"aaxis\":{\"endlinecolor\":\"#A2B1C6\",\"gridcolor\":\"#506784\",\"linecolor\":\"#506784\",\"minorgridcolor\":\"#506784\",\"startlinecolor\":\"#A2B1C6\"},\"baxis\":{\"endlinecolor\":\"#A2B1C6\",\"gridcolor\":\"#506784\",\"linecolor\":\"#506784\",\"minorgridcolor\":\"#506784\",\"startlinecolor\":\"#A2B1C6\"},\"type\":\"carpet\"}],\"choropleth\":[{\"colorbar\":{\"outlinewidth\":0,\"ticks\":\"\"},\"type\":\"choropleth\"}],\"contourcarpet\":[{\"colorbar\":{\"outlinewidth\":0,\"ticks\":\"\"},\"type\":\"contourcarpet\"}],\"contour\":[{\"colorbar\":{\"outlinewidth\":0,\"ticks\":\"\"},\"colorscale\":[[0.0,\"#0d0887\"],[0.1111111111111111,\"#46039f\"],[0.2222222222222222,\"#7201a8\"],[0.3333333333333333,\"#9c179e\"],[0.4444444444444444,\"#bd3786\"],[0.5555555555555556,\"#d8576b\"],[0.6666666666666666,\"#ed7953\"],[0.7777777777777778,\"#fb9f3a\"],[0.8888888888888888,\"#fdca26\"],[1.0,\"#f0f921\"]],\"type\":\"contour\"}],\"heatmapgl\":[{\"colorbar\":{\"outlinewidth\":0,\"ticks\":\"\"},\"colorscale\":[[0.0,\"#0d0887\"],[0.1111111111111111,\"#46039f\"],[0.2222222222222222,\"#7201a8\"],[0.3333333333333333,\"#9c179e\"],[0.4444444444444444,\"#bd3786\"],[0.5555555555555556,\"#d8576b\"],[0.6666666666666666,\"#ed7953\"],[0.7777777777777778,\"#fb9f3a\"],[0.8888888888888888,\"#fdca26\"],[1.0,\"#f0f921\"]],\"type\":\"heatmapgl\"}],\"heatmap\":[{\"colorbar\":{\"outlinewidth\":0,\"ticks\":\"\"},\"colorscale\":[[0.0,\"#0d0887\"],[0.1111111111111111,\"#46039f\"],[0.2222222222222222,\"#7201a8\"],[0.3333333333333333,\"#9c179e\"],[0.4444444444444444,\"#bd3786\"],[0.5555555555555556,\"#d8576b\"],[0.6666666666666666,\"#ed7953\"],[0.7777777777777778,\"#fb9f3a\"],[0.8888888888888888,\"#fdca26\"],[1.0,\"#f0f921\"]],\"type\":\"heatmap\"}],\"histogram2dcontour\":[{\"colorbar\":{\"outlinewidth\":0,\"ticks\":\"\"},\"colorscale\":[[0.0,\"#0d0887\"],[0.1111111111111111,\"#46039f\"],[0.2222222222222222,\"#7201a8\"],[0.3333333333333333,\"#9c179e\"],[0.4444444444444444,\"#bd3786\"],[0.5555555555555556,\"#d8576b\"],[0.6666666666666666,\"#ed7953\"],[0.7777777777777778,\"#fb9f3a\"],[0.8888888888888888,\"#fdca26\"],[1.0,\"#f0f921\"]],\"type\":\"histogram2dcontour\"}],\"histogram2d\":[{\"colorbar\":{\"outlinewidth\":0,\"ticks\":\"\"},\"colorscale\":[[0.0,\"#0d0887\"],[0.1111111111111111,\"#46039f\"],[0.2222222222222222,\"#7201a8\"],[0.3333333333333333,\"#9c179e\"],[0.4444444444444444,\"#bd3786\"],[0.5555555555555556,\"#d8576b\"],[0.6666666666666666,\"#ed7953\"],[0.7777777777777778,\"#fb9f3a\"],[0.8888888888888888,\"#fdca26\"],[1.0,\"#f0f921\"]],\"type\":\"histogram2d\"}],\"histogram\":[{\"marker\":{\"pattern\":{\"fillmode\":\"overlay\",\"size\":10,\"solidity\":0.2}},\"type\":\"histogram\"}],\"mesh3d\":[{\"colorbar\":{\"outlinewidth\":0,\"ticks\":\"\"},\"type\":\"mesh3d\"}],\"parcoords\":[{\"line\":{\"colorbar\":{\"outlinewidth\":0,\"ticks\":\"\"}},\"type\":\"parcoords\"}],\"pie\":[{\"automargin\":true,\"type\":\"pie\"}],\"scatter3d\":[{\"line\":{\"colorbar\":{\"outlinewidth\":0,\"ticks\":\"\"}},\"marker\":{\"colorbar\":{\"outlinewidth\":0,\"ticks\":\"\"}},\"type\":\"scatter3d\"}],\"scattercarpet\":[{\"marker\":{\"colorbar\":{\"outlinewidth\":0,\"ticks\":\"\"}},\"type\":\"scattercarpet\"}],\"scattergeo\":[{\"marker\":{\"colorbar\":{\"outlinewidth\":0,\"ticks\":\"\"}},\"type\":\"scattergeo\"}],\"scattergl\":[{\"marker\":{\"line\":{\"color\":\"#283442\"}},\"type\":\"scattergl\"}],\"scattermapbox\":[{\"marker\":{\"colorbar\":{\"outlinewidth\":0,\"ticks\":\"\"}},\"type\":\"scattermapbox\"}],\"scatterpolargl\":[{\"marker\":{\"colorbar\":{\"outlinewidth\":0,\"ticks\":\"\"}},\"type\":\"scatterpolargl\"}],\"scatterpolar\":[{\"marker\":{\"colorbar\":{\"outlinewidth\":0,\"ticks\":\"\"}},\"type\":\"scatterpolar\"}],\"scatter\":[{\"marker\":{\"line\":{\"color\":\"#283442\"}},\"type\":\"scatter\"}],\"scatterternary\":[{\"marker\":{\"colorbar\":{\"outlinewidth\":0,\"ticks\":\"\"}},\"type\":\"scatterternary\"}],\"surface\":[{\"colorbar\":{\"outlinewidth\":0,\"ticks\":\"\"},\"colorscale\":[[0.0,\"#0d0887\"],[0.1111111111111111,\"#46039f\"],[0.2222222222222222,\"#7201a8\"],[0.3333333333333333,\"#9c179e\"],[0.4444444444444444,\"#bd3786\"],[0.5555555555555556,\"#d8576b\"],[0.6666666666666666,\"#ed7953\"],[0.7777777777777778,\"#fb9f3a\"],[0.8888888888888888,\"#fdca26\"],[1.0,\"#f0f921\"]],\"type\":\"surface\"}],\"table\":[{\"cells\":{\"fill\":{\"color\":\"#506784\"},\"line\":{\"color\":\"rgb(17,17,17)\"}},\"header\":{\"fill\":{\"color\":\"#2a3f5f\"},\"line\":{\"color\":\"rgb(17,17,17)\"}},\"type\":\"table\"}]},\"layout\":{\"annotationdefaults\":{\"arrowcolor\":\"#f2f5fa\",\"arrowhead\":0,\"arrowwidth\":1},\"autotypenumbers\":\"strict\",\"coloraxis\":{\"colorbar\":{\"outlinewidth\":0,\"ticks\":\"\"}},\"colorscale\":{\"diverging\":[[0,\"#8e0152\"],[0.1,\"#c51b7d\"],[0.2,\"#de77ae\"],[0.3,\"#f1b6da\"],[0.4,\"#fde0ef\"],[0.5,\"#f7f7f7\"],[0.6,\"#e6f5d0\"],[0.7,\"#b8e186\"],[0.8,\"#7fbc41\"],[0.9,\"#4d9221\"],[1,\"#276419\"]],\"sequential\":[[0.0,\"#0d0887\"],[0.1111111111111111,\"#46039f\"],[0.2222222222222222,\"#7201a8\"],[0.3333333333333333,\"#9c179e\"],[0.4444444444444444,\"#bd3786\"],[0.5555555555555556,\"#d8576b\"],[0.6666666666666666,\"#ed7953\"],[0.7777777777777778,\"#fb9f3a\"],[0.8888888888888888,\"#fdca26\"],[1.0,\"#f0f921\"]],\"sequentialminus\":[[0.0,\"#0d0887\"],[0.1111111111111111,\"#46039f\"],[0.2222222222222222,\"#7201a8\"],[0.3333333333333333,\"#9c179e\"],[0.4444444444444444,\"#bd3786\"],[0.5555555555555556,\"#d8576b\"],[0.6666666666666666,\"#ed7953\"],[0.7777777777777778,\"#fb9f3a\"],[0.8888888888888888,\"#fdca26\"],[1.0,\"#f0f921\"]]},\"colorway\":[\"#636efa\",\"#EF553B\",\"#00cc96\",\"#ab63fa\",\"#FFA15A\",\"#19d3f3\",\"#FF6692\",\"#B6E880\",\"#FF97FF\",\"#FECB52\"],\"font\":{\"color\":\"#f2f5fa\"},\"geo\":{\"bgcolor\":\"rgb(17,17,17)\",\"lakecolor\":\"rgb(17,17,17)\",\"landcolor\":\"rgb(17,17,17)\",\"showlakes\":true,\"showland\":true,\"subunitcolor\":\"#506784\"},\"hoverlabel\":{\"align\":\"left\"},\"hovermode\":\"closest\",\"mapbox\":{\"style\":\"dark\"},\"paper_bgcolor\":\"rgb(17,17,17)\",\"plot_bgcolor\":\"rgb(17,17,17)\",\"polar\":{\"angularaxis\":{\"gridcolor\":\"#506784\",\"linecolor\":\"#506784\",\"ticks\":\"\"},\"bgcolor\":\"rgb(17,17,17)\",\"radialaxis\":{\"gridcolor\":\"#506784\",\"linecolor\":\"#506784\",\"ticks\":\"\"}},\"scene\":{\"xaxis\":{\"backgroundcolor\":\"rgb(17,17,17)\",\"gridcolor\":\"#506784\",\"gridwidth\":2,\"linecolor\":\"#506784\",\"showbackground\":true,\"ticks\":\"\",\"zerolinecolor\":\"#C8D4E3\"},\"yaxis\":{\"backgroundcolor\":\"rgb(17,17,17)\",\"gridcolor\":\"#506784\",\"gridwidth\":2,\"linecolor\":\"#506784\",\"showbackground\":true,\"ticks\":\"\",\"zerolinecolor\":\"#C8D4E3\"},\"zaxis\":{\"backgroundcolor\":\"rgb(17,17,17)\",\"gridcolor\":\"#506784\",\"gridwidth\":2,\"linecolor\":\"#506784\",\"showbackground\":true,\"ticks\":\"\",\"zerolinecolor\":\"#C8D4E3\"}},\"shapedefaults\":{\"line\":{\"color\":\"#f2f5fa\"}},\"sliderdefaults\":{\"bgcolor\":\"#C8D4E3\",\"bordercolor\":\"rgb(17,17,17)\",\"borderwidth\":1,\"tickwidth\":0},\"ternary\":{\"aaxis\":{\"gridcolor\":\"#506784\",\"linecolor\":\"#506784\",\"ticks\":\"\"},\"baxis\":{\"gridcolor\":\"#506784\",\"linecolor\":\"#506784\",\"ticks\":\"\"},\"bgcolor\":\"rgb(17,17,17)\",\"caxis\":{\"gridcolor\":\"#506784\",\"linecolor\":\"#506784\",\"ticks\":\"\"}},\"title\":{\"x\":0.05},\"updatemenudefaults\":{\"bgcolor\":\"#506784\",\"borderwidth\":0},\"xaxis\":{\"automargin\":true,\"gridcolor\":\"#283442\",\"linecolor\":\"#506784\",\"ticks\":\"\",\"title\":{\"standoff\":15},\"zerolinecolor\":\"#283442\",\"zerolinewidth\":2},\"yaxis\":{\"automargin\":true,\"gridcolor\":\"#283442\",\"linecolor\":\"#506784\",\"ticks\":\"\",\"title\":{\"standoff\":15},\"zerolinecolor\":\"#283442\",\"zerolinewidth\":2}}},\"xaxis\":{\"anchor\":\"y\",\"domain\":[0.0,1.0],\"title\":{\"text\":\"Score\"}},\"yaxis\":{\"anchor\":\"x\",\"domain\":[0.0,1.0],\"title\":{\"text\":\"Model\"}},\"coloraxis\":{\"colorbar\":{\"title\":{\"text\":\"Score\"}},\"colorscale\":[[0.0,\"#0d0887\"],[0.1111111111111111,\"#46039f\"],[0.2222222222222222,\"#7201a8\"],[0.3333333333333333,\"#9c179e\"],[0.4444444444444444,\"#bd3786\"],[0.5555555555555556,\"#d8576b\"],[0.6666666666666666,\"#ed7953\"],[0.7777777777777778,\"#fb9f3a\"],[0.8888888888888888,\"#fdca26\"],[1.0,\"#f0f921\"]]},\"legend\":{\"tracegroupgap\":0},\"title\":{\"text\":\"Models Comparison\"},\"barmode\":\"relative\"},                        {\"responsive\": true}                    ).then(function(){\n",
              "                            \n",
              "var gd = document.getElementById('3baaa8c1-60d7-48a2-9c70-77e89da48443');\n",
              "var x = new MutationObserver(function (mutations, observer) {{\n",
              "        var display = window.getComputedStyle(gd).display;\n",
              "        if (!display || display === 'none') {{\n",
              "            console.log([gd, 'removed!']);\n",
              "            Plotly.purge(gd);\n",
              "            observer.disconnect();\n",
              "        }}\n",
              "}});\n",
              "\n",
              "// Listen for the removal of the full notebook cells\n",
              "var notebookContainer = gd.closest('#notebook-container');\n",
              "if (notebookContainer) {{\n",
              "    x.observe(notebookContainer, {childList: true});\n",
              "}}\n",
              "\n",
              "// Listen for the clearing of the current output cell\n",
              "var outputEl = gd.closest('.output');\n",
              "if (outputEl) {{\n",
              "    x.observe(outputEl, {childList: true});\n",
              "}}\n",
              "\n",
              "                        })                };                            </script>        </div>\n",
              "</body>\n",
              "</html>"
            ]
          },
          "metadata": {}
        }
      ]
    },
    {
      "cell_type": "code",
      "source": [],
      "metadata": {
        "id": "kFXdOfwtuN9c"
      },
      "id": "kFXdOfwtuN9c",
      "execution_count": null,
      "outputs": []
    }
  ],
  "metadata": {
    "colab": {
      "provenance": []
    },
    "kernelspec": {
      "display_name": "Python 3",
      "language": "python",
      "name": "python3"
    },
    "language_info": {
      "codemirror_mode": {
        "name": "ipython",
        "version": 3
      },
      "file_extension": ".py",
      "mimetype": "text/x-python",
      "name": "python",
      "nbconvert_exporter": "python",
      "pygments_lexer": "ipython3",
      "version": "3.7.12"
    },
    "papermill": {
      "default_parameters": {},
      "duration": 186.112148,
      "end_time": "2022-03-14T19:38:38.651398",
      "environment_variables": {},
      "exception": null,
      "input_path": "__notebook__.ipynb",
      "output_path": "__notebook__.ipynb",
      "parameters": {},
      "start_time": "2022-03-14T19:35:32.539250",
      "version": "2.3.3"
    }
  },
  "nbformat": 4,
  "nbformat_minor": 5
}